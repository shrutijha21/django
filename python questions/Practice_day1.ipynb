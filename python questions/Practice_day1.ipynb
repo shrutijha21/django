{
 "cells": [
  {
   "cell_type": "code",
   "execution_count": 6,
   "id": "39eb1569-a224-4082-b52f-94b0c02e4232",
   "metadata": {},
   "outputs": [
    {
     "name": "stdout",
     "output_type": "stream",
     "text": [
      "Area of a rectangle=\n",
      "300\n"
     ]
    }
   ],
   "source": [
    "#to find area of a rectangle\n",
    "\n",
    "l=10\n",
    "b=30\n",
    "area=l*b\n",
    "print(\"Area of a rectangle=\")\n",
    "print(area)"
   ]
  },
  {
   "cell_type": "code",
   "execution_count": 8,
   "id": "7ba58442-5c1a-4d1c-a0e4-3994a2cbfb34",
   "metadata": {},
   "outputs": [
    {
     "name": "stdin",
     "output_type": "stream",
     "text": [
      "enter the name Shruti\n",
      "enter the age 23\n"
     ]
    },
    {
     "name": "stdout",
     "output_type": "stream",
     "text": [
      "Hi my name is Shrutiand I m 23 years old\n"
     ]
    }
   ],
   "source": [
    "#2nd :to take user input that is name and age and print the greeting message\n",
    "name=input(\"enter the name\")\n",
    "age=input(\"enter the age\")\n",
    "print(\"Hi my name is \"+name+\"and I m \"+age+\" years old\")"
   ]
  },
  {
   "cell_type": "code",
   "execution_count": 13,
   "id": "01eff79d-ed0b-474f-a96c-3689b2b647ba",
   "metadata": {},
   "outputs": [
    {
     "name": "stdin",
     "output_type": "stream",
     "text": [
      "enter the number 3\n"
     ]
    },
    {
     "name": "stdout",
     "output_type": "stream",
     "text": [
      "Odd number\n"
     ]
    }
   ],
   "source": [
    "#3rd:to check whether a number is even or odd\n",
    "#1st easy method\n",
    "\n",
    "a=int(input(\"enter the number\"))\n",
    "if a%2==0:\n",
    "    print('Even number')\n",
    "else:\n",
    "    print('Odd number')\n",
    "    "
   ]
  },
  {
   "cell_type": "code",
   "execution_count": 14,
   "id": "1b430694-1238-43f7-8695-ea90a99a0d8b",
   "metadata": {},
   "outputs": [],
   "source": [
    "#3rd : 2nd method with the help of function\n",
    "\n",
    "def even_or_odd(a):\n",
    "    if a%2==0:\n",
    "        return 'Even'\n",
    "    else:\n",
    "        return 'Odd'"
   ]
  },
  {
   "cell_type": "code",
   "execution_count": 15,
   "id": "0391ac10-19f5-4976-9b7e-9bfc09318275",
   "metadata": {},
   "outputs": [
    {
     "name": "stdin",
     "output_type": "stream",
     "text": [
      "enter a number 6\n"
     ]
    },
    {
     "name": "stdout",
     "output_type": "stream",
     "text": [
      "Even\n"
     ]
    }
   ],
   "source": [
    "a=int(input(\"enter a number\"))\n",
    "result=even_or_odd(a)\n",
    "print(result)"
   ]
  },
  {
   "cell_type": "code",
   "execution_count": 32,
   "id": "f233b12e-43a4-4552-8ac1-16affee3ba37",
   "metadata": {},
   "outputs": [
    {
     "name": "stdout",
     "output_type": "stream",
     "text": [
      "maximum number is: 99\n",
      "minimum number is: 1\n"
     ]
    }
   ],
   "source": [
    "#4th: Suppose you have been given a list of numbers then how will you find \n",
    "#maximum and minimum numbers\n",
    "list=[88,86,99,1,2,3,6,77]\n",
    "maximum= max(list)\n",
    "minimum=min(list)\n",
    "print(\"maximum number is:\",maximum)\n",
    "print(\"minimum number is:\",minimum)"
   ]
  },
  {
   "cell_type": "code",
   "execution_count": 41,
   "id": "a264d842-e496-4c3d-a71f-ce4a907e50ea",
   "metadata": {},
   "outputs": [
    {
     "name": "stdout",
     "output_type": "stream",
     "text": [
      "Maximum number is: 88\n",
      "Minimum number is: 2\n"
     ]
    }
   ],
   "source": [
    "#2nd way\n",
    "\n",
    "my_list = [88, 2, 3, 4, 5, 7, 6, 9, 29, 77]\n",
    "maximum = my_list[0]\n",
    "minimum = my_list[0]\n",
    "\n",
    "for i in range(0, len(my_list)):\n",
    "    if my_list[i] > maximum:\n",
    "        maximum = my_list[i]\n",
    "    elif my_list[i] < minimum:\n",
    "        minimum = my_list[i]\n",
    "\n",
    "print(\"Maximum number is:\", maximum)\n",
    "print(\"Minimum number is:\", minimum)\n"
   ]
  },
  {
   "cell_type": "code",
   "execution_count": null,
   "id": "9dfe28b0-84a4-4728-8dbd-faadeb74d45d",
   "metadata": {},
   "outputs": [],
   "source": []
  },
  {
   "cell_type": "code",
   "execution_count": 79,
   "id": "0e970788-d61f-44ea-afad-e58683e9fd62",
   "metadata": {},
   "outputs": [
    {
     "name": "stdout",
     "output_type": "stream",
     "text": [
      "r= 5\n",
      "r= 56\n",
      "r= 565\n",
      "a 565\n",
      "True\n"
     ]
    }
   ],
   "source": [
    "#palindrome number\n",
    "\n",
    "\n",
    "def palindrome(n):\n",
    "    a=n\n",
    "    r=''\n",
    "    while n>0:\n",
    "        r+=str(n%10)\n",
    "        n//=10\n",
    "    if int(r)==a:\n",
    "        return True\n",
    "    else:\n",
    "        return False\n",
    "print(palindrome(565))"
   ]
  },
  {
   "cell_type": "code",
   "execution_count": 94,
   "id": "1032e103-8aa4-4700-a845-33cc71cb0ed6",
   "metadata": {},
   "outputs": [
    {
     "name": "stdout",
     "output_type": "stream",
     "text": [
      "True\n"
     ]
    }
   ],
   "source": [
    "#to get palindrome of a number 2nd way\n",
    "def palindrome(n):\n",
    "    a = n\n",
    "    rev = 0\n",
    "    while n > 0:\n",
    "        r = (n % 10)\n",
    "        n = n // 10  # Use integer division here (//) instead of regular division (/)\n",
    "        rev = rev * 10 + r\n",
    "        \n",
    "    if rev == a:\n",
    "        return True\n",
    "    else:\n",
    "        return False\n",
    "\n",
    "print(palindrome(11511))\n"
   ]
  },
  {
   "cell_type": "code",
   "execution_count": 102,
   "id": "a0daddce-d3db-4552-a6be-e144f2bc68d1",
   "metadata": {},
   "outputs": [
    {
     "data": {
      "text/plain": [
       "False"
      ]
     },
     "execution_count": 102,
     "metadata": {},
     "output_type": "execute_result"
    }
   ],
   "source": [
    "#5th:to get a plaindrome string\n",
    "def palindrome(str):\n",
    "    if str[::-1] == str:\n",
    "        return True\n",
    "    else:\n",
    "        return False\n",
    "\n",
    "palindrome('maam')"
   ]
  },
  {
   "cell_type": "code",
   "execution_count": 98,
   "id": "b10c24be-3796-44db-8adf-42b86b4c67a9",
   "metadata": {},
   "outputs": [
    {
     "name": "stdin",
     "output_type": "stream",
     "text": [
      " 565\n"
     ]
    },
    {
     "name": "stdout",
     "output_type": "stream",
     "text": [
      "True\n"
     ]
    }
   ],
   "source": [
    "#2nd way to get palindrome of a string\n",
    "n = int(input())\n",
    "print(str(n)[::-1]==str(n))"
   ]
  },
  {
   "cell_type": "code",
   "execution_count": 103,
   "id": "cae3d643-fe02-49db-9b69-3a9b9e88738a",
   "metadata": {},
   "outputs": [],
   "source": [
    "#3rd way to get palicrome of a string\n",
    "def isPalindrome(s):\n",
    " \n",
    "    # Using predefined function to\n",
    "    # reverse to string print(s)\n",
    "    rev = ''.join(reversed(s))\n",
    " \n",
    "    # Checking if both string are\n",
    "    # equal or not\n",
    "    if (s == rev):\n",
    "         return True\n",
    "    else:\n",
    "         return False"
   ]
  },
  {
   "cell_type": "code",
   "execution_count": 107,
   "id": "5731c17a-7746-46a7-8d3d-675ec697f9a4",
   "metadata": {},
   "outputs": [
    {
     "data": {
      "text/plain": [
       "True"
      ]
     },
     "execution_count": 107,
     "metadata": {},
     "output_type": "execute_result"
    }
   ],
   "source": [
    "isPalindrome('maam')"
   ]
  },
  {
   "cell_type": "code",
   "execution_count": 123,
   "id": "b47a2f84-a0dd-47e1-bf3a-a706902a69b1",
   "metadata": {},
   "outputs": [
    {
     "name": "stdin",
     "output_type": "stream",
     "text": [
      "enter the principal value 300\n",
      "enter the rate value 3\n",
      "enter the time value 2\n"
     ]
    },
    {
     "name": "stdout",
     "output_type": "stream",
     "text": [
      "18.269999999999982\n"
     ]
    }
   ],
   "source": [
    "def compound(p,r,t):\n",
    "     \n",
    "     a= p*(1+(r/100))**t\n",
    "     ci= a-p\n",
    "     return ci\n",
    "p=float(input(\"enter the principal value\"))\n",
    "r=float(input(\"enter the rate value\"))\n",
    "t=float(input(\"enter the time value\"))\n",
    "interest= compound(p,r,t)\n",
    "print(interest)"
   ]
  },
  {
   "cell_type": "code",
   "execution_count": 3,
   "id": "5b0f8ef8-fbd7-4bf8-839e-3276be6073d4",
   "metadata": {},
   "outputs": [
    {
     "name": "stdin",
     "output_type": "stream",
     "text": [
      "Enter the number of days:  500\n"
     ]
    },
    {
     "name": "stdout",
     "output_type": "stream",
     "text": [
      "1 years 4 months 2 weeks 1 days\n"
     ]
    }
   ],
   "source": [
    "n = int(input(\"Enter the number of days: \"))\n",
    "\n",
    "# Calculate years\n",
    "years = n // 365\n",
    "\n",
    "# Calculate remaining days after removing complete years\n",
    "rem_days = n % 365\n",
    "\n",
    "# Calculate months based on the assumption of 30 days per month\n",
    "months = rem_days // 30\n",
    "\n",
    "# Calculate remaining days after removing complete months\n",
    "rem_day = rem_days % 30\n",
    "\n",
    "# Calculate weeks\n",
    "weeks = rem_day // 7\n",
    "\n",
    "# Calculate final remaining days\n",
    "final_day_left = rem_day % 7\n",
    "\n",
    "# Display the result\n",
    "print(years, \"years\", months, \"months\", weeks, \"weeks\", final_day_left, \"days\")\n"
   ]
  },
  {
   "cell_type": "code",
   "execution_count": 14,
   "id": "dee0f061-fe24-459c-ba61-767a3ec9c930",
   "metadata": {
    "scrolled": true
   },
   "outputs": [
    {
     "name": "stdout",
     "output_type": "stream",
     "text": [
      "85\n"
     ]
    }
   ],
   "source": [
    "#8th Given a list of integers, find the sum of all positive numbers\n",
    "#1st way\n",
    "list=[1,-3,0,9,-33,-77,22,53]\n",
    "sum=0\n",
    "for i in range(0,len(list)):#i cannot use for i in list: directly as it will give error that list is out of bound\n",
    "    # we can use for i in list but then we cannot solve problem using list[i]. see 2nd method\n",
    "    #also i have to take range from 0 to last index not from 0 to n-1 index\n",
    "    if list[i]>0:\n",
    "        sum+=list[i]\n",
    "print(sum)    # if i write this print statement n same indendation as if statement\n",
    "#it will give the sum and also show how it is getting added"
   ]
  },
  {
   "cell_type": "code",
   "execution_count": 15,
   "id": "57a6dda2-6de3-4c5a-8b9c-e1a7bd1d8b0a",
   "metadata": {},
   "outputs": [
    {
     "name": "stdout",
     "output_type": "stream",
     "text": [
      "95\n"
     ]
    }
   ],
   "source": [
    "#2nd way\n",
    "my_list=[1,-3,0,9,-33,-77,22,63]\n",
    "sum=0\n",
    "for i in my_list:\n",
    "    if i>0:\n",
    "        sum+=i\n",
    "print(sum)    # if i write this print statement n same indendation as if statement\n",
    "#it will give the sum and also show how it is getting added"
   ]
  },
  {
   "cell_type": "code",
   "execution_count": 18,
   "id": "86237c89-27b6-4078-934d-c6ff6d665e79",
   "metadata": {},
   "outputs": [
    {
     "name": "stdin",
     "output_type": "stream",
     "text": [
      "enter any sentence to find the number of words in it hi i am shruti\n"
     ]
    },
    {
     "name": "stdout",
     "output_type": "stream",
     "text": [
      "['hi', 'i', 'am', 'shruti']\n",
      "hi\n",
      "i\n",
      "am\n",
      "shruti\n",
      "4\n"
     ]
    }
   ],
   "source": [
    "#9th:Create a program that takes a sentence as input and counts the number of words in it\n",
    "str=input(\"enter any sentence to find the number of words in it\")\n",
    "new_str=str.split()\n",
    "print(new_str)#to see whether the string is splitting or not and it gets stored in a form of a list\n",
    "\n",
    "count=0\n",
    "for word in new_str:\n",
    "    count+=1\n",
    "    print(word)\n",
    "print(count)\n",
    "\n",
    "\n",
    "#here i took a variable count and then in for loop i seperated all the words to check\n",
    "#then which each increasing word the count is increasing so i have printed it out of for loop"
   ]
  },
  {
   "cell_type": "code",
   "execution_count": 20,
   "id": "38be612a-92a6-4caf-8ad9-f18bb14ea281",
   "metadata": {},
   "outputs": [
    {
     "name": "stdout",
     "output_type": "stream",
     "text": [
      "swapped values are  20 \t 10\n"
     ]
    }
   ],
   "source": [
    "#10th: Implement a program that swaps the values of two variable\n",
    "#1st easy way\n",
    "a=10\n",
    "b=20\n",
    "c=a\n",
    "a=b\n",
    "b=c\n",
    "print(\"swapped values are \",a,\"\\t\",b)"
   ]
  },
  {
   "cell_type": "code",
   "execution_count": 26,
   "id": "1582353b-68c1-4118-aa4d-ea061bdaf39e",
   "metadata": {},
   "outputs": [],
   "source": [
    "#2nd way with the help of a function\n",
    "def swap(a,b):\n",
    "    c=a\n",
    "    a=b\n",
    "    b=c\n",
    "    return a,b"
   ]
  },
  {
   "cell_type": "code",
   "execution_count": 27,
   "id": "653f4e27-fbf9-4fdb-8073-9d42eb23fa8f",
   "metadata": {},
   "outputs": [
    {
     "data": {
      "text/plain": [
       "(20, 10)"
      ]
     },
     "execution_count": 27,
     "metadata": {},
     "output_type": "execute_result"
    }
   ],
   "source": [
    "swap(10,20)"
   ]
  },
  {
   "cell_type": "code",
   "execution_count": null,
   "id": "e7e29488-bed6-4044-88f6-28ce0d017926",
   "metadata": {},
   "outputs": [],
   "source": []
  }
 ],
 "metadata": {
  "kernelspec": {
   "display_name": "Python 3 (ipykernel)",
   "language": "python",
   "name": "python3"
  },
  "language_info": {
   "codemirror_mode": {
    "name": "ipython",
    "version": 3
   },
   "file_extension": ".py",
   "mimetype": "text/x-python",
   "name": "python",
   "nbconvert_exporter": "python",
   "pygments_lexer": "ipython3",
   "version": "3.11.4"
  }
 },
 "nbformat": 4,
 "nbformat_minor": 5
}
