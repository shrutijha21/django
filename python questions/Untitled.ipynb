{
 "cells": [
  {
   "cell_type": "code",
   "execution_count": 5,
   "id": "3d620680-7a95-47a3-ad65-ca3d4da29e5b",
   "metadata": {},
   "outputs": [],
   "source": [
    "#1.Create a class to represent a basic calculator with add,subtract, multiply, and divide methods.\n",
    "class Calculator:\n",
    "    def __init__(self,a,b):\n",
    "        self.a=a\n",
    "        self.b=b\n",
    "    def addition(self):\n",
    "        return self.a+self.b\n",
    "    def subtract(self):\n",
    "        return self.a-self.b\n",
    "    def multiply(self):\n",
    "        return self.a*self.b\n",
    "    def divide(self):\n",
    "        return self.a/self.b\n",
    "        "
   ]
  },
  {
   "cell_type": "code",
   "execution_count": 6,
   "id": "f2c459ab-0404-4a99-9fd7-1e5cb94bcb89",
   "metadata": {},
   "outputs": [],
   "source": [
    "my_calc=Calculator(10,20)"
   ]
  },
  {
   "cell_type": "code",
   "execution_count": 7,
   "id": "08f9a454-4aa4-4e79-968b-984a6ce00150",
   "metadata": {},
   "outputs": [
    {
     "data": {
      "text/plain": [
       "0.5"
      ]
     },
     "execution_count": 7,
     "metadata": {},
     "output_type": "execute_result"
    }
   ],
   "source": [
    "my_calc.divide()"
   ]
  },
  {
   "cell_type": "code",
   "execution_count": 8,
   "id": "b0021c7c-3640-415b-820d-dace6e44fc5f",
   "metadata": {},
   "outputs": [],
   "source": [
    "#2.Create a class to represent a book with attributes like title, author, and publication year.\n",
    "\n",
    "class Book:\n",
    "    def __init__(self,title,author,pubyear):\n",
    "        self.title=title\n",
    "        self.author=author\n",
    "        self.pubyear=pubyear\n",
    "        \n",
    "    def __str__(self):\n",
    "        return f\"Title: {self.title}\\n Author:{self.author} \\n Publication Year:{self.pubyear}\""
   ]
  },
  {
   "cell_type": "code",
   "execution_count": 10,
   "id": "cc495088-997f-43ec-8e3c-f2672cdd8216",
   "metadata": {},
   "outputs": [],
   "source": [
    "book1=Book(\"the subtle art\",\"Mark manson\",2016)"
   ]
  },
  {
   "cell_type": "code",
   "execution_count": 12,
   "id": "6d05e0c9-3ad7-468f-8188-4ed03ed83a2b",
   "metadata": {},
   "outputs": [
    {
     "name": "stdout",
     "output_type": "stream",
     "text": [
      "Title: the subtle art\n",
      " Author:Mark manson \n",
      " Publication Year:2016\n"
     ]
    }
   ],
   "source": [
    "print(book1)"
   ]
  },
  {
   "cell_type": "code",
   "execution_count": 19,
   "id": "a0ad02a5-5384-430a-aba0-73e77d40de7d",
   "metadata": {},
   "outputs": [],
   "source": [
    "#3.Define a class for a Circle with methods to calculate its area and circumference.\n",
    "class Circle:\n",
    "    pi=3.14\n",
    "    def __init__(self,r):\n",
    "         self.r=r\n",
    "    def __str__(self):\n",
    "         area=self.pi*self.r**2\n",
    "         return f\"Area of a circle:{area:.2f}\""
   ]
  },
  {
   "cell_type": "code",
   "execution_count": 20,
   "id": "aff84cba-523b-456c-b89f-730cd9eceda1",
   "metadata": {},
   "outputs": [],
   "source": [
    "cir=Circle(5)"
   ]
  },
  {
   "cell_type": "code",
   "execution_count": 21,
   "id": "9bc07c14-6183-435d-9d98-b30827599a21",
   "metadata": {},
   "outputs": [
    {
     "name": "stdout",
     "output_type": "stream",
     "text": [
      "Area of a circle:78.50\n"
     ]
    }
   ],
   "source": [
    "print(cir)"
   ]
  },
  {
   "cell_type": "code",
   "execution_count": null,
   "id": "11a11c42-984d-4efe-a6a7-56e3b97b4bf9",
   "metadata": {},
   "outputs": [],
   "source": []
  }
 ],
 "metadata": {
  "kernelspec": {
   "display_name": "Python 3 (ipykernel)",
   "language": "python",
   "name": "python3"
  },
  "language_info": {
   "codemirror_mode": {
    "name": "ipython",
    "version": 3
   },
   "file_extension": ".py",
   "mimetype": "text/x-python",
   "name": "python",
   "nbconvert_exporter": "python",
   "pygments_lexer": "ipython3",
   "version": "3.11.4"
  }
 },
 "nbformat": 4,
 "nbformat_minor": 5
}
