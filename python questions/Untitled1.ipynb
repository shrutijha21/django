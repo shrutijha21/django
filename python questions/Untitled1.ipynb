{
 "cells": [
  {
   "cell_type": "code",
   "execution_count": 12,
   "id": "86894e5c-7758-4472-b68a-aa3fa00529f6",
   "metadata": {},
   "outputs": [],
   "source": [
    "#1.Create a class to represent a Student with attributes likename, age, and grades\n",
    "class Student:\n",
    "    def __init__(self,name,age,grades):\n",
    "        self.name=name\n",
    "        self.age=age\n",
    "        self.grades=grades\n",
    "    def __str__(self):\n",
    "        return f\"NAME: {self.name}\\nAge:{self.age}\\nGrades:{self.grades}\""
   ]
  },
  {
   "cell_type": "code",
   "execution_count": 13,
   "id": "c3c8d622-da81-4b9d-88d1-7db72ef3cf54",
   "metadata": {},
   "outputs": [],
   "source": [
    "s1= Student(\"Shruti\",23,90)"
   ]
  },
  {
   "cell_type": "code",
   "execution_count": 14,
   "id": "c2c9b508-f155-45d0-a89c-d9cd5c8e4cf9",
   "metadata": {},
   "outputs": [
    {
     "name": "stdout",
     "output_type": "stream",
     "text": [
      "NAME: Shruti\n",
      "Age:23\n",
      "Grades:90\n"
     ]
    }
   ],
   "source": [
    "print(s1)"
   ]
  },
  {
   "cell_type": "code",
   "execution_count": 1,
   "id": "2415c1c2-1b74-41b3-a562-807973623bc3",
   "metadata": {},
   "outputs": [],
   "source": [
    "#2.Given a CSV file with employee details (name, position,salary), create a class to representan Employee\n"
   ]
  },
  {
   "cell_type": "code",
   "execution_count": 16,
   "id": "4628bb5d-39b8-4d05-bfcd-4dea6fc9ffb1",
   "metadata": {},
   "outputs": [],
   "source": [
    "#3.Implement a program that simulates a basic bank account using a BankAccount class\n",
    "class BankAccount:\n",
    "    def __init__(self,name,age,):\n",
    "        self.name=name\n",
    "        self.age=age\n",
    "        self.grades=grades"
   ]
  },
  {
   "cell_type": "code",
   "execution_count": 17,
   "id": "dc4cc8d9-04a1-4aab-b57c-d2b89451d871",
   "metadata": {},
   "outputs": [
    {
     "name": "stdin",
     "output_type": "stream",
     "text": [
      "Enter the length of the rectangle:  10\n",
      "Enter the width of the rectangle:  20\n"
     ]
    },
    {
     "name": "stdout",
     "output_type": "stream",
     "text": [
      "The area of the rectangle is 200.00 square units.\n",
      "The perimeter of the rectangle is 60.00 units.\n"
     ]
    }
   ],
   "source": [
    "#4.Write a Python program that uses a Rectangle class tocalculate the area and perimeter of a rectangle\n",
    "class Rectangle:\n",
    "    def __init__(self, length, width):\n",
    "        self.length = length\n",
    "        self.width = width\n",
    "\n",
    "    def area(self):\n",
    "        return self.length * self.width\n",
    "\n",
    "    def perimeter(self):\n",
    "        return 2 * (self.length + self.width)\n",
    "\n",
    "# Input length and width from the user\n",
    "length = float(input(\"Enter the length of the rectangle: \"))\n",
    "width = float(input(\"Enter the width of the rectangle: \"))\n",
    "\n",
    "# Create a Rectangle object\n",
    "rectangle = Rectangle(length, width)\n",
    "\n",
    "# Calculate area and perimeter\n",
    "area = rectangle.area()\n",
    "perimeter = rectangle.perimeter()\n",
    "\n",
    "# Display the results\n",
    "print(f\"The area of the rectangle is {area:.2f} square units.\")\n",
    "print(f\"The perimeter of the rectangle is {perimeter:.2f} units.\")\n"
   ]
  },
  {
   "cell_type": "code",
   "execution_count": 18,
   "id": "189445b9-0138-487c-a57c-7c8d0f7a181b",
   "metadata": {},
   "outputs": [
    {
     "name": "stdout",
     "output_type": "stream",
     "text": [
      "Car 1:\n",
      "Make: Toyota\n",
      "Model: Camry\n",
      "Year: 2022\n",
      "\n",
      "Car 2:\n",
      "Make: Ford\n",
      "Model: Mustang\n",
      "Year: 2023\n"
     ]
    }
   ],
   "source": [
    "#5.Create a class to represent a Car with attributes like make, model, and year\n",
    "class Car:\n",
    "    def __init__(self, make, model, year):\n",
    "        self.make = make\n",
    "        self.model = model\n",
    "        self.year = year\n",
    "\n",
    "    def get_make(self):\n",
    "        return self.make\n",
    "\n",
    "    def get_model(self):\n",
    "        return self.model\n",
    "\n",
    "    def get_year(self):\n",
    "        return self.year\n",
    "\n",
    "    def __str__(self):\n",
    "        return f\"Make: {self.make}\\nModel: {self.model}\\nYear: {self.year}\"\n",
    "\n",
    "# Example usage:\n",
    "car1 = Car(\"Toyota\", \"Camry\", 2022)\n",
    "car2 = Car(\"Ford\", \"Mustang\", 2023)\n",
    "\n",
    "print(\"Car 1:\")\n",
    "print(car1)\n",
    "\n",
    "print(\"\\nCar 2:\")\n",
    "print(car2)\n"
   ]
  },
  {
   "cell_type": "code",
   "execution_count": 19,
   "id": "3b428f4a-b049-4f65-9032-e12288daf494",
   "metadata": {},
   "outputs": [],
   "source": [
    "#6."
   ]
  },
  {
   "cell_type": "code",
   "execution_count": 21,
   "id": "fbc0883a-3d9f-42bb-9ef6-5cd25643f533",
   "metadata": {},
   "outputs": [
    {
     "name": "stdout",
     "output_type": "stream",
     "text": [
      "Person 1:\n",
      "Name: Alice\n",
      "Age: 30\n",
      "Address: 123 Main St, Cityville\n",
      "\n",
      "Person 2:\n",
      "Name: Bob\n",
      "Age: 25\n",
      "Address: 456 Elm St, Townsville\n"
     ]
    }
   ],
   "source": [
    "#7.Write a program that uses a Person class to keep track of a person's name, age, and address\n",
    "class Person:\n",
    "    def __init__(self, name, age, address):\n",
    "        self.name = name\n",
    "        self.age = age\n",
    "        self.address = address\n",
    "\n",
    "    def get_name(self):\n",
    "        return self.name\n",
    "\n",
    "    def get_age(self):\n",
    "        return self.age\n",
    "\n",
    "    def get_address(self):\n",
    "        return self.address\n",
    "\n",
    "    def __str__(self):\n",
    "        return f\"Name: {self.name}\\nAge: {self.age}\\nAddress: {self.address}\"\n",
    "\n",
    "# Example usage:\n",
    "person1 = Person(\"Alice\", 30, \"123 Main St, Cityville\")\n",
    "person2 = Person(\"Bob\", 25, \"456 Elm St, Townsville\")\n",
    "\n",
    "print(\"Person 1:\")\n",
    "print(person1)\n",
    "\n",
    "print(\"\\nPerson 2:\")\n",
    "print(person2)\n"
   ]
  },
  {
   "cell_type": "code",
   "execution_count": 22,
   "id": "949818f7-7b81-498b-adeb-0c7c6f071e1a",
   "metadata": {},
   "outputs": [],
   "source": [
    "#8.Implement a program that uses a Circle class to calculate the area and circumference of multiple circles\n"
   ]
  },
  {
   "cell_type": "code",
   "execution_count": 23,
   "id": "769132a7-e687-4800-83d8-125c78e3d0f6",
   "metadata": {},
   "outputs": [],
   "source": [
    "#9."
   ]
  },
  {
   "cell_type": "code",
   "execution_count": 24,
   "id": "8c735a08-d611-4a3d-81bb-42a9674363d6",
   "metadata": {},
   "outputs": [
    {
     "name": "stdout",
     "output_type": "stream",
     "text": [
      "Movie 1:\n",
      "Title: Inception\n",
      "Director: Christopher Nolan\n",
      "Rating: 8.8\n",
      "\n",
      "Movie 2:\n",
      "Title: The Shawshank Redemption\n",
      "Director: Frank Darabont\n",
      "Rating: 9.3\n"
     ]
    }
   ],
   "source": [
    "#10.Create a class to represent a Movie with attributes like title, director, and rating.\n",
    "class Movie:\n",
    "    def __init__(self, title, director, rating):\n",
    "        self.title = title\n",
    "        self.director = director\n",
    "        self.rating = rating\n",
    "\n",
    "    def get_title(self):\n",
    "        return self.title\n",
    "\n",
    "    def get_director(self):\n",
    "        return self.director\n",
    "\n",
    "    def get_rating(self):\n",
    "        return self.rating\n",
    "\n",
    "    def __str__(self):\n",
    "        return f\"Title: {self.title}\\nDirector: {self.director}\\nRating: {self.rating}\"\n",
    "\n",
    "# Example usage:\n",
    "movie1 = Movie(\"Inception\", \"Christopher Nolan\", 8.8)\n",
    "movie2 = Movie(\"The Shawshank Redemption\", \"Frank Darabont\", 9.3)\n",
    "\n",
    "print(\"Movie 1:\")\n",
    "print(movie1)\n",
    "\n",
    "print(\"\\nMovie 2:\")\n",
    "print(movie2)\n"
   ]
  },
  {
   "cell_type": "code",
   "execution_count": null,
   "id": "7be42a35-4b5b-45fc-ae86-bbec1dc79fa1",
   "metadata": {},
   "outputs": [],
   "source": []
  }
 ],
 "metadata": {
  "kernelspec": {
   "display_name": "Python 3 (ipykernel)",
   "language": "python",
   "name": "python3"
  },
  "language_info": {
   "codemirror_mode": {
    "name": "ipython",
    "version": 3
   },
   "file_extension": ".py",
   "mimetype": "text/x-python",
   "name": "python",
   "nbconvert_exporter": "python",
   "pygments_lexer": "ipython3",
   "version": "3.11.4"
  }
 },
 "nbformat": 4,
 "nbformat_minor": 5
}
