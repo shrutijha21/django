{
 "cells": [
  {
   "cell_type": "code",
   "execution_count": 15,
   "id": "4786c81e-1003-4b79-9b9a-4944e4752380",
   "metadata": {},
   "outputs": [
    {
     "name": "stdout",
     "output_type": "stream",
     "text": [
      "hi My name is shruti\n"
     ]
    }
   ],
   "source": [
    "#1.Write a program that reads a text file and prints its contents.\n",
    "with open(\"file.txt\",\"w+\") as f:#to create a file first and then read it r+=read and write\n",
    "    #w+write and read\n",
    "    f.write(\"hi My name is shruti\")\n",
    "    f.seek(0)\n",
    "    contents=f.read()\n",
    "    \n",
    "    print(contents)\n"
   ]
  },
  {
   "cell_type": "code",
   "execution_count": 5,
   "id": "7b001981-c1b7-4e88-81a1-d24e55597c58",
   "metadata": {},
   "outputs": [
    {
     "name": "stdout",
     "output_type": "stream",
     "text": [
      "C:\\Users\\shrujha\n"
     ]
    }
   ],
   "source": [
    "import os\n",
    "print(os.getcwd())"
   ]
  },
  {
   "cell_type": "code",
   "execution_count": 17,
   "id": "71ae2c15-e400-4d92-97a5-fbc0590777e9",
   "metadata": {},
   "outputs": [],
   "source": [
    "#2.Create a new text file and write some content into it.\n",
    "#already done above"
   ]
  },
  {
   "cell_type": "code",
   "execution_count": null,
   "id": "974a4c0f-ca37-45ac-ad40-bf0df5a31497",
   "metadata": {},
   "outputs": [],
   "source": [
    "#3.Read a CSV file and process its data.\n"
   ]
  }
 ],
 "metadata": {
  "kernelspec": {
   "display_name": "Python 3 (ipykernel)",
   "language": "python",
   "name": "python3"
  },
  "language_info": {
   "codemirror_mode": {
    "name": "ipython",
    "version": 3
   },
   "file_extension": ".py",
   "mimetype": "text/x-python",
   "name": "python",
   "nbconvert_exporter": "python",
   "pygments_lexer": "ipython3",
   "version": "3.11.4"
  }
 },
 "nbformat": 4,
 "nbformat_minor": 5
}
