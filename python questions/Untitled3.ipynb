{
 "cells": [
  {
   "cell_type": "code",
   "execution_count": 11,
   "id": "5e971e3b-e684-48e9-937b-62706f44156f",
   "metadata": {},
   "outputs": [],
   "source": [
    "#1.\n",
    "class Animal:\n",
    "    def sound(self):\n",
    "        print(\"Animals make a sound\")\n",
    "\n",
    "class Dog(Animal):\n",
    "    def sound(self):\n",
    "        print(\"Dogs bark\")\n",
    "\n",
    "class Cat(Animal):\n",
    "    def sound(self):\n",
    "        print(\"Cats meow\")\n"
   ]
  },
  {
   "cell_type": "code",
   "execution_count": 16,
   "id": "f6179a49-e180-4058-a32e-528fc8ec521e",
   "metadata": {},
   "outputs": [
    {
     "name": "stdout",
     "output_type": "stream",
     "text": [
      "Animals make a sound\n",
      "Animals make a sound\n",
      "Animals make a sound\n"
     ]
    }
   ],
   "source": [
    "animal=Animal()\n",
    "animal.sound()\n",
    "dog = Animal()\n",
    "dog.sound()  # Output: Dogs bark\n",
    "\n",
    "cat = Animal()\n",
    "cat.sound()  # Output: Cats meow\n"
   ]
  },
  {
   "cell_type": "code",
   "execution_count": 17,
   "id": "6c830aaf-b7ec-409c-a29f-686c3ee59fc2",
   "metadata": {},
   "outputs": [],
   "source": [
    "#2.Implement a class hierarchy to represent different types of vehicles (Car, Bike) with their own attributes and methods.\n",
    "class Vehicle:\n",
    "    def __init__(self, make, model, year):\n",
    "        self.make = make\n",
    "        self.model = model\n",
    "        self.year = year\n",
    "        self.is_running = False\n",
    "\n",
    "    def start_engine(self):\n",
    "        self.is_running = True\n",
    "        print(f\"The {self.year} {self.make} {self.model}'s engine is now running.\")\n",
    "\n",
    "    def stop_engine(self):\n",
    "        self.is_running = False\n",
    "        print(f\"The {self.year} {self.make} {self.model}'s engine has been stopped.\")\n",
    "\n",
    "class Car(Vehicle):\n",
    "    def __init__(self, make, model, year, num_doors):\n",
    "        super().__init__(make, model, year)\n",
    "        self.num_doors = num_doors\n",
    "\n",
    "    def open_trunk(self):\n",
    "        print(f\"Opened the trunk of the {self.year} {self.make} {self.model}.\")\n",
    "\n",
    "class Bike(Vehicle):\n",
    "    def __init__(self, make, model, year, type):\n",
    "        super().__init__(make, model, year)\n",
    "        self.type = type\n",
    "\n",
    "    def ring_bell(self):\n",
    "        print(f\"Ring! Ring! This {self.year} {self.make} {self.model} {self.type} bike has a bell.\")\n"
   ]
  },
  {
   "cell_type": "code",
   "execution_count": 18,
   "id": "604a3aa6-78a0-47f9-a61f-eb5adcaf84f4",
   "metadata": {},
   "outputs": [
    {
     "name": "stdout",
     "output_type": "stream",
     "text": [
      "The 2022 Toyota Camry's engine is now running.\n",
      "Opened the trunk of the 2022 Toyota Camry.\n",
      "The 2022 Toyota Camry's engine has been stopped.\n",
      "The 2022 Trek FX 2's engine is now running.\n",
      "Ring! Ring! This 2022 Trek FX 2 Hybrid bike has a bell.\n",
      "The 2022 Trek FX 2's engine has been stopped.\n"
     ]
    }
   ],
   "source": [
    "my_car = Car(\"Toyota\", \"Camry\", 2022, 4)\n",
    "my_bike = Bike(\"Trek\", \"FX 2\", 2022, \"Hybrid\")\n",
    "\n",
    "my_car.start_engine()\n",
    "my_car.open_trunk()\n",
    "my_car.stop_engine()\n",
    "\n",
    "my_bike.start_engine()\n",
    "my_bike.ring_bell()\n",
    "my_bike.stop_engine()\n"
   ]
  },
  {
   "cell_type": "code",
   "execution_count": null,
   "id": "b973fa5c-b1a8-40d1-b608-7c568553487c",
   "metadata": {},
   "outputs": [],
   "source": [
    "#3."
   ]
  }
 ],
 "metadata": {
  "kernelspec": {
   "display_name": "Python 3 (ipykernel)",
   "language": "python",
   "name": "python3"
  },
  "language_info": {
   "codemirror_mode": {
    "name": "ipython",
    "version": 3
   },
   "file_extension": ".py",
   "mimetype": "text/x-python",
   "name": "python",
   "nbconvert_exporter": "python",
   "pygments_lexer": "ipython3",
   "version": "3.11.4"
  }
 },
 "nbformat": 4,
 "nbformat_minor": 5
}
