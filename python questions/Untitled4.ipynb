{
 "cells": [
  {
   "cell_type": "code",
   "execution_count": 24,
   "id": "9a9651e0-c9a7-42b0-96f7-b6c49b4d7963",
   "metadata": {},
   "outputs": [],
   "source": [
    "def reverse_str(s):\n",
    "    return s[::-1]"
   ]
  },
  {
   "cell_type": "code",
   "execution_count": 25,
   "id": "2fc17865-345a-4f93-88d8-d15bd0415452",
   "metadata": {},
   "outputs": [
    {
     "data": {
      "text/plain": [
       "'iturhS'"
      ]
     },
     "execution_count": 25,
     "metadata": {},
     "output_type": "execute_result"
    }
   ],
   "source": [
    "st='Shruti'\n",
    "reverse_str(st)"
   ]
  },
  {
   "cell_type": "code",
   "execution_count": 26,
   "id": "16a2d8f9-8606-4837-ae61-0c630c4a2b44",
   "metadata": {},
   "outputs": [
    {
     "data": {
      "text/plain": [
       "(1, 2, 3, 4, 4, 5, 5, 5)"
      ]
     },
     "execution_count": 26,
     "metadata": {},
     "output_type": "execute_result"
    }
   ],
   "source": [
    "1,2,3,4,4,5,5,5"
   ]
  },
  {
   "cell_type": "code",
   "execution_count": 27,
   "id": "3bdae4ab-1ca4-4f66-b398-29597684db7f",
   "metadata": {},
   "outputs": [],
   "source": [
    "list1=[1,2,3,4,4,5,5,5]\n",
    "\n",
    "def c(list):\n",
    "    dict={}\n",
    "    count=0\n",
    "    for i in list:\n",
    "        if i not in dict:\n",
    "             count[i]+=1\n",
    "        else:\n",
    "             count[i]=1\n",
    "    return count       "
   ]
  },
  {
   "cell_type": "code",
   "execution_count": 23,
   "id": "b5616252-1c47-4665-8e7a-05501b68d570",
   "metadata": {},
   "outputs": [
    {
     "ename": "TypeError",
     "evalue": "'int' object is not subscriptable",
     "output_type": "error",
     "traceback": [
      "\u001b[1;31m---------------------------------------------------------------------------\u001b[0m",
      "\u001b[1;31mTypeError\u001b[0m                                 Traceback (most recent call last)",
      "Cell \u001b[1;32mIn[23], line 1\u001b[0m\n\u001b[1;32m----> 1\u001b[0m \u001b[43mc\u001b[49m\u001b[43m(\u001b[49m\u001b[43mlist1\u001b[49m\u001b[43m)\u001b[49m\n",
      "Cell \u001b[1;32mIn[22], line 8\u001b[0m, in \u001b[0;36mc\u001b[1;34m(list)\u001b[0m\n\u001b[0;32m      6\u001b[0m \u001b[38;5;28;01mfor\u001b[39;00m i \u001b[38;5;129;01min\u001b[39;00m \u001b[38;5;28mlist\u001b[39m:\n\u001b[0;32m      7\u001b[0m     \u001b[38;5;28;01mif\u001b[39;00m i \u001b[38;5;129;01mnot\u001b[39;00m \u001b[38;5;129;01min\u001b[39;00m \u001b[38;5;28mdict\u001b[39m:\n\u001b[1;32m----> 8\u001b[0m          \u001b[43mcount\u001b[49m\u001b[43m[\u001b[49m\u001b[43mi\u001b[49m\u001b[43m]\u001b[49m\u001b[38;5;241m+\u001b[39m\u001b[38;5;241m=\u001b[39m\u001b[38;5;241m1\u001b[39m\n\u001b[0;32m      9\u001b[0m     \u001b[38;5;28;01melse\u001b[39;00m:\n\u001b[0;32m     10\u001b[0m          count[i]\u001b[38;5;241m=\u001b[39m\u001b[38;5;241m1\u001b[39m\n",
      "\u001b[1;31mTypeError\u001b[0m: 'int' object is not subscriptable"
     ]
    }
   ],
   "source": [
    "c(list1)"
   ]
  },
  {
   "cell_type": "code",
   "execution_count": null,
   "id": "36f7cb1a-23e2-45d9-a61c-1ae05c58fef0",
   "metadata": {},
   "outputs": [],
   "source": []
  }
 ],
 "metadata": {
  "kernelspec": {
   "display_name": "Python 3 (ipykernel)",
   "language": "python",
   "name": "python3"
  },
  "language_info": {
   "codemirror_mode": {
    "name": "ipython",
    "version": 3
   },
   "file_extension": ".py",
   "mimetype": "text/x-python",
   "name": "python",
   "nbconvert_exporter": "python",
   "pygments_lexer": "ipython3",
   "version": "3.11.4"
  }
 },
 "nbformat": 4,
 "nbformat_minor": 5
}
