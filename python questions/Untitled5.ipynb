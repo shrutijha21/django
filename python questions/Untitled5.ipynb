{
 "cells": [
  {
   "cell_type": "code",
   "execution_count": 5,
   "id": "5a59befc-e0d6-4185-85e8-f2d4091a86e1",
   "metadata": {},
   "outputs": [
    {
     "name": "stdout",
     "output_type": "stream",
     "text": [
      "[b'<!doctype html>\\n<!--[if lt IE 7]>   <html class=\"no-js ie6 lt-ie7 lt-ie8 lt-ie9\">   <![endif]-->\\n<!--[if IE 7]>      <html class=\"no-js ie7 lt-ie8 lt-ie9\">          <![endif]-->\\n<!--[if IE 8]>      <h']\n"
     ]
    }
   ],
   "source": [
    "from concurrent.futures import ThreadPoolExecutor\n",
    "import urllib.request as ur\n",
    "\n",
    "datas = []\n",
    "\n",
    "def get_from(url):\n",
    "    connection = ur.urlopen(url)\n",
    "    data = connection.read()\n",
    "    datas.append(data)\n",
    "\n",
    "urls = [\n",
    "    \"https://python.org\",\n",
    "    \"https://docs.python.org/\"\n",
    "    \"https://wikipedia.org\",\n",
    "    \"https://imdb.com\",    \n",
    "]\n",
    "\n",
    "with ThreadPoolExecutor() as ex:\n",
    "    for url in urls:\n",
    "        ex.submit(get_from, url)\n",
    "       \n",
    "# let's just look at the beginning of each data stream\n",
    "# as this could be a lot of data\n",
    "print ([_[:200] for _ in datas])"
   ]
  },
  {
   "cell_type": "code",
   "execution_count": null,
   "id": "e557c9da-98b4-474b-a578-1c1f738764bc",
   "metadata": {},
   "outputs": [],
   "source": [
    "import threading\n",
    "import time\n",
    "\n",
    "def task1():\n",
    "    time.sleep(2)\n",
    "    print(\"Task 1 completed\")\n",
    "\n",
    "def task2():\n",
    "    time.sleep(1)\n",
    "    print(\"Task 2 completed\")\n",
    "\n",
    "if __name__ == \"__main__\":\n",
    "    thread1 = threading.Thread(target=task1)\n",
    "    thread2 = threading.Thread(target=task2)\n",
    "\n",
    "    thread1.start()\n",
    "    thread2.start()\n",
    "\n",
    "    thread1.join()\n",
    "    thread2.join()\n",
    "\n",
    "    print(\"All tasks completed\")"
   ]
  },
  {
   "cell_type": "code",
   "execution_count": null,
   "id": "29ee4d5c-4028-476e-9278-f102a8e98de6",
   "metadata": {},
   "outputs": [],
   "source": []
  },
  {
   "cell_type": "code",
   "execution_count": null,
   "id": "10755357-f8e5-40a9-b003-4d08d64453da",
   "metadata": {},
   "outputs": [],
   "source": []
  },
  {
   "cell_type": "code",
   "execution_count": null,
   "id": "2d9e612d-95b1-4bda-b8da-d9d786f8ea05",
   "metadata": {},
   "outputs": [],
   "source": []
  }
 ],
 "metadata": {
  "kernelspec": {
   "display_name": "Python 3 (ipykernel)",
   "language": "python",
   "name": "python3"
  },
  "language_info": {
   "codemirror_mode": {
    "name": "ipython",
    "version": 3
   },
   "file_extension": ".py",
   "mimetype": "text/x-python",
   "name": "python",
   "nbconvert_exporter": "python",
   "pygments_lexer": "ipython3",
   "version": "3.11.4"
  }
 },
 "nbformat": 4,
 "nbformat_minor": 5
}
