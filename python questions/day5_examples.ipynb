{
 "cells": [
  {
   "cell_type": "code",
   "execution_count": 1,
   "id": "333c0539-3ca4-47e1-ad3c-9ea1e2c94a10",
   "metadata": {},
   "outputs": [],
   "source": [
    "#1.  Create a program that checks if a given string is a palindrome.\n",
    "def palindrome_str(s):\n",
    "    if s[::-1]==s:\n",
    "        return'palindrome'\n",
    "    else:\n",
    "        return 'not palindrome'\n",
    "        \n"
   ]
  },
  {
   "cell_type": "code",
   "execution_count": 5,
   "id": "d4a5785a-d777-483f-8b6b-219b2044564b",
   "metadata": {},
   "outputs": [
    {
     "data": {
      "text/plain": [
       "'palindrome'"
      ]
     },
     "execution_count": 5,
     "metadata": {},
     "output_type": "execute_result"
    }
   ],
   "source": [
    "palindrome_str('madam')"
   ]
  },
  {
   "cell_type": "code",
   "execution_count": 40,
   "id": "73c7c03b-cbc6-42cf-8c92-c799f2ae2f09",
   "metadata": {},
   "outputs": [],
   "source": [
    "2.#Write a function to count the number of vowels in a given string\n",
    "def count_vowels(s):\n",
    "    v='AEIOUaeiou'\n",
    "    c=0\n",
    "    for i in s:\n",
    "      if i in v :\n",
    "        c+=1\n",
    "        print(i)\n",
    "    print(\"total number of vowels:\",c)"
   ]
  },
  {
   "cell_type": "code",
   "execution_count": 41,
   "id": "2e20320e-0343-4a92-881b-cbbeb274074a",
   "metadata": {},
   "outputs": [
    {
     "name": "stdout",
     "output_type": "stream",
     "text": [
      "i\n",
      "i\n",
      "a\n",
      "u\n",
      "i\n",
      "total number of vowels: 5\n"
     ]
    }
   ],
   "source": [
    "count_vowels('hi i am shruti')"
   ]
  },
  {
   "cell_type": "code",
   "execution_count": null,
   "id": "bdd2930c-46d4-414c-8f99-6e16424ebc09",
   "metadata": {},
   "outputs": [],
   "source": []
  }
 ],
 "metadata": {
  "kernelspec": {
   "display_name": "Python 3 (ipykernel)",
   "language": "python",
   "name": "python3"
  },
  "language_info": {
   "codemirror_mode": {
    "name": "ipython",
    "version": 3
   },
   "file_extension": ".py",
   "mimetype": "text/x-python",
   "name": "python",
   "nbconvert_exporter": "python",
   "pygments_lexer": "ipython3",
   "version": "3.11.4"
  }
 },
 "nbformat": 4,
 "nbformat_minor": 5
}
