{
 "cells": [
  {
   "cell_type": "code",
   "execution_count": 5,
   "id": "7ec1d44d-ba30-45e0-934c-49d6b32f89b3",
   "metadata": {},
   "outputs": [
    {
     "name": "stdout",
     "output_type": "stream",
     "text": [
      "{'student_id': 12345, 'first_name': 'Alice', 'last_name': 'Johnson', 'age': 20, 'major': 'Computer Science', 'grades': {'math': 95, 'history': 85, 'physics': 90}, 'product_id': 'P001', 'product_name': 'Laptop', 'description': '15-inch MacBook Pro', 'price': 1999.99, 'manufacturer': 'Apple Inc.', 'in_stock': True, 'reviews': [{'user': 'User1', 'rating': 4.5, 'comment': 'Great laptop!'}, {'user': 'User2', 'rating': 5.0, 'comment': 'Excellent performance!'}]}\n"
     ]
    }
   ],
   "source": [
    "#1. Given two dictionaries, merge them into a single dictionary\n",
    "student_info = {\n",
    "    \"student_id\": 12345,\n",
    "    \"first_name\": \"Alice\",\n",
    "    \"last_name\": \"Johnson\",\n",
    "    \"age\": 20,\n",
    "    \"major\": \"Computer Science\",\n",
    "    \"grades\": {\"math\": 95, \"history\": 85, \"physics\": 90}\n",
    "}\n",
    "product_details = {\n",
    "    \"product_id\": \"P001\",\n",
    "    \"product_name\": \"Laptop\",\n",
    "    \"description\": \"15-inch MacBook Pro\",\n",
    "    \"price\": 1999.99,\n",
    "    \"manufacturer\": \"Apple Inc.\",\n",
    "    \"in_stock\": True,\n",
    "    \"reviews\": [\n",
    "        {\"user\": \"User1\", \"rating\": 4.5, \"comment\": \"Great laptop!\"},\n",
    "        {\"user\": \"User2\", \"rating\": 5.0, \"comment\": \"Excellent performance!\"}\n",
    "    ]\n",
    "}\n",
    "merged_dict=student_info | product_details\n",
    "print(merged_dict)"
   ]
  },
  {
   "cell_type": "code",
   "execution_count": 1,
   "id": "ba7f31b1-9725-4969-8156-5261e884874d",
   "metadata": {},
   "outputs": [
    {
     "name": "stdout",
     "output_type": "stream",
     "text": [
      "The most frequent element is 4 with a count of 5\n"
     ]
    }
   ],
   "source": [
    "#2. Write a program that finds the most frequent element in a list\n",
    "# Input list\n",
    "my_list = [1, 2, 2, 3, 4, 4, 44, 4, 5, 5, 6, 7, 7, 5, 4, 5, 7, 8, 9, 0, 4, 2]\n",
    "\n",
    "# Create an empty dictionary to store the count of each element\n",
    "element_count = {}\n",
    "\n",
    "# Iterate through the list and count the occurrences of each element\n",
    "for element in my_list:\n",
    "    if element in element_count:\n",
    "        element_count[element] += 1\n",
    "    else:\n",
    "        element_count[element] = 1\n",
    "\n",
    "# Find the element with the maximum count\n",
    "most_frequent_element = max(element_count, key=element_count.get)\n",
    "\n",
    "# Find the count of the most frequent element\n",
    "max_count = element_count[most_frequent_element]\n",
    "\n",
    "# Print the result\n",
    "print(f\"The most frequent element is {most_frequent_element} with a count of {max_count}\")\n"
   ]
  },
  {
   "cell_type": "code",
   "execution_count": 2,
   "id": "a758d3dd-2f66-4801-b1ec-231346704767",
   "metadata": {},
   "outputs": [
    {
     "name": "stdout",
     "output_type": "stream",
     "text": [
      "{'a': 1, 'c': 3}\n"
     ]
    }
   ],
   "source": [
    "#3.Implement a function that removes a key-value pair from a dictionary \n",
    "def remove_key_value_pair(my_dict, key_to_remove):\n",
    "    my_dict.pop(key_to_remove, None)\n",
    "\n",
    "# Example usage:\n",
    "my_dictionary = {\"a\": 1, \"b\": 2, \"c\": 3}\n",
    "\n",
    "# Remove the key-value pair\n",
    "remove_key_value_pair(my_dictionary, \"b\")\n",
    "print(my_dictionary)  # Output: {'a': 1, 'c': 3}\n"
   ]
  },
  {
   "cell_type": "code",
   "execution_count": null,
   "id": "7e20915d-3139-45ca-a36a-c01a740972b8",
   "metadata": {},
   "outputs": [],
   "source": []
  }
 ],
 "metadata": {
  "kernelspec": {
   "display_name": "Python 3 (ipykernel)",
   "language": "python",
   "name": "python3"
  },
  "language_info": {
   "codemirror_mode": {
    "name": "ipython",
    "version": 3
   },
   "file_extension": ".py",
   "mimetype": "text/x-python",
   "name": "python",
   "nbconvert_exporter": "python",
   "pygments_lexer": "ipython3",
   "version": "3.11.4"
  }
 },
 "nbformat": 4,
 "nbformat_minor": 5
}
