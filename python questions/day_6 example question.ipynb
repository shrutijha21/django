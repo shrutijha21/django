{
 "cells": [
  {
   "cell_type": "code",
   "execution_count": 3,
   "id": "ab57d256-691c-44b0-b4de-f25cc1411b06",
   "metadata": {},
   "outputs": [
    {
     "name": "stdout",
     "output_type": "stream",
     "text": [
      "45   5.0\n"
     ]
    }
   ],
   "source": [
    "#1. Given a list of numbers, find the sum and average using built-in functions.\n",
    "number=[1,4,5,7,8,9,3,2,6]\n",
    "sum=0\n",
    "for i in number:\n",
    "    sum+=i\n",
    "    average=sum/len(number)\n",
    "print(sum,\" \",average)"
   ]
  },
  {
   "cell_type": "code",
   "execution_count": 11,
   "id": "fbfff851-eb8d-4e8d-9e28-9e6c2848c835",
   "metadata": {},
   "outputs": [
    {
     "name": "stdout",
     "output_type": "stream",
     "text": [
      "['apple', 'banana', 'mango', 'orrange']\n"
     ]
    }
   ],
   "source": [
    "\n",
    "#2.Create a list of fruits and add a new fruit to the list\n",
    "fruits=['apple','banana','mango']\n",
    "new_f='orrange'\n",
    "fruits.append(new_f)\n",
    "print(fruits)"
   ]
  },
  {
   "cell_type": "code",
   "execution_count": 13,
   "id": "d61d6cd0-5e47-4199-a194-c8c6b94c6a06",
   "metadata": {},
   "outputs": [
    {
     "name": "stdout",
     "output_type": "stream",
     "text": [
      "1\n",
      "9\n",
      "8\n",
      "7\n"
     ]
    }
   ],
   "source": [
    "#3. Access elements in a tuple using indexing.\n",
    "tup=(1,9,8,7)\n",
    "for i in tup:\n",
    "    print(i)"
   ]
  },
  {
   "cell_type": "code",
   "execution_count": null,
   "id": "7b154a46-c48a-4f1c-8a29-9d875293952b",
   "metadata": {},
   "outputs": [],
   "source": []
  }
 ],
 "metadata": {
  "kernelspec": {
   "display_name": "Python 3 (ipykernel)",
   "language": "python",
   "name": "python3"
  },
  "language_info": {
   "codemirror_mode": {
    "name": "ipython",
    "version": 3
   },
   "file_extension": ".py",
   "mimetype": "text/x-python",
   "name": "python",
   "nbconvert_exporter": "python",
   "pygments_lexer": "ipython3",
   "version": "3.11.4"
  }
 },
 "nbformat": 4,
 "nbformat_minor": 5
}
