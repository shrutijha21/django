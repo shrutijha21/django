{
 "cells": [
  {
   "cell_type": "code",
   "execution_count": 3,
   "id": "5ed3e1cf-0e88-4271-885a-1266442e9983",
   "metadata": {},
   "outputs": [
    {
     "name": "stdin",
     "output_type": "stream",
     "text": [
      "Enter a number:  1\n"
     ]
    },
    {
     "name": "stdout",
     "output_type": "stream",
     "text": [
      "The number is positive.\n"
     ]
    }
   ],
   "source": [
    "#1.Write a program that checks if a given number is  ",
    "positive, negative, or zero.\n",
    "# Get the number from the user\n",
    "num = int(input(\"Enter a number: \"))\n",
    "\n",
    "# Check if the number is positive, negative, or zero\n",
    "if num > 0:\n",
    "    print(\"The number is positive.\")\n",
    "elif num < 0:\n",
    "    print(\"The number is negative.\")\n",
    "else:\n",
    "    print(\"The number is zero.\")\n",
    "\n",
    "\n"
   ]
  },
  {
   "cell_type": "code",
   "execution_count": 4,
   "id": "f20437c7-73c9-4a17-881a-265f61706965",
   "metadata": {},
   "outputs": [
    {
     "name": "stdout",
     "output_type": "stream",
     "text": [
      "2 4 6 8 10 12 14 16 18 20 "
     ]
    }
   ],
   "source": [
    "#2. Create a loop that prints the first 10 even numbers.\n",
    "\n",
    "# Use a for loop to print the first 10 even numbers\n",
    "for number in range(2, 22, 2):\n",
    "    print(number, end=\" \")\n"
   ]
  },
  {
   "cell_type": "code",
   "execution_count": 5,
   "id": "9dc96e45-1243-4cbe-8d20-824304997c27",
   "metadata": {},
   "outputs": [
    {
     "name": "stdout",
     "output_type": "stream",
     "text": [
      "The largest number in the list is: 30\n"
     ]
    }
   ],
   "source": [
    "#3. Implement a program that finds the largest number ",
    "in a list.\n",
    "\n",
    "# Given list of numbers\n",
    "numbers = [10, 5, 20, 8, 15, 30, 25]\n",
    "\n",
    "# Initialize a variable to store the maximum number\n",
    "max_number = numbers[0]  # Assume the first number is the maximum\n",
    "\n",
    "# Iterate through the list to find the maximum\n",
    "for number in numbers:\n",
    "    if number > max_number:\n",
    "        max_number = number\n",
    "\n",
    "# Print the maximum number\n",
    "print(\"The largest number in the list is:\", max_number)\n"
   ]
  },
  {
   "cell_type": "code",
   "execution_count": null,
   "id": "b6e0305b-4855-482c-8c8d-7ab4a66e661f",
   "metadata": {},
   "outputs": [],
   "source": []
  }
 ],
 "metadata": {
  "kernelspec": {
   "display_name": "Python 3 (ipykernel)",
   "language": "python",
   "name": "python3"
  },
  "language_info": {
   "codemirror_mode": {
    "name": "ipython",
    "version": 3
   },
   "file_extension": ".py",
   "mimetype": "text/x-python",
   "name": "python",
   "nbconvert_exporter": "python",
   "pygments_lexer": "ipython3",
   "version": "3.11.4"
  }
 },
 "nbformat": 4,
 "nbformat_minor": 5
}
