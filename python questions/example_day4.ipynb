{
 "cells": [
  {
   "cell_type": "code",
   "execution_count": 2,
   "id": "f27e018a-535c-493e-8014-e8b0db08451e",
   "metadata": {},
   "outputs": [],
   "source": [
    "#1.function to find area of a circle given it's radius\n",
    "def area_circle(r):\n",
    "    pi=3.14\n",
    "    a= pi*(r**2)\n",
    "    return a"
   ]
  },
  {
   "cell_type": "code",
   "execution_count": 4,
   "id": "763ac8c4-18db-40a0-aec0-8f17a66e9088",
   "metadata": {},
   "outputs": [
    {
     "data": {
      "text/plain": [
       "1256.0"
      ]
     },
     "execution_count": 4,
     "metadata": {},
     "output_type": "execute_result"
    }
   ],
   "source": [
    "area_circle(20) #and will come in float "
   ]
  },
  {
   "cell_type": "code",
   "execution_count": 39,
   "id": "a4461eb3-4d75-4575-b613-20cf1cd73743",
   "metadata": {},
   "outputs": [],
   "source": [
    "#2. function to find prime number\n",
    "def is_prime(n):\n",
    "    if n<=1:\n",
    "        return 'Not prime'\n",
    "    elif n<=3:\n",
    "        return 'Prime'\n",
    "    for i in range(2,(n//2)+1):\n",
    "        if n%i==0:\n",
    "            return 'not prime'\n",
    "        else:\n",
    "            return 'prime'"
   ]
  },
  {
   "cell_type": "code",
   "execution_count": 41,
   "id": "d84ead72-00c9-4564-ace0-b6b3f070ab31",
   "metadata": {},
   "outputs": [
    {
     "data": {
      "text/plain": [
       "'Prime'"
      ]
     },
     "execution_count": 41,
     "metadata": {},
     "output_type": "execute_result"
    }
   ],
   "source": [
    "is_prime(3)"
   ]
  },
  {
   "cell_type": "code",
   "execution_count": 42,
   "id": "3f09ad35-2304-4a98-a274-5c40477e9b6a",
   "metadata": {},
   "outputs": [],
   "source": [
    "#3.define a function which returns the reverse of a string\n",
    "def rev_str(s):\n",
    "    return s[::-1]"
   ]
  },
  {
   "cell_type": "code",
   "execution_count": 43,
   "id": "a88faf1a-b026-4603-a019-aa53b58cbc0f",
   "metadata": {},
   "outputs": [
    {
     "data": {
      "text/plain": [
       "'iturhs ma i ih'"
      ]
     },
     "execution_count": 43,
     "metadata": {},
     "output_type": "execute_result"
    }
   ],
   "source": [
    "rev_str('hi i am shruti')"
   ]
  },
  {
   "cell_type": "code",
   "execution_count": null,
   "id": "786603f0-3359-4fb6-a3e9-103ed6ef4054",
   "metadata": {},
   "outputs": [],
   "source": [
    "\n"
   ]
  }
 ],
 "metadata": {
  "kernelspec": {
   "display_name": "Python 3 (ipykernel)",
   "language": "python",
   "name": "python3"
  },
  "language_info": {
   "codemirror_mode": {
    "name": "ipython",
    "version": 3
   },
   "file_extension": ".py",
   "mimetype": "text/x-python",
   "name": "python",
   "nbconvert_exporter": "python",
   "pygments_lexer": "ipython3",
   "version": "3.11.4"
  }
 },
 "nbformat": 4,
 "nbformat_minor": 5
}
