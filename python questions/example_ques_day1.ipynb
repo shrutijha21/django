{
 "cells": [
  {
   "cell_type": "code",
   "execution_count": 1,
   "id": "d3c5f8ba-e02e-4943-8f97-6c6295ab78d7",
   "metadata": {},
   "outputs": [
    {
     "name": "stdout",
     "output_type": "stream",
     "text": [
      "Hello, World!\n"
     ]
    }
   ],
   "source": [
    "#program to print hello world\n",
    "\n",
    "\n",
    "print(\"Hello, World!\")"
   ]
  },
  {
   "cell_type": "code",
   "execution_count": 2,
   "id": "9082d7be-3b3c-4eed-ab7e-198a69dbb128",
   "metadata": {},
   "outputs": [
    {
     "name": "stdin",
     "output_type": "stream",
     "text": [
      "enter 1st number 32\n",
      "enter 2nd number 33\n"
     ]
    },
    {
     "name": "stdout",
     "output_type": "stream",
     "text": [
      "the sum of two numbers entered by the user is: 65\n"
     ]
    }
   ],
   "source": [
    "#to calculate the sum of two numbers entered by the user\n",
    "\n",
    "\n",
    "a=int(input(\"enter 1st number\"))\n",
    "b=int(input(\"enter 2nd number\"))\n",
    "sum=a+b\n",
    "print(\"the sum of two numbers entered by the user is:\",sum)"
   ]
  },
  {
   "cell_type": "code",
   "execution_count": 4,
   "id": "be8f154f-0022-42ff-bd9e-d8c738c3f546",
   "metadata": {},
   "outputs": [
    {
     "name": "stdin",
     "output_type": "stream",
     "text": [
      "enter the temperature in celcius: 33\n"
     ]
    },
    {
     "name": "stdout",
     "output_type": "stream",
     "text": [
      "the temperature in farhenheit is: 91.4\n"
     ]
    }
   ],
   "source": [
    "#to convert temperature from celsius into farhenheit\n",
    "\n",
    "#formula is (c*9/5)+32\n",
    "\n",
    "\n",
    "c=int(input(\"enter the temperature in celcius:\"))\n",
    "f=(c*9/5)+32\n",
    "print(\"the temperature in farhenheit is:\",f)"
   ]
  },
  {
   "cell_type": "code",
   "execution_count": null,
   "id": "c343143c-de32-4400-af19-1cefcf33ffb6",
   "metadata": {},
   "outputs": [],
   "source": []
  }
 ],
 "metadata": {
  "kernelspec": {
   "display_name": "Python 3 (ipykernel)",
   "language": "python",
   "name": "python3"
  },
  "language_info": {
   "codemirror_mode": {
    "name": "ipython",
    "version": 3
   },
   "file_extension": ".py",
   "mimetype": "text/x-python",
   "name": "python",
   "nbconvert_exporter": "python",
   "pygments_lexer": "ipython3",
   "version": "3.11.4"
  }
 },
 "nbformat": 4,
 "nbformat_minor": 5
}
