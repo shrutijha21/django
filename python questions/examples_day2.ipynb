{
 "cells": [
  {
   "cell_type": "code",
   "execution_count": 1,
   "id": "63faeb77-7ff0-44f0-83f5-a8422b74e2f9",
   "metadata": {},
   "outputs": [
    {
     "name": "stdout",
     "output_type": "stream",
     "text": [
      "the average score of  Shruti  who is  23  years old is : 78.75\n"
     ]
    }
   ],
   "source": [
    "#1st:Create variables for storing a person's name, age, and average test score.\n",
    "name='Shruti'\n",
    "age=23\n",
    "#now i will have marks for different subjects out of 100 to get the average test score\n",
    "s1=88\n",
    "s2=90\n",
    "s3=67\n",
    "s4=70\n",
    "average=(s1+s2+s3+s4)/4\n",
    "\n",
    "print(\"the average score of \",name,\" who is \",age,\" years old is :\", average)"
   ]
  },
  {
   "cell_type": "code",
   "execution_count": 3,
   "id": "00057e47-870d-4f29-94a8-6873dbbb222e",
   "metadata": {},
   "outputs": [
    {
     "name": "stdout",
     "output_type": "stream",
     "text": [
      "the concatenated string is:Hi! How are you?I saw you after so long!\n"
     ]
    }
   ],
   "source": [
    "#2nd:Concatenate two strings and print the result.\n",
    "st1=\"Hi! How are you?\"\n",
    "st2=\"I saw you after so long!\"\n",
    "print(\"the concatenated string is:\"+st1+st2)"
   ]
  },
  {
   "cell_type": "code",
   "execution_count": 4,
   "id": "11ba79a0-6413-4c4a-a901-cf65b168ca7c",
   "metadata": {},
   "outputs": [
    {
     "name": "stdout",
     "output_type": "stream",
     "text": [
      "apple\n",
      "mango\n",
      "banana\n",
      "watermelon\n",
      "orange\n",
      "grapes\n"
     ]
    }
   ],
   "source": [
    "#3rd:Create a list of fruits and access elements using indexing.\n",
    "fruit_list=['apple','mango','banana','watermelon','orange','grapes']\n",
    "for elements in fruit_list:\n",
    "    print(elements)"
   ]
  },
  {
   "cell_type": "code",
   "execution_count": 5,
   "id": "7c7fb51a-6bff-420b-bc94-f7ac563aa357",
   "metadata": {},
   "outputs": [
    {
     "data": {
      "text/plain": [
       "2"
      ]
     },
     "execution_count": 5,
     "metadata": {},
     "output_type": "execute_result"
    }
   ],
   "source": []
  },
  {
   "cell_type": "code",
   "execution_count": null,
   "id": "12321206-a01f-4522-bf4a-408364216988",
   "metadata": {},
   "outputs": [],
   "source": []
  }
 ],
 "metadata": {
  "kernelspec": {
   "display_name": "Python 3 (ipykernel)",
   "language": "python",
   "name": "python3"
  },
  "language_info": {
   "codemirror_mode": {
    "name": "ipython",
    "version": 3
   },
   "file_extension": ".py",
   "mimetype": "text/x-python",
   "name": "python",
   "nbconvert_exporter": "python",
   "pygments_lexer": "ipython3",
   "version": "3.11.4"
  }
 },
 "nbformat": 4,
 "nbformat_minor": 5
}
