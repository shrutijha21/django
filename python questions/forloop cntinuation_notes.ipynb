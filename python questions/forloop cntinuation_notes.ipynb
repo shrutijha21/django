{
 "cells": [
  {
   "cell_type": "code",
   "execution_count": 1,
   "id": "7ba0db0f-34b2-4c35-b657-bd714fb33d36",
   "metadata": {},
   "outputs": [
    {
     "name": "stdout",
     "output_type": "stream",
     "text": [
      "1\n",
      "2\n",
      "3\n",
      "4\n",
      "5\n"
     ]
    }
   ],
   "source": [
    "numbers = [1, 2, 3, 4, 5]\n",
    "for number in numbers: \n",
    "\n",
    "       print(number) "
   ]
  },
  {
   "cell_type": "code",
   "execution_count": 2,
   "id": "fe8da1ac-7d8e-49bd-8e13-cbe1ca2ff621",
   "metadata": {},
   "outputs": [
    {
     "name": "stdout",
     "output_type": "stream",
     "text": [
      "o\n",
      "n\n",
      "e\n"
     ]
    }
   ],
   "source": [
    "numbers = 'one'\n",
    "for number in numbers: \n",
    "\n",
    "       print(number) "
   ]
  },
  {
   "cell_type": "code",
   "execution_count": 10,
   "id": "5de156fc-524f-45c7-9210-1917eea3939c",
   "metadata": {},
   "outputs": [
    {
     "name": "stdout",
     "output_type": "stream",
     "text": [
      "1\n",
      "2\n",
      "3\n",
      "4\n",
      "5\n"
     ]
    }
   ],
   "source": [
    "numbers = [1, 2, 3, 4, 5]\n",
    "for i in range(0,len(numbers)): \n",
    "\n",
    "       print(numbers[i]) "
   ]
  },
  {
   "cell_type": "code",
   "execution_count": 11,
   "id": "4eda4b4b-73fb-4c95-b0ef-02b6ee4f8aa8",
   "metadata": {},
   "outputs": [
    {
     "name": "stdout",
     "output_type": "stream",
     "text": [
      "Index: 0, Fruit: apple\n",
      "Index: 1, Fruit: banana\n",
      "Index: 2, Fruit: cherry\n"
     ]
    }
   ],
   "source": [
    "fruits = [\"apple\", \"banana\", \"cherry\"] \n",
    "for index, fruit in enumerate(fruits):\n",
    "    print(f\"Index: {index}, Fruit: {fruit}\") "
   ]
  },
  {
   "cell_type": "code",
   "execution_count": 12,
   "id": "c5448bde-5161-40a5-b3ba-57a9df8e937e",
   "metadata": {},
   "outputs": [
    {
     "name": "stdout",
     "output_type": "stream",
     "text": [
      "0 0\n",
      "0 1\n",
      "1 0\n",
      "1 1\n",
      "2 0\n",
      "2 1\n"
     ]
    }
   ],
   "source": [
    "for i in range(3):\n",
    "    for j in range(2):\n",
    "        print(i,j)"
   ]
  },
  {
   "cell_type": "code",
   "execution_count": 15,
   "id": "7c2b8515-4aab-4c6f-8922-7b43a4335009",
   "metadata": {},
   "outputs": [
    {
     "name": "stdout",
     "output_type": "stream",
     "text": [
      "Alice: 95\n",
      "Bob: 87\n",
      "Charlie: 92\n"
     ]
    }
   ],
   "source": [
    "student_grades = {'Alice': 95, 'Bob': 87, 'Charlie': 92} \n",
    "\n",
    "for name, grade in student_grades.items(): \n",
    "\n",
    "    print(f\"{name}: {grade}\") "
   ]
  },
  {
   "cell_type": "code",
   "execution_count": 19,
   "id": "dba1b62c-cea1-4de0-b692-3b5f60aece16",
   "metadata": {},
   "outputs": [],
   "source": [
    "a,*r=(1,2,3)"
   ]
  },
  {
   "cell_type": "code",
   "execution_count": 17,
   "id": "dad254bc-af86-4d5f-a52b-fdd65bce17c1",
   "metadata": {},
   "outputs": [
    {
     "data": {
      "text/plain": [
       "1"
      ]
     },
     "execution_count": 17,
     "metadata": {},
     "output_type": "execute_result"
    }
   ],
   "source": [
    "a"
   ]
  },
  {
   "cell_type": "code",
   "execution_count": 20,
   "id": "ce6bf024-a7b1-4bbc-b5ee-95e84050e32d",
   "metadata": {},
   "outputs": [
    {
     "data": {
      "text/plain": [
       "[2, 3]"
      ]
     },
     "execution_count": 20,
     "metadata": {},
     "output_type": "execute_result"
    }
   ],
   "source": [
    "r"
   ]
  },
  {
   "cell_type": "code",
   "execution_count": 22,
   "id": "bb0a545b-54ff-4536-95e8-f0f5a43b6791",
   "metadata": {},
   "outputs": [
    {
     "name": "stdout",
     "output_type": "stream",
     "text": [
      "X: 1, Y: 2\n",
      "X: 3, Y: 4\n",
      "X: 5, Y: 6\n"
     ]
    }
   ],
   "source": [
    "coordinates = [(1, 2), (3, 4), (5, 6)] \n",
    "\n",
    "for x, y in coordinates: \n",
    "\n",
    "     print(f\"X: {x}, Y: {y}\") "
   ]
  },
  {
   "cell_type": "code",
   "execution_count": null,
   "id": "73095c4c-5fd4-422f-b7a9-bcb36003a2af",
   "metadata": {},
   "outputs": [],
   "source": []
  }
 ],
 "metadata": {
  "kernelspec": {
   "display_name": "Python 3 (ipykernel)",
   "language": "python",
   "name": "python3"
  },
  "language_info": {
   "codemirror_mode": {
    "name": "ipython",
    "version": 3
   },
   "file_extension": ".py",
   "mimetype": "text/x-python",
   "name": "python",
   "nbconvert_exporter": "python",
   "pygments_lexer": "ipython3",
   "version": "3.11.4"
  }
 },
 "nbformat": 4,
 "nbformat_minor": 5
}
