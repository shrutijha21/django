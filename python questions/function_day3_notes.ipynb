{
 "cells": [
  {
   "cell_type": "code",
   "execution_count": 12,
   "id": "62a24e47-a255-4e0f-abdf-7a5b0da2df9e",
   "metadata": {},
   "outputs": [],
   "source": [
    "#function explanation\n",
    "def fun_one(name):\n",
    "    print(\"name=\",name)"
   ]
  },
  {
   "cell_type": "code",
   "execution_count": 13,
   "id": "e0ecf49c-751e-4738-bef5-53e149a7cbd4",
   "metadata": {},
   "outputs": [
    {
     "name": "stdout",
     "output_type": "stream",
     "text": [
      "name= shruti\n"
     ]
    }
   ],
   "source": [
    "fun_one('shruti')"
   ]
  },
  {
   "cell_type": "code",
   "execution_count": 14,
   "id": "6716b092-7495-47bb-9e47-31b57810197c",
   "metadata": {},
   "outputs": [],
   "source": [
    "def fun_two(name='alice'):\n",
    "    print(\"name=\",name)"
   ]
  },
  {
   "cell_type": "code",
   "execution_count": 19,
   "id": "fbe39e75-4083-4275-b7b3-b2b97fd208bc",
   "metadata": {},
   "outputs": [
    {
     "name": "stdout",
     "output_type": "stream",
     "text": [
      "name= alice\n"
     ]
    }
   ],
   "source": [
    "fun_two()"
   ]
  },
  {
   "cell_type": "code",
   "execution_count": 16,
   "id": "ec8657b9-49a0-43b6-b2be-08a1947b5dcb",
   "metadata": {},
   "outputs": [],
   "source": [
    "def fun_three(name='alice'):\n",
    "    print(\"name=\",name)"
   ]
  },
  {
   "cell_type": "code",
   "execution_count": 20,
   "id": "f108ae3d-8d1d-4549-b590-7273789e088a",
   "metadata": {},
   "outputs": [
    {
     "name": "stdout",
     "output_type": "stream",
     "text": [
      "name= shruti\n"
     ]
    }
   ],
   "source": [
    "fun_three('shruti')"
   ]
  },
  {
   "cell_type": "code",
   "execution_count": 13,
   "id": "59d9bf24-3577-440d-8313-8dbed6fe8b7a",
   "metadata": {},
   "outputs": [],
   "source": [
    "#example of return statement:\n",
    "def ret_statement(a):\n",
    "    return a\n"
   ]
  },
  {
   "cell_type": "code",
   "execution_count": 14,
   "id": "c648824a-72ed-4083-bbd3-fd781d5a1e40",
   "metadata": {},
   "outputs": [
    {
     "data": {
      "text/plain": [
       "10"
      ]
     },
     "execution_count": 14,
     "metadata": {},
     "output_type": "execute_result"
    }
   ],
   "source": [
    "a=ret_statement(10)\n",
    "a"
   ]
  },
  {
   "cell_type": "code",
   "execution_count": 23,
   "id": "ea09c2ab-f232-4860-b56a-cd9e8f0df7ab",
   "metadata": {},
   "outputs": [],
   "source": [
    "#return statement helps to store a function in a variable\n",
    "\n",
    "def ret_stat(a,b):\n",
    "    m=a*b\n",
    "    return m"
   ]
  },
  {
   "cell_type": "code",
   "execution_count": 25,
   "id": "4a576d3e-ea10-4497-80fd-947d1cf7aef7",
   "metadata": {},
   "outputs": [],
   "source": [
    "var=ret_stat(10,20)"
   ]
  },
  {
   "cell_type": "code",
   "execution_count": 26,
   "id": "ec97f964-b373-49d1-9864-985b9d924af4",
   "metadata": {},
   "outputs": [
    {
     "name": "stdout",
     "output_type": "stream",
     "text": [
      "200\n"
     ]
    }
   ],
   "source": [
    "print(var)"
   ]
  },
  {
   "cell_type": "code",
   "execution_count": 30,
   "id": "b87de5a3-c070-472d-960d-c50a802d371b",
   "metadata": {},
   "outputs": [],
   "source": [
    "#we can pass dictionaries in a function\n",
    "def pass_dict(d):\n",
    "     return d"
   ]
  },
  {
   "cell_type": "code",
   "execution_count": 31,
   "id": "78a33c97-c5ac-4587-aec2-708e6fac42fb",
   "metadata": {},
   "outputs": [
    {
     "data": {
      "text/plain": [
       "1"
      ]
     },
     "execution_count": 31,
     "metadata": {},
     "output_type": "execute_result"
    }
   ],
   "source": [
    "dict={'k1':1,'k2':10}\n",
    "pass_dict(dict['k1'])"
   ]
  },
  {
   "cell_type": "code",
   "execution_count": 26,
   "id": "2075154b-e185-4c04-9182-7f5c87cb6aa6",
   "metadata": {},
   "outputs": [],
   "source": [
    "def pass_dic(d):\n",
    " for i in d.items():\n",
    "     return d"
   ]
  },
  {
   "cell_type": "code",
   "execution_count": 28,
   "id": "2d657a8b-366c-4d71-a8dd-8bef098806bf",
   "metadata": {},
   "outputs": [
    {
     "data": {
      "text/plain": [
       "{'k1': 20, 'k2': 100}"
      ]
     },
     "execution_count": 28,
     "metadata": {},
     "output_type": "execute_result"
    }
   ],
   "source": [
    "dict={'k1':20,'k2':100}\n",
    "pass_dic(dict)#to get a particular value from dictionary"
   ]
  },
  {
   "cell_type": "code",
   "execution_count": 39,
   "id": "8e72afcf-4575-4b24-9487-74ae1635982f",
   "metadata": {},
   "outputs": [],
   "source": [
    "def say_hi(name='shruti'):\n",
    "    print(f'hi {name}')"
   ]
  },
  {
   "cell_type": "code",
   "execution_count": 41,
   "id": "af90fe0b-aaa6-4fde-9f93-e1140a1d7d5c",
   "metadata": {},
   "outputs": [
    {
     "name": "stdout",
     "output_type": "stream",
     "text": [
      "hi shruti\n"
     ]
    }
   ],
   "source": [
    "say_hi()"
   ]
  },
  {
   "cell_type": "code",
   "execution_count": 34,
   "id": "3f4276cb-f63d-47ce-8e07-6080e5c13275",
   "metadata": {},
   "outputs": [],
   "source": [
    "#*args\n",
    "def func_1(a,*args):\n",
    "    for dish in args:\n",
    "        print(a,\"ordering:\",dish)"
   ]
  },
  {
   "cell_type": "code",
   "execution_count": 37,
   "id": "5fd1c0b5-d37e-47e4-b194-8b74e82b7c60",
   "metadata": {},
   "outputs": [
    {
     "ename": "TypeError",
     "evalue": "'function' object is not iterable",
     "output_type": "error",
     "traceback": [
      "\u001b[1;31m---------------------------------------------------------------------------\u001b[0m",
      "\u001b[1;31mTypeError\u001b[0m                                 Traceback (most recent call last)",
      "Cell \u001b[1;32mIn[37], line 1\u001b[0m\n\u001b[1;32m----> 1\u001b[0m \u001b[43mfunc_1\u001b[49m\u001b[43m(\u001b[49m\u001b[38;5;124;43m\"\u001b[39;49m\u001b[38;5;124;43mpaneer\u001b[39;49m\u001b[38;5;124;43m\"\u001b[39;49m\u001b[43m,\u001b[49m\u001b[38;5;124;43m\"\u001b[39;49m\u001b[38;5;124;43mgarlic naan\u001b[39;49m\u001b[38;5;124;43m\"\u001b[39;49m\u001b[43m,\u001b[49m\u001b[38;5;124;43m\"\u001b[39;49m\u001b[38;5;124;43mnoodles\u001b[39;49m\u001b[38;5;124;43m\"\u001b[39;49m\u001b[43m)\u001b[49m\n",
      "Cell \u001b[1;32mIn[34], line 3\u001b[0m, in \u001b[0;36mfunc_1\u001b[1;34m(a, *args)\u001b[0m\n\u001b[0;32m      2\u001b[0m \u001b[38;5;28;01mdef\u001b[39;00m \u001b[38;5;21mfunc_1\u001b[39m(a,\u001b[38;5;241m*\u001b[39margs):\n\u001b[1;32m----> 3\u001b[0m     \u001b[38;5;28;01mfor\u001b[39;00m dish \u001b[38;5;129;01min\u001b[39;00m func_1:\n\u001b[0;32m      4\u001b[0m         \u001b[38;5;28mprint\u001b[39m(a,\u001b[38;5;124m\"\u001b[39m\u001b[38;5;124mordering:\u001b[39m\u001b[38;5;124m\"\u001b[39m,dish)\n",
      "\u001b[1;31mTypeError\u001b[0m: 'function' object is not iterable"
     ]
    }
   ],
   "source": [
    "func_1(\"paneer\",\"garlic naan\",\"noodles\")"
   ]
  },
  {
   "cell_type": "code",
   "execution_count": null,
   "id": "f33854c3-9ff4-4b96-917c-6ac92f83a517",
   "metadata": {},
   "outputs": [],
   "source": []
  }
 ],
 "metadata": {
  "kernelspec": {
   "display_name": "Python 3 (ipykernel)",
   "language": "python",
   "name": "python3"
  },
  "language_info": {
   "codemirror_mode": {
    "name": "ipython",
    "version": 3
   },
   "file_extension": ".py",
   "mimetype": "text/x-python",
   "name": "python",
   "nbconvert_exporter": "python",
   "pygments_lexer": "ipython3",
   "version": "3.11.4"
  }
 },
 "nbformat": 4,
 "nbformat_minor": 5
}
