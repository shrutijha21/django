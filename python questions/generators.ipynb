{
 "cells": [
  {
   "cell_type": "code",
   "execution_count": 1,
   "id": "839a8a9e-0776-4e11-8984-6fde15a82f54",
   "metadata": {},
   "outputs": [],
   "source": [
    "#generators function\n",
    "def create_cubes(n):\n",
    "    result=[]\n",
    "    for x in range(n):\n",
    "        result.append(x**3)\n",
    "    return result"
   ]
  },
  {
   "cell_type": "code",
   "execution_count": 2,
   "id": "55a773b4-e88f-4453-9ec7-d03595a146e6",
   "metadata": {},
   "outputs": [
    {
     "data": {
      "text/plain": [
       "[0, 1, 8, 27, 64, 125, 216, 343, 512, 729]"
      ]
     },
     "execution_count": 2,
     "metadata": {},
     "output_type": "execute_result"
    }
   ],
   "source": [
    "create_cubes(10)#we are storing them all in the memory and using the formula"
   ]
  },
  {
   "cell_type": "code",
   "execution_count": 4,
   "id": "801e3800-c9f2-4408-a2ad-5e7d9b9eaa1d",
   "metadata": {},
   "outputs": [
    {
     "name": "stdout",
     "output_type": "stream",
     "text": [
      "0\n",
      "1\n",
      "8\n",
      "27\n",
      "64\n",
      "125\n",
      "216\n",
      "343\n",
      "512\n",
      "729\n"
     ]
    }
   ],
   "source": [
    "for x in create_cubes(10):\n",
    "    print(x)#here the value is not stored in memory it is just iterated and shown.."
   ]
  },
  {
   "cell_type": "code",
   "execution_count": 8,
   "id": "e5e08de6-dc98-4131-b759-fc86e8063f5f",
   "metadata": {},
   "outputs": [],
   "source": [
    "#how to use henerators here\n",
    "def create_cubes_generators(n):\n",
    "    result=[]\n",
    "    for x in range(n):\n",
    "        yield x**3#it is way more memory efficient.. i am just yielding the values\n"
   ]
  },
  {
   "cell_type": "code",
   "execution_count": 9,
   "id": "418f4a32-bd83-44ef-9780-f157e7b34f6e",
   "metadata": {},
   "outputs": [
    {
     "name": "stdout",
     "output_type": "stream",
     "text": [
      "0\n",
      "1\n",
      "8\n",
      "27\n",
      "64\n",
      "125\n",
      "216\n",
      "343\n",
      "512\n",
      "729\n"
     ]
    }
   ],
   "source": [
    "for x in create_cubes_generators(10):\n",
    "    print(x)\n"
   ]
  },
  {
   "cell_type": "code",
   "execution_count": 10,
   "id": "954a4b05-80be-49d2-8bbe-d9a0a60c7dee",
   "metadata": {},
   "outputs": [
    {
     "data": {
      "text/plain": [
       "<generator object create_cubes_generators at 0x00000191D1A8B060>"
      ]
     },
     "execution_count": 10,
     "metadata": {},
     "output_type": "execute_result"
    }
   ],
   "source": [
    "create_cubes_generators(10)"
   ]
  },
  {
   "cell_type": "code",
   "execution_count": 11,
   "id": "dd780e1f-5bb8-4cd1-9783-91aaf3a122e6",
   "metadata": {},
   "outputs": [
    {
     "data": {
      "text/plain": [
       "[0, 1, 8, 27, 64, 125, 216, 343, 512, 729]"
      ]
     },
     "execution_count": 11,
     "metadata": {},
     "output_type": "execute_result"
    }
   ],
   "source": [
    "list(create_cubes_generators(10))"
   ]
  },
  {
   "cell_type": "code",
   "execution_count": 28,
   "id": "f2fdfd20-26b7-4d9d-8c1e-bf7f1a46d6fc",
   "metadata": {},
   "outputs": [],
   "source": [
    "#2nd example:fabonacci\n",
    "\n",
    "\n",
    "def fabonacci(n):\n",
    "    a,b=0,1\n",
    "    series=[]\n",
    "    for i in range(n):\n",
    "        series.append(a)\n",
    "        a,b=b,a+b\n",
    "    return series\n",
    "        "
   ]
  },
  {
   "cell_type": "code",
   "execution_count": 29,
   "id": "8fca5cb8-2ab2-4cf7-95d0-859c97a2bbda",
   "metadata": {},
   "outputs": [
    {
     "data": {
      "text/plain": [
       "[0, 1, 1, 2, 3, 5, 8, 13, 21, 34]"
      ]
     },
     "execution_count": 29,
     "metadata": {},
     "output_type": "execute_result"
    }
   ],
   "source": [
    "fabonacci(10)"
   ]
  },
  {
   "cell_type": "code",
   "execution_count": 24,
   "id": "fae20234-8b0c-43c8-b595-f1e9342e5589",
   "metadata": {},
   "outputs": [],
   "source": [
    "#now with the help of generators\n",
    "\n",
    "def fabonacci_gen(n):\n",
    "    a,b=0,1\n",
    "    for i in range(n):\n",
    "        yield a\n",
    "        a,b=b,a+b\n",
    "        "
   ]
  },
  {
   "cell_type": "code",
   "execution_count": 25,
   "id": "d78e772b-fe3e-497c-a8aa-c10e1c50fa30",
   "metadata": {},
   "outputs": [
    {
     "name": "stdout",
     "output_type": "stream",
     "text": [
      "0\n",
      "1\n",
      "1\n",
      "2\n",
      "3\n",
      "5\n",
      "8\n",
      "13\n",
      "21\n",
      "34\n"
     ]
    }
   ],
   "source": [
    "for i in fabonacci_gen(10):\n",
    "    print(i)"
   ]
  },
  {
   "cell_type": "raw",
   "id": "bd34a35f-25b2-45e1-b931-fd9751e8faaa",
   "metadata": {},
   "source": []
  },
  {
   "cell_type": "code",
   "execution_count": null,
   "id": "930dcdf7-b20c-42fc-87f0-c7430b0ce645",
   "metadata": {},
   "outputs": [],
   "source": []
  }
 ],
 "metadata": {
  "kernelspec": {
   "display_name": "Python 3 (ipykernel)",
   "language": "python",
   "name": "python3"
  },
  "language_info": {
   "codemirror_mode": {
    "name": "ipython",
    "version": 3
   },
   "file_extension": ".py",
   "mimetype": "text/x-python",
   "name": "python",
   "nbconvert_exporter": "python",
   "pygments_lexer": "ipython3",
   "version": "3.11.4"
  }
 },
 "nbformat": 4,
 "nbformat_minor": 5
}
