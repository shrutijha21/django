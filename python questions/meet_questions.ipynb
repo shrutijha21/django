{
 "cells": [
  {
   "cell_type": "code",
   "execution_count": 1,
   "id": "d959bc8a-544d-4774-9542-49b160f8ad5b",
   "metadata": {},
   "outputs": [
    {
     "name": "stdin",
     "output_type": "stream",
     "text": [
      "enter the sequence of number seperated by comma 1,2,3,4,5,6,7,8,9\n"
     ]
    },
    {
     "name": "stdout",
     "output_type": "stream",
     "text": [
      "list= ['1', '2', '3', '4', '5', '6', '7', '8', '9']\n",
      "tuple= ('1', '2', '3', '4', '5', '6', '7', '8', '9')\n"
     ]
    }
   ],
   "source": [
    "#1. to take a input of sequence of number seperated by a comma and then convert it int a list or a tuple\n",
    "i=input(\"enter the sequence of number seperated by comma\")\n",
    "list=i.split(',')\n",
    "tup=tuple(list)\n",
    "print(\"list=\",list)\n",
    "print(\"tuple=\",tup)"
   ]
  },
  {
   "cell_type": "code",
   "execution_count": 9,
   "id": "6131f0ed-73c3-4a72-bae4-4d257e781dcf",
   "metadata": {},
   "outputs": [
    {
     "name": "stdin",
     "output_type": "stream",
     "text": [
      "enter the number of lines you want to accept 2\n",
      "enter the lines hi how are you\n"
     ]
    },
    {
     "name": "stdout",
     "output_type": "stream",
     "text": [
      "HI HOW ARE YOU\n"
     ]
    },
    {
     "name": "stdin",
     "output_type": "stream",
     "text": [
      "enter the lines how have you been\n"
     ]
    },
    {
     "name": "stdout",
     "output_type": "stream",
     "text": [
      "HOW HAVE YOU BEEN\n"
     ]
    }
   ],
   "source": [
    "#2.to take an input as a sentence and convert it into upper case\n",
    "l=[]\n",
    "n=int(input(\"enter the number of lines you want to accept\"))\n",
    "for i in range(n):\n",
    "    s=input(\"enter the lines\")\n",
    "    new_s=s.upper()\n",
    "    print(new_s)"
   ]
  },
  {
   "cell_type": "code",
   "execution_count": 21,
   "id": "eba2a38a-a374-4702-83c4-1e112afc29cd",
   "metadata": {},
   "outputs": [
    {
     "name": "stdin",
     "output_type": "stream",
     "text": [
      "enter the sentence with letter and digits hi 123\n"
     ]
    },
    {
     "name": "stdout",
     "output_type": "stream",
     "text": [
      "2 3\n"
     ]
    }
   ],
   "source": [
    "#3.to write a program that accepts a sentence and give counts of letter and digits seprately\n",
    "s=input(\"enter the sentence with letter and digits\")\n",
    "letter=0\n",
    "digit=0\n",
    "for i in s:\n",
    "    # if i.isalpha():\n",
    "    #     letter+=1\n",
    "    # elif i.isdigit():\n",
    "    #     digit+=1\n",
    "    if 'a'<=i.lower()<='z':\n",
    "        letter+=1\n",
    "    elif '0'<=i<='9':\n",
    "        digit+=1\n",
    "print(letter, digit)"
   ]
  },
  {
   "cell_type": "code",
   "execution_count": 11,
   "id": "f0398c3e-2081-44cb-b006-6d9fe0d29fe9",
   "metadata": {},
   "outputs": [
    {
     "name": "stdout",
     "output_type": "stream",
     "text": [
      "30\n",
      "25\n"
     ]
    }
   ],
   "source": [
    "#4. to print the um off odd and even numbers seperately from a list\n",
    "odd_sum=0\n",
    "even_sum=0\n",
    "list=[1,2,3,4,5,6,7,8,9,10]\n",
    "for i in list:\n",
    "    if i%2==0:\n",
    "        even_sum+=i\n",
    "    else:\n",
    "        odd_sum+=i\n",
    "print(even_sum)\n",
    "print(odd_sum)"
   ]
  },
  {
   "cell_type": "code",
   "execution_count": null,
   "id": "e5232b85-d638-4d3d-a3a8-6a5974f932c3",
   "metadata": {},
   "outputs": [],
   "source": []
  }
 ],
 "metadata": {
  "kernelspec": {
   "display_name": "Python 3 (ipykernel)",
   "language": "python",
   "name": "python3"
  },
  "language_info": {
   "codemirror_mode": {
    "name": "ipython",
    "version": 3
   },
   "file_extension": ".py",
   "mimetype": "text/x-python",
   "name": "python",
   "nbconvert_exporter": "python",
   "pygments_lexer": "ipython3",
   "version": "3.11.4"
  }
 },
 "nbformat": 4,
 "nbformat_minor": 5
}
