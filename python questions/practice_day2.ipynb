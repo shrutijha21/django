{
 "cells": [
  {
   "cell_type": "code",
   "execution_count": 12,
   "id": "9d4a4dfc-bee0-497c-9aca-6e65601d5916",
   "metadata": {},
   "outputs": [
    {
     "name": "stdin",
     "output_type": "stream",
     "text": [
      "enter the length of list 4\n",
      " 1\n",
      " 2\n",
      " 3\n",
      " 4\n"
     ]
    },
    {
     "name": "stdout",
     "output_type": "stream",
     "text": [
      "[1, 2, 3, 4]\n",
      "sum is: 10 and average is 2.0\n"
     ]
    }
   ],
   "source": [
    "#Given a list of numbers, find the sum and average\n",
    "import random\n",
    "list=[]\n",
    "n=int(input(\"enter the length of list\"))\n",
    "for elements in range(0,n):\n",
    "    elements=int(input())\n",
    "    list.append(elements)\n",
    "print(list)\n",
    "\n",
    "#now to get the sum of elements and average\n",
    "sum=0\n",
    "for elements in list:\n",
    "    sum+=elements\n",
    "print(\"sum is:\",sum,\"and average is\",float(sum//n))"
   ]
  },
  {
   "cell_type": "code",
   "execution_count": 13,
   "id": "0a874489-1179-42b1-9092-e1b489e4544a",
   "metadata": {},
   "outputs": [
    {
     "name": "stdin",
     "output_type": "stream",
     "text": [
      "enter the temperature in celcius 32\n"
     ]
    },
    {
     "name": "stdout",
     "output_type": "stream",
     "text": [
      "temperature in Kelvin: 305.15\n"
     ]
    }
   ],
   "source": [
    "#2nd:Create a program that takes a temperature in Celsius and converts it to Kelvin'\n",
    "c=float(input(\"enter the temperature in celcius\"))\n",
    "k=c+273.15\n",
    "print(\"temperature in Kelvin:\",k) "
   ]
  },
  {
   "cell_type": "code",
   "execution_count": 14,
   "id": "cd0175c1-c89e-467f-a919-6ff360d7259c",
   "metadata": {},
   "outputs": [],
   "source": [
    "#3rd: paindrome in a string\n",
    "def palindrome(str):\n",
    "    if str[::-1]==str:\n",
    "        return 'Palindrome'\n",
    "    else:\n",
    "        return 'Not palindrome'"
   ]
  },
  {
   "cell_type": "code",
   "execution_count": 15,
   "id": "52355512-b099-40bf-8b9a-824e1d0bcf92",
   "metadata": {},
   "outputs": [
    {
     "data": {
      "text/plain": [
       "'Palindrome'"
      ]
     },
     "execution_count": 15,
     "metadata": {},
     "output_type": "execute_result"
    }
   ],
   "source": [
    "palindrome('radar')"
   ]
  },
  {
   "cell_type": "code",
   "execution_count": 25,
   "id": "31a41e40-dffd-4a83-99b1-fdebd7a46c24",
   "metadata": {},
   "outputs": [
    {
     "data": {
      "text/plain": [
       "'iturhs ma I ih'"
      ]
     },
     "execution_count": 25,
     "metadata": {},
     "output_type": "execute_result"
    }
   ],
   "source": [
    "#4th:Create a function to reverse a given string'\n",
    "\n",
    "#we can use reversed() method directly also with join like: reversed_str = ''.join(reversed(input_str)) and return reversed_str\n",
    "def reverse_str(st):\n",
    "    new_str=st[::-1]\n",
    "    return new_str  \n",
    "reverse_str('hi I am shruti')#if i assign it to a variable and then print the variable the'' sign will be gone from output"
   ]
  },
  {
   "cell_type": "code",
   "execution_count": 28,
   "id": "b959badb-9c81-4631-8cd3-a20625f0af31",
   "metadata": {},
   "outputs": [
    {
     "name": "stdout",
     "output_type": "stream",
     "text": [
      "shruti shanu shrey rushi\n"
     ]
    }
   ],
   "source": [
    "#5th:Given a list of names, concatenate them into a single string separated by spaces\n",
    "\n",
    "list=['shruti','shanu','shrey','rushi']\n",
    "#now to concatenate the names into a single string seperated by a comma\n",
    "#we use join() to seperate each string by the seperator that is \" \" whitespace in this case\n",
    "concatenated_names = \" \".join(list)\n",
    "\n",
    "print(concatenated_names)"
   ]
  },
  {
   "cell_type": "code",
   "execution_count": 44,
   "id": "d6db8bda-b1ab-4bc6-8073-b8c6b79f9f59",
   "metadata": {},
   "outputs": [],
   "source": [
    "#6:Write a Python program to check if a given string is a pangram (contains all letters of the alphabet)'\n",
    "def ispangram(st):\n",
    "    alphabet='abcdefghijklmnopqrstuvwxyz'\n",
    "    for i in alphabet:\n",
    "        if i not in st.lower():\n",
    "            return False\n",
    "        else:\n",
    "            return True"
   ]
  },
  {
   "cell_type": "code",
   "execution_count": 45,
   "id": "577c6ffe-b9d0-40da-90e9-1b98f3eb1e32",
   "metadata": {},
   "outputs": [
    {
     "data": {
      "text/plain": [
       "True"
      ]
     },
     "execution_count": 45,
     "metadata": {},
     "output_type": "execute_result"
    }
   ],
   "source": [
    "st='the quick brown fox jumps over the lazy dog'\n",
    "ispangram(st)"
   ]
  },
  {
   "cell_type": "code",
   "execution_count": 48,
   "id": "e0cac44d-a71d-44ff-9a02-c8a0ce91b181",
   "metadata": {},
   "outputs": [
    {
     "name": "stdin",
     "output_type": "stream",
     "text": [
      "Enter the radius of the circle:  2\n"
     ]
    },
    {
     "name": "stdout",
     "output_type": "stream",
     "text": [
      "Area of the circle:  12.566370614359172\n",
      "Circumference of the circle: 12.566370614359172\n"
     ]
    }
   ],
   "source": [
    "#7th:Calculate the area and circumference of a circle given itsradius'\n",
    "\n",
    "import math\n",
    "\n",
    "# Input the radius from the user\n",
    "radius = float(input(\"Enter the radius of the circle: \"))\n",
    "\n",
    "# Calculate the area and circumference\n",
    "area = math.pi * radius**2\n",
    "circumference = 2 * math.pi * radius\n",
    "\n",
    "print(f\"Area of the circle: \",area)\n",
    "print(f\"Circumference of the circle:\",circumference)\n",
    "#we can write area.2f or circumference.2f to get upto 2 decimal values\n"
   ]
  },
  {
   "cell_type": "code",
   "execution_count": 50,
   "id": "a4e6581d-3802-4d46-a0df-e5572c703675",
   "metadata": {},
   "outputs": [
    {
     "name": "stdin",
     "output_type": "stream",
     "text": [
      "enter the time in minutes 65\n"
     ]
    },
    {
     "name": "stdout",
     "output_type": "stream",
     "text": [
      "time is: 1 hr 5 mins\n"
     ]
    }
   ],
   "source": [
    "#8th:Implement a program that converts a given number of minutes into hours and minutes'\n",
    "\n",
    "m=int(input(\"enter the time in minutes\"))\n",
    "hours=m//60\n",
    "rem_min=m%60\n",
    "print(\"time is:\",hours,\"hr\",rem_min,\"mins\")"
   ]
  },
  {
   "cell_type": "code",
   "execution_count": 60,
   "id": "2c9bcb6d-5b8d-47fb-ae8c-98c21a9d2beb",
   "metadata": {},
   "outputs": [
    {
     "name": "stdout",
     "output_type": "stream",
     "text": [
      "Number of vowels in 'Hi I am Shruti Jha': 6\n"
     ]
    }
   ],
   "source": [
    "#9th: Create a function to count the number of vowels in a given string\n",
    "\n",
    "def vowel_count(s):\n",
    "    vowels = 'aeiou'\n",
    "    count = 0\n",
    "\n",
    "    # Convert the input string to lowercase to make it case-insensitive\n",
    "    s = s.lower()\n",
    "\n",
    "    for char in s:\n",
    "        if char in vowels:\n",
    "            count += 1\n",
    "\n",
    "    return count\n",
    "\n",
    "s = 'Hi I am Shruti Jha'\n",
    "result = vowel_count(s)\n",
    "print(f\"Number of vowels in '{s}': {result}\")\n"
   ]
  },
  {
   "cell_type": "code",
   "execution_count": 61,
   "id": "4259456f-8df5-414b-a9bc-54142fb2dbc4",
   "metadata": {},
   "outputs": [
    {
     "name": "stdin",
     "output_type": "stream",
     "text": [
      "Enter a number:  3\n"
     ]
    },
    {
     "name": "stdout",
     "output_type": "stream",
     "text": [
      "3 is a prime number.\n"
     ]
    }
   ],
   "source": [
    "#10: Write a program to check if a number is prime\n",
    "\n",
    "def is_prime(number):\n",
    "    if number <= 1:\n",
    "        return False  # Numbers less than or equal to 1 are not prime\n",
    "    if number <= 3:\n",
    "        return True  # 2 and 3 are prime numbers\n",
    "    # Check for divisibility by numbers from 2 to the square root of the number\n",
    "    for i in range(2, int(number**0.5) + 1):\n",
    "        if number % i == 0:\n",
    "            return False  # If it's divisible by any number in this range, it's not prime\n",
    "    return True  # If no divisor was found, it's prime\n",
    "# Input a number from the user\n",
    "number = int(input(\"Enter a number: \"))\n",
    "\n",
    "# Check if the number is prime and display the result\n",
    "if is_prime(number):\n",
    "    print(f\"{number} is a prime number.\")\n",
    "else:\n",
    "    print(f\"{number} is not a prime number.\")\n"
   ]
  },
  {
   "cell_type": "code",
   "execution_count": null,
   "id": "e923f7bd-c167-448f-936e-3859779498de",
   "metadata": {},
   "outputs": [],
   "source": []
  }
 ],
 "metadata": {
  "kernelspec": {
   "display_name": "Python 3 (ipykernel)",
   "language": "python",
   "name": "python3"
  },
  "language_info": {
   "codemirror_mode": {
    "name": "ipython",
    "version": 3
   },
   "file_extension": ".py",
   "mimetype": "text/x-python",
   "name": "python",
   "nbconvert_exporter": "python",
   "pygments_lexer": "ipython3",
   "version": "3.11.4"
  }
 },
 "nbformat": 4,
 "nbformat_minor": 5
}
