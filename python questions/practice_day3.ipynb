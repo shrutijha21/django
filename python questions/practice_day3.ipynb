{
 "cells": [
  {
   "cell_type": "markdown",
   "id": "ff144c08-8d9b-4e35-bf67-78855c75aea2",
   "metadata": {},
   "source": [
    "# 1. to find the leap year:\n",
    "\n"
   ]
  },
  {
   "cell_type": "code",
   "execution_count": 2,
   "id": "020ea2e5-3d6c-4df2-b447-acc26f1acae9",
   "metadata": {},
   "outputs": [
    {
     "data": {
      "text/plain": [
       "'Leap'"
      ]
     },
     "execution_count": 2,
     "metadata": {},
     "output_type": "execute_result"
    }
   ],
   "source": [
    "def leap_year(n):\n",
    "    if(n%4==0 and n%100==0 and n%400==0):\n",
    "        return 'Leap'\n",
    "    return 'not Leap'\n",
    "#so basically a leap year is a year which should be divisible by 4,100 and 400\n",
    "#it is not necessary that it is a leap year if it is divisible by 4 and also hundred then it is a leap year like 1900 is divisible by 4 and also 100 but not leapleap_year(2000)\n",
    "leap_year(2000)\n",
    "#leap_year(2016)"
   ]
  },
  {
   "cell_type": "markdown",
   "id": "d308e4fb-c693-4dc6-98cd-9f7decb99053",
   "metadata": {},
   "source": [
    "\n",
    "# 2.from a given list of integers we have to find the even numbers and make a seperate string for them:\n"
   ]
  },
  {
   "cell_type": "code",
   "execution_count": 79,
   "id": "500df074-6bf8-431a-a16c-97e6a73a0e6b",
   "metadata": {
    "scrolled": true
   },
   "outputs": [
    {
     "name": "stdout",
     "output_type": "stream",
     "text": [
      "Even numbers: [2, 4, 6, 8, 10]\n"
     ]
    }
   ],
   "source": [
    "numbers = [1, 2, 3, 4, 5, 6, 7, 8, 9, 10]\n",
    "\n",
    "# Initialize an empty list to store even numbers\n",
    "even_numbers = []\n",
    "\n",
    "# Iterate through the list and find even numbers\n",
    "for num in numbers:\n",
    "    if num % 2 == 0:\n",
    "        even_numbers.append(num)\n",
    "\n",
    "# The 'even_numbers' list now contains all the even numbers\n",
    "print(\"Even numbers:\", even_numbers)"
   ]
  },
  {
   "cell_type": "markdown",
   "id": "05a3c06f-6927-4418-a2ae-81dc019cb5fb",
   "metadata": {},
   "source": [
    "# 3.Write a Python program to check if a given number is a prime number"
   ]
  },
  {
   "cell_type": "code",
   "execution_count": 31,
   "id": "f899eda4-ac75-4db8-9c41-ac2c06dd08ce",
   "metadata": {},
   "outputs": [
    {
     "data": {
      "text/plain": [
       "'Not prime'"
      ]
     },
     "execution_count": 31,
     "metadata": {},
     "output_type": "execute_result"
    }
   ],
   "source": [
    "def is_prime(n):\n",
    "    if n<=1:\n",
    "        return 'Not prime'\n",
    "    for i in range(2,n):#we use n//2 or n**0.5 to decrease the amount of range\n",
    "        if n%i==0:\n",
    "            return 'not prime'\n",
    "        else:\n",
    "            return 'prime'\n",
    "is_prime(1)"
   ]
  },
  {
   "cell_type": "markdown",
   "id": "3a595e37-16d5-475c-a30a-4d990bfe6fb1",
   "metadata": {},
   "source": [
    "# 4.Create a program that generates the Fibonacci sequenceup to a given number of terms\n"
   ]
  },
  {
   "cell_type": "code",
   "execution_count": 77,
   "id": "4ad36ecc-7f5e-4d45-a5a9-d2792b23543e",
   "metadata": {},
   "outputs": [
    {
     "name": "stdin",
     "output_type": "stream",
     "text": [
      "Enter the length of the sequence:  5\n"
     ]
    },
    {
     "name": "stdout",
     "output_type": "stream",
     "text": [
      "Fibonacci Sequence: [0, 1, 1, 2, 3]\n"
     ]
    }
   ],
   "source": [
    "def fibonacci():\n",
    "    n = int(input(\"Enter the length of the sequence: \"))\n",
    "    \n",
    "    # Initialize the first two Fibonacci numbers\n",
    "    a, b = 0, 1\n",
    "    \n",
    "    # Initialize a list to store the Fibonacci sequence\n",
    "    series = [a, b]\n",
    "    \n",
    "    # Generate the Fibonacci sequence\n",
    "    for i in range(2, n):\n",
    "        a, b = b, a + b  # Update a and b to the next Fibonacci numbers\n",
    "        series.append(b)  # Append the next number to the series\n",
    "    \n",
    "    return series\n",
    "\n",
    "# Call the function and print the result\n",
    "result = fibonacci()\n",
    "print(\"Fibonacci Sequence:\", result)\n"
   ]
  },
  {
   "cell_type": "markdown",
   "id": "9fb5a8ca-4467-44cc-acbc-0291c6b802cd",
   "metadata": {},
   "source": [
    "# 5.Given a list of names, print all names starting with the letter 'A'"
   ]
  },
  {
   "cell_type": "code",
   "execution_count": 78,
   "id": "c2ec6c28-cd29-45b5-b9c9-2027707d1a4c",
   "metadata": {},
   "outputs": [
    {
     "name": "stdout",
     "output_type": "stream",
     "text": [
      "Alice\n",
      "Anna\n",
      "Andrew\n",
      "Alex\n",
      "Ava\n"
     ]
    }
   ],
   "source": [
    "# Given list of names\n",
    "names = [\"Alice\", \"Bob\", \"Anna\", \"Andrew\", \"Alex\", \"David\", \"Ava\"]\n",
    "\n",
    "# Iterate through the list and print names starting with 'A'\n",
    "for name in names:\n",
    "    if name.startswith('A'):\n",
    "        print(name)\n"
   ]
  },
  {
   "cell_type": "markdown",
   "id": "f89298f2-2b7a-43a8-ba3e-b1ab4367dcbc",
   "metadata": {},
   "source": [
    "# 6.Implement a program that prints the multiplication table of a given number"
   ]
  },
  {
   "cell_type": "code",
   "execution_count": 81,
   "id": "822e5e87-9945-4377-84f6-4ab2b9d01d8c",
   "metadata": {},
   "outputs": [
    {
     "name": "stdin",
     "output_type": "stream",
     "text": [
      "Enter a number:  10\n"
     ]
    },
    {
     "name": "stdout",
     "output_type": "stream",
     "text": [
      "Multiplication table for 10:\n",
      "10 x 1 = 10\n",
      "10 x 2 = 20\n",
      "10 x 3 = 30\n",
      "10 x 4 = 40\n",
      "10 x 5 = 50\n",
      "10 x 6 = 60\n",
      "10 x 7 = 70\n",
      "10 x 8 = 80\n",
      "10 x 9 = 90\n",
      "10 x 10 = 100\n"
     ]
    }
   ],
   "source": [
    "# Get the number for which you want to print the multiplication table\n",
    "num = int(input(\"Enter a number: \"))\n",
    "\n",
    "# Define the range (e.g., up to 10 for a 10x multiplication table)\n",
    "table_range = 10\n",
    "\n",
    "# Print the multiplication table\n",
    "print(f\"Multiplication table for {num}:\")\n",
    "\n",
    "for i in range(1, table_range + 1):\n",
    "    product = num * i\n",
    "    print(f\"{num} x {i} = {product}\")\n"
   ]
  },
  {
   "cell_type": "markdown",
   "id": "f510c051-4512-4e98-ad69-3d0e7f4b93a9",
   "metadata": {},
   "source": [
    "# 7.Write a program that calculates the factorial of a given number"
   ]
  },
  {
   "cell_type": "code",
   "execution_count": 83,
   "id": "db41cc5d-0c87-4b31-a197-cb3383c56fdf",
   "metadata": {},
   "outputs": [
    {
     "name": "stdin",
     "output_type": "stream",
     "text": [
      "Enter a number:  5\n"
     ]
    },
    {
     "name": "stdout",
     "output_type": "stream",
     "text": [
      "The factorial of 5 is 120\n"
     ]
    }
   ],
   "source": [
    "# Get the number for which you want to calculate the factorial\n",
    "num = int(input(\"Enter a number: \"))\n",
    "\n",
    "# Initialize the factorial to 1\n",
    "factorial = 1\n",
    "\n",
    "# Calculate the factorial using a loop\n",
    "for i in range(1, num + 1):\n",
    "    factorial *= i\n",
    "\n",
    "# Print the factorial\n",
    "print(f\"The factorial of {num} is {factorial}\")\n"
   ]
  },
  {
   "cell_type": "markdown",
   "id": "471adabb-38fc-4ea1-bbd0-885f48835f65",
   "metadata": {},
   "source": [
    "# 8. Create a loop that prints all prime numbers between 1 and 50"
   ]
  },
  {
   "cell_type": "code",
   "execution_count": 84,
   "id": "5e58e4eb-c53c-4978-804f-b30d03425a6e",
   "metadata": {},
   "outputs": [
    {
     "name": "stdout",
     "output_type": "stream",
     "text": [
      "Prime numbers between 1 and 50:\n",
      "2\n",
      "3\n",
      "5\n",
      "7\n",
      "11\n",
      "13\n",
      "17\n",
      "19\n",
      "23\n",
      "29\n",
      "31\n",
      "37\n",
      "41\n",
      "43\n",
      "47\n"
     ]
    }
   ],
   "source": [
    "def is_prime(num):\n",
    "    if num <= 1:\n",
    "        return False\n",
    "    if num <= 3:\n",
    "        return True\n",
    "\n",
    "    if num % 2 == 0 or num % 3 == 0:\n",
    "        return False\n",
    "\n",
    "    i = 5\n",
    "    while i * i <= num:\n",
    "        if num % i == 0 or num % (i + 2) == 0:\n",
    "            return False\n",
    "        i += 6\n",
    "\n",
    "    return True\n",
    "\n",
    "print(\"Prime numbers between 1 and 50:\")\n",
    "for number in range(1, 51):\n",
    "    if is_prime(number):\n",
    "        print(number)\n"
   ]
  },
  {
   "cell_type": "markdown",
   "id": "5722adf6-fac2-4862-b53d-6ba31044f198",
   "metadata": {},
   "source": [
    "# 9.Given a list of words, count the number of words with more than five characters"
   ]
  },
  {
   "cell_type": "code",
   "execution_count": 3,
   "id": "599213f0-366a-4f51-b76d-ed381796e5e3",
   "metadata": {},
   "outputs": [
    {
     "name": "stdout",
     "output_type": "stream",
     "text": [
      "banana\n",
      "cherry\n",
      "elderberry\n",
      "Number of words with more than five characters: 3\n"
     ]
    }
   ],
   "source": [
    "# Given list of words\n",
    "words = [\"apple\", \"banana\", \"cherry\", \"date\", \"elderberry\", \"fig\", \"grape\"]\n",
    "\n",
    "# Initialize a count variable\n",
    "count = 0\n",
    "\n",
    "# Iterate through the list and count words with more than five characters\n",
    "for word in words:\n",
    "    if len(word) > 5:\n",
    "        count += 1\n",
    "        print(word)\n",
    "# Print the count\n",
    "print(\"Number of words with more than five characters:\", count)\n"
   ]
  },
  {
   "cell_type": "markdown",
   "id": "c54a8bae-e23d-4aa1-b246-3cce1af2d812",
   "metadata": {},
   "source": [
    "# 10. Calculate the sum of digits of a given number."
   ]
  },
  {
   "cell_type": "code",
   "execution_count": 86,
   "id": "c57ea3bc-3811-499f-b5e2-334c61274b3a",
   "metadata": {},
   "outputs": [
    {
     "name": "stdin",
     "output_type": "stream",
     "text": [
      "Enter a number:  12\n"
     ]
    },
    {
     "name": "stdout",
     "output_type": "stream",
     "text": [
      "Sum of digits: 3\n"
     ]
    }
   ],
   "source": [
    "# Get the number from the user\n",
    "num = int(input(\"Enter a number: \"))\n",
    "\n",
    "# Initialize a variable to store the sum of digits\n",
    "sum_of_digits = 0\n",
    "\n",
    "# Calculate the sum of digits\n",
    "while num > 0:\n",
    "    # Extract the last digit\n",
    "    digit = num % 10\n",
    "\n",
    "    # Add the digit to the sum\n",
    "    sum_of_digits += digit\n",
    "\n",
    "    # Remove the last digit from the number\n",
    "    num //= 10\n",
    "\n",
    "# Print the sum of digits\n",
    "print(\"Sum of digits:\", sum_of_digits)\n"
   ]
  },
  {
   "cell_type": "code",
   "execution_count": null,
   "id": "fe631f76-17db-4f73-9c8e-1dd009a48201",
   "metadata": {},
   "outputs": [],
   "source": []
  }
 ],
 "metadata": {
  "kernelspec": {
   "display_name": "Python 3 (ipykernel)",
   "language": "python",
   "name": "python3"
  },
  "language_info": {
   "codemirror_mode": {
    "name": "ipython",
    "version": 3
   },
   "file_extension": ".py",
   "mimetype": "text/x-python",
   "name": "python",
   "nbconvert_exporter": "python",
   "pygments_lexer": "ipython3",
   "version": "3.11.4"
  }
 },
 "nbformat": 4,
 "nbformat_minor": 5
}
