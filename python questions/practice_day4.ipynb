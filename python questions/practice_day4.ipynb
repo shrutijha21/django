{
 "cells": [
  {
   "cell_type": "code",
   "execution_count": 11,
   "id": "0d08026a-5e7f-4fc7-bf6a-1e9604470797",
   "metadata": {},
   "outputs": [],
   "source": [
    "# 1.Given a list of numbers, create a function to find the sum of all positive numbers\n",
    "\n",
    "def sum_of_pos():\n",
    "    list=[]\n",
    "    n= int(input('enter the length of list'))\n",
    "    for elements in range(n):\n",
    "        elements=int(input())\n",
    "        list.append(elements)\n",
    "    print(list)\n",
    "    sum=0\n",
    "    for elements in list:\n",
    "         if elements>=0:\n",
    "              sum+=elements\n",
    "    return sum"
   ]
  },
  {
   "cell_type": "code",
   "execution_count": 12,
   "id": "2ae7b318-2573-43a6-bbd7-222a07b00b66",
   "metadata": {},
   "outputs": [
    {
     "name": "stdin",
     "output_type": "stream",
     "text": [
      "enter the length of list 10\n",
      " 3\n",
      " 5\n",
      " 6\n",
      " -9\n",
      " 0\n",
      " 0\n",
      " 0\n",
      " 0\n",
      " 0\n",
      " 0\n"
     ]
    },
    {
     "name": "stdout",
     "output_type": "stream",
     "text": [
      "[3, 5, 6, -9, 0, 0, 0, 0, 0, 0]\n"
     ]
    },
    {
     "data": {
      "text/plain": [
       "14"
      ]
     },
     "execution_count": 12,
     "metadata": {},
     "output_type": "execute_result"
    }
   ],
   "source": [
    "sum_of_pos()"
   ]
  },
  {
   "cell_type": "code",
   "execution_count": 58,
   "id": "9eb32a65-a1b0-4917-8ff6-2b5afca1f781",
   "metadata": {},
   "outputs": [],
   "source": [
    "#2. to know whether the given string is palindrome or not\n",
    "def palindrome(s):\n",
    "    if s[::-1] ==s:\n",
    "        return 'palindrome'\n",
    "    else:\n",
    "        return 'not palinrome'"
   ]
  },
  {
   "cell_type": "code",
   "execution_count": 61,
   "id": "4647039a-73d6-432a-b2d2-add526c83482",
   "metadata": {},
   "outputs": [
    {
     "data": {
      "text/plain": [
       "'palindrome'"
      ]
     },
     "execution_count": 61,
     "metadata": {},
     "output_type": "execute_result"
    }
   ],
   "source": [
    "palindrome(\"eye\")"
   ]
  },
  {
   "cell_type": "code",
   "execution_count": 5,
   "id": "57dec7b9-02f8-4e41-82c8-00cce0bc714c",
   "metadata": {},
   "outputs": [],
   "source": [
    "#3. Implement function that returns factorial of a given number using recursion\n",
    "\n",
    "#recursion is a process in which a function directly or indirectly cal itself\n",
    "#1st method -easy without recursion\n",
    "def fact(n):\n",
    "    if n==0:\n",
    "        return 1\n",
    "    f=1\n",
    "    for i in range(1,n+1):\n",
    "        f*=i\n",
    "    return f\n"
   ]
  },
  {
   "cell_type": "code",
   "execution_count": 6,
   "id": "07ef6a16-3dd7-406b-bd3c-f69279505bdf",
   "metadata": {},
   "outputs": [
    {
     "data": {
      "text/plain": [
       "24"
      ]
     },
     "execution_count": 6,
     "metadata": {},
     "output_type": "execute_result"
    }
   ],
   "source": [
    "fact(4)"
   ]
  },
  {
   "cell_type": "code",
   "execution_count": 9,
   "id": "cdd19da9-9adb-40e2-87df-dc07b789aaa6",
   "metadata": {},
   "outputs": [],
   "source": [
    "#2nd method of solving using recusrsion\n",
    "\n",
    "\n",
    "def factorial(n):\n",
    "   if n==0:\n",
    "       return 1\n",
    "   else:\n",
    "       return n*factorial(n-1)"
   ]
  },
  {
   "cell_type": "code",
   "execution_count": 10,
   "id": "ec291fda-df18-40d4-8f26-bcfb471b03f3",
   "metadata": {},
   "outputs": [
    {
     "data": {
      "text/plain": [
       "720"
      ]
     },
     "execution_count": 10,
     "metadata": {},
     "output_type": "execute_result"
    }
   ],
   "source": [
    "factorial(6)"
   ]
  },
  {
   "cell_type": "code",
   "execution_count": 53,
   "id": "7391f5eb-6e1d-4a8c-a4b9-8861da8203e7",
   "metadata": {},
   "outputs": [],
   "source": [
    "#4 Create a function to find the square of each element in a given list.\n",
    "\n",
    "list=[1,3,5,6,8,7,2]\n",
    "def square_ele():\n",
    "    for i in list:\n",
    "        i=i**2\n",
    "        print(i)"
   ]
  },
  {
   "cell_type": "code",
   "execution_count": 54,
   "id": "83cce0d5-b8fe-42dc-8c80-c66da8996d85",
   "metadata": {},
   "outputs": [
    {
     "name": "stdout",
     "output_type": "stream",
     "text": [
      "1\n",
      "9\n",
      "25\n",
      "36\n",
      "64\n",
      "49\n",
      "4\n"
     ]
    }
   ],
   "source": [
    "square_ele()"
   ]
  },
  {
   "cell_type": "code",
   "execution_count": 55,
   "id": "d0df2a57-af2e-412b-b7d6-a378ce3af0bb",
   "metadata": {},
   "outputs": [],
   "source": [
    "#5.Write a function to check if a number is even or odd and return \"Even\" or \"Odd\" accordingly-\n",
    "\n",
    "def even_odd(n):\n",
    "    if n%2==0:\n",
    "        return 'even'\n",
    "    else:\n",
    "        return'odd'"
   ]
  },
  {
   "cell_type": "code",
   "execution_count": 59,
   "id": "abcb5f45-5592-4106-9f21-98e1d983f425",
   "metadata": {},
   "outputs": [
    {
     "data": {
      "text/plain": [
       "'odd'"
      ]
     },
     "execution_count": 59,
     "metadata": {},
     "output_type": "execute_result"
    }
   ],
   "source": [
    "even_odd(1)"
   ]
  },
  {
   "cell_type": "code",
   "execution_count": 60,
   "id": "379c34ff-a173-4509-a102-ec196d7470f2",
   "metadata": {},
   "outputs": [],
   "source": [
    "#6.Calculate the area of a triangle given its base and height using a function-\n",
    "def area_of_cir(b,h):\n",
    "    area=(b*h)/2\n",
    "    return area"
   ]
  },
  {
   "cell_type": "code",
   "execution_count": 61,
   "id": "f1e4ff8a-ec87-4eda-82fe-42160bacc327",
   "metadata": {},
   "outputs": [
    {
     "data": {
      "text/plain": [
       "100.0"
      ]
     },
     "execution_count": 61,
     "metadata": {},
     "output_type": "execute_result"
    }
   ],
   "source": [
    "area_of_cir(10,20)"
   ]
  },
  {
   "cell_type": "code",
   "execution_count": 62,
   "id": "2c29a143-7d9c-4b2f-8aa0-9c9cee0a9bb7",
   "metadata": {},
   "outputs": [],
   "source": [
    "#7. Create a function that takes a list of strings and returns the list sorted alphabetically\n",
    "list=['apple','carot','banana','egg','den','hut','fruit']\n",
    "def sorted_list(lst):\n",
    "    for i in lst:\n",
    "        lst.sort()\n",
    "        return lst\n",
    "    "
   ]
  },
  {
   "cell_type": "code",
   "execution_count": 64,
   "id": "af3e5568-1230-4c07-9e82-2e53a938e650",
   "metadata": {},
   "outputs": [
    {
     "data": {
      "text/plain": [
       "['apple', 'banana', 'carot', 'den', 'egg', 'fruit', 'hut']"
      ]
     },
     "execution_count": 64,
     "metadata": {},
     "output_type": "execute_result"
    }
   ],
   "source": [
    "sorted_list(list)"
   ]
  },
  {
   "cell_type": "code",
   "execution_count": 65,
   "id": "98b2ce17-e016-4868-9688-30f26e1947e1",
   "metadata": {},
   "outputs": [],
   "source": [
    "\n",
    "    "
   ]
  },
  {
   "cell_type": "code",
   "execution_count": null,
   "id": "3947d681-0ba8-4e5a-80e1-c676e6465ad7",
   "metadata": {},
   "outputs": [],
   "source": []
  },
  {
   "cell_type": "code",
   "execution_count": 70,
   "id": "8c43080f-e193-45c3-ae9e-d217f416159e",
   "metadata": {},
   "outputs": [],
   "source": [
    "#8.Write a function that takes two lists and returns their intersection (common elements)\n",
    "list1=[1,2,3,4,5,6,7,8,9,10]\n",
    "list2=[6,7,8,9,10,11,12,13,14,15,16,17]\n",
    "def common_elements(l1,l2):\n",
    "    for i in range(len(l1)):\n",
    "        for j in range(len(l2)):\n",
    "            if l1[i]==l2[j]:\n",
    "                print(l1[i])#if we use return here it will just give 6 as output\n",
    "\n",
    "#reason:return inside the loop, it will exit the function as soon as it finds the first common element, and you'll get only one result."
   ]
  },
  {
   "cell_type": "code",
   "execution_count": 71,
   "id": "ee3a92fa-a449-4ddf-8234-4743793b0afa",
   "metadata": {},
   "outputs": [
    {
     "name": "stdout",
     "output_type": "stream",
     "text": [
      "6\n",
      "7\n",
      "8\n",
      "9\n",
      "10\n"
     ]
    }
   ],
   "source": [
    "common_elements(list1,list2)"
   ]
  },
  {
   "cell_type": "code",
   "execution_count": 72,
   "id": "0d437217-937a-4d10-abc5-0ca04871506a",
   "metadata": {},
   "outputs": [],
   "source": [
    "#9. Implement a function to check if a given year is a leap year or not\n",
    "def leap(n):\n",
    "    if(n%4==0 and n%100==0 and n%400==0):\n",
    "        return 'leap year'\n",
    "    return 'not a leap year'"
   ]
  },
  {
   "cell_type": "code",
   "execution_count": 73,
   "id": "fe283a68-e37c-4977-be26-7f23881dbb85",
   "metadata": {},
   "outputs": [
    {
     "data": {
      "text/plain": [
       "'not a leap year'"
      ]
     },
     "execution_count": 73,
     "metadata": {},
     "output_type": "execute_result"
    }
   ],
   "source": [
    "leap(1990)"
   ]
  },
  {
   "cell_type": "code",
   "execution_count": 84,
   "id": "4eec6f8b-d77e-4ef2-8205-6b265b381c69",
   "metadata": {},
   "outputs": [],
   "source": [
    "#10. Create a function that takes a number as input and prints its multiplication table\n",
    "\n",
    "def multiplication(a):\n",
    "    n=int(input(\"enter the range upto where you need te multipliction to be done:\"))\n",
    "    for i in range(1,n+1):\n",
    "        m=a*i\n",
    "        print(a,\"*\",i,\"=\",m)"
   ]
  },
  {
   "cell_type": "code",
   "execution_count": 85,
   "id": "996db7ce-623c-4bdd-b9a5-2d735b319f0c",
   "metadata": {},
   "outputs": [
    {
     "name": "stdin",
     "output_type": "stream",
     "text": [
      "enter the range upto where you need te multipliction to be done: 20\n"
     ]
    },
    {
     "name": "stdout",
     "output_type": "stream",
     "text": [
      "2 * 1 = 2\n",
      "2 * 2 = 4\n",
      "2 * 3 = 6\n",
      "2 * 4 = 8\n",
      "2 * 5 = 10\n",
      "2 * 6 = 12\n",
      "2 * 7 = 14\n",
      "2 * 8 = 16\n",
      "2 * 9 = 18\n",
      "2 * 10 = 20\n",
      "2 * 11 = 22\n",
      "2 * 12 = 24\n",
      "2 * 13 = 26\n",
      "2 * 14 = 28\n",
      "2 * 15 = 30\n",
      "2 * 16 = 32\n",
      "2 * 17 = 34\n",
      "2 * 18 = 36\n",
      "2 * 19 = 38\n",
      "2 * 20 = 40\n"
     ]
    }
   ],
   "source": [
    "multiplication(2)"
   ]
  },
  {
   "cell_type": "code",
   "execution_count": null,
   "id": "a7894456-a0c7-4b4e-ae7c-e4a4b1af4916",
   "metadata": {},
   "outputs": [],
   "source": [
    "\n",
    "\n"
   ]
  },
  {
   "cell_type": "code",
   "execution_count": null,
   "id": "04aa90c1-f0a5-4025-a5ac-de1d93e9c088",
   "metadata": {},
   "outputs": [],
   "source": []
  }
 ],
 "metadata": {
  "kernelspec": {
   "display_name": "Python 3 (ipykernel)",
   "language": "python",
   "name": "python3"
  },
  "language_info": {
   "codemirror_mode": {
    "name": "ipython",
    "version": 3
   },
   "file_extension": ".py",
   "mimetype": "text/x-python",
   "name": "python",
   "nbconvert_exporter": "python",
   "pygments_lexer": "ipython3",
   "version": "3.11.4"
  }
 },
 "nbformat": 4,
 "nbformat_minor": 5
}
