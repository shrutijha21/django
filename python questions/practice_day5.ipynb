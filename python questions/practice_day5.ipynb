{
 "cells": [
  {
   "cell_type": "code",
   "execution_count": 120,
   "id": "0735f2ed-a7b4-4455-b483-7f89de8a760b",
   "metadata": {},
   "outputs": [],
   "source": [
    "#1.Given a list of words, concatenate them into a single string separated by spaces\n",
    "list=[\"apple\",\"banana\",\"cabage\"]\n",
    "def concatenation(n):\n",
    "    s=''\n",
    "    for i in n:\n",
    "        s+=i+\" \"\n",
    "    print(s)"
   ]
  },
  {
   "cell_type": "code",
   "execution_count": 121,
   "id": "3169102f-dc23-4dd2-9666-6f43ae6e9388",
   "metadata": {},
   "outputs": [
    {
     "name": "stdout",
     "output_type": "stream",
     "text": [
      "apple banana cabage \n"
     ]
    }
   ],
   "source": [
    "concatenation(list)"
   ]
  },
  {
   "cell_type": "code",
   "execution_count": 128,
   "id": "116be120-8bf8-4730-8775-d4e5fc466b6e",
   "metadata": {},
   "outputs": [],
   "source": [
    "#2nd way:\n",
    "def new_concatenation(n):\n",
    "  s=' '.join(n)\n",
    "  print(s)"
   ]
  },
  {
   "cell_type": "code",
   "execution_count": 129,
   "id": "44d8ca1f-e6be-44af-b84c-09c0256da63d",
   "metadata": {},
   "outputs": [
    {
     "name": "stdout",
     "output_type": "stream",
     "text": [
      "apple banana cabage\n"
     ]
    }
   ],
   "source": [
    "list1=[\"apple\",\"banana\",\"cabage\"]\n",
    "new_concatenation(list1)"
   ]
  },
  {
   "cell_type": "code",
   "execution_count": 122,
   "id": "63e04e1d-470a-4499-af2e-00d090214fb1",
   "metadata": {},
   "outputs": [],
   "source": [
    "#2. Create a function to reverse a given string\n",
    "def reverse_str(s):\n",
    "    print(s[::-1])"
   ]
  },
  {
   "cell_type": "code",
   "execution_count": 123,
   "id": "fe10afda-7535-4b3f-a8c0-65fc712086c9",
   "metadata": {},
   "outputs": [
    {
     "name": "stdout",
     "output_type": "stream",
     "text": [
      "dlrow olleH\n"
     ]
    }
   ],
   "source": [
    "st=\"Hello world\"\n",
    "reverse_str(st)"
   ]
  },
  {
   "cell_type": "code",
   "execution_count": 132,
   "id": "fc0abf5a-8ddb-4e68-a812-845d2d2435d1",
   "metadata": {},
   "outputs": [],
   "source": [
    "#3. Write a program that takes a sentence as input and counts the number of words in it\n",
    "\n",
    "def count_w(st):\n",
    "    count=0\n",
    "    new_s=st.split()\n",
    "    for i in new_s:\n",
    "        count+=1\n",
    "    return count"
   ]
  },
  {
   "cell_type": "code",
   "execution_count": 133,
   "id": "754c9e3a-f6e4-437d-92aa-fb23072521c0",
   "metadata": {},
   "outputs": [
    {
     "data": {
      "text/plain": [
       "4"
      ]
     },
     "execution_count": 133,
     "metadata": {},
     "output_type": "execute_result"
    }
   ],
   "source": [
    "s='hi how are you?'\n",
    "count_w(s)"
   ]
  },
  {
   "cell_type": "code",
   "execution_count": 75,
   "id": "eba40e4d-261a-4a9f-899f-a9e9060a8fec",
   "metadata": {},
   "outputs": [],
   "source": [
    "#4.Implement a function that checks if a given string is a pangram (contains all letters of the alphabet)'\n",
    "def pangram(s):\n",
    "    alphabet='abcdefghijklmnopqrstuvwxyz'\n",
    "    for i in alphabet:\n",
    "        if i not in s.lower():\n",
    "            return False\n",
    "    return True\n",
    "        #For each letter, we check if it's not in the lowercase version of the input string using letter not in s.lower(). If any letter is not found in the string, we immediately return False.\n",
    "\n",
    "#If the loop completes without returning False, it means all letters of the alphabet were found in the string, so we return True at the end."
   ]
  },
  {
   "cell_type": "code",
   "execution_count": 81,
   "id": "cea4a0da-3d39-4b9c-bba7-7b8590d07c2f",
   "metadata": {},
   "outputs": [
    {
     "data": {
      "text/plain": [
       "True"
      ]
     },
     "execution_count": 81,
     "metadata": {},
     "output_type": "execute_result"
    }
   ],
   "source": [
    "st=\"The quick brown fox jumps over the lazy dog\"\n",
    "pangram(st)"
   ]
  },
  {
   "cell_type": "code",
   "execution_count": 137,
   "id": "d64efaa8-efee-48b3-88bf-0291da86d92a",
   "metadata": {},
   "outputs": [
    {
     "name": "stdout",
     "output_type": "stream",
     "text": [
      "h  m shrt jh\n"
     ]
    }
   ],
   "source": [
    "#5.Given a string, write a function to remove all vowels from it and return the modified string'\n",
    "s='hi i am shruti jha'\n",
    "def rem_vowels(st):\n",
    "    vowels='aeiou'\n",
    "    for i in vowels:\n",
    "       st=st.replace(i,'')#replace method continuously updates s so i dont have to save it in a new string like new_s=s.replace(i,\"\")\n",
    "    print(st)\n",
    "\n",
    "rem_vowels(s)"
   ]
  },
  {
   "cell_type": "code",
   "execution_count": 158,
   "id": "a5058abe-35f6-4e26-9d5c-44aa6e4e8646",
   "metadata": {},
   "outputs": [],
   "source": [
    "#6. Write a Python program to find the length of the longest word in a sentence\n",
    "s='Hello who are you my friend ?'\n",
    "def longest_word(n):\n",
    "    new_s=n.split()\n",
    "    longest=''\n",
    "    for i in new_s:\n",
    "        if len(i)>len(longest):\n",
    "            longest=i\n",
    "        return longest"
   ]
  },
  {
   "cell_type": "code",
   "execution_count": 159,
   "id": "e190e35c-0ab0-43a6-a9be-53be8c814478",
   "metadata": {},
   "outputs": [
    {
     "data": {
      "text/plain": [
       "'Hello'"
      ]
     },
     "execution_count": 159,
     "metadata": {},
     "output_type": "execute_result"
    }
   ],
   "source": [
    "longest_word(s)"
   ]
  },
  {
   "cell_type": "code",
   "execution_count": 184,
   "id": "791036b2-b78d-4b1d-85df-fac3bf850ef7",
   "metadata": {},
   "outputs": [],
   "source": [
    "#7.Create a function that takes a sentence as input and returns the sentence in reverse order\n",
    "def rev_str():\n",
    "    s=input(\"enter the string\")\n",
    "    new_s=''\n",
    "    for i in s:\n",
    "        new_s+= i\n",
    "    print(new_s)"
   ]
  },
  {
   "cell_type": "code",
   "execution_count": 185,
   "id": "80369631-45d4-41ef-b818-5896bb6a7f4c",
   "metadata": {},
   "outputs": [
    {
     "name": "stdin",
     "output_type": "stream",
     "text": [
      "enter the string hi i am shruti\n"
     ]
    },
    {
     "name": "stdout",
     "output_type": "stream",
     "text": [
      "hi i am shruti\n"
     ]
    }
   ],
   "source": [
    "rev_str()"
   ]
  },
  {
   "cell_type": "code",
   "execution_count": 199,
   "id": "35e22c6f-d71d-4249-abaa-2c86249f96f7",
   "metadata": {},
   "outputs": [],
   "source": [
    "#8.Given a list of names, count the number of names that start with a vowel'\n",
    "def count_n_v():\n",
    "    s=input('enter the list elements as string and seperate each by whitespaces')\n",
    "    list=s.split()\n",
    "    vowels='AEIOUaeiou'\n",
    "    count=0\n",
    "    for i in list:\n",
    "        if i[0] in vowels:\n",
    "            count+=1\n",
    "    return count"
   ]
  },
  {
   "cell_type": "code",
   "execution_count": 200,
   "id": "3587079f-e68f-46bd-b11e-6168a6a17851",
   "metadata": {},
   "outputs": [
    {
     "name": "stdin",
     "output_type": "stream",
     "text": [
      "enter the list elements as string and seperate each by whitespaces hi oye aye\n"
     ]
    },
    {
     "name": "stdout",
     "output_type": "stream",
     "text": [
      "2\n"
     ]
    }
   ],
   "source": [
    "count_n_v()"
   ]
  },
  {
   "cell_type": "code",
   "execution_count": 250,
   "id": "2c58ddf9-ca78-410e-bd3c-245314819321",
   "metadata": {},
   "outputs": [],
   "source": [
    "#9.Write a function to remove all duplicate characters from a given string\n",
    "def rem_dup_char():\n",
    "    k1=input(\"enter a sentence\")\n",
    "    k2=[]\n",
    "    k3=''\n",
    "    for i in k1.lower():\n",
    "        if i not in k2:\n",
    "            k2.append(i)\n",
    "            k3+=i\n",
    "    print(k2)\n",
    "    print(k3)\n",
    "        "
   ]
  },
  {
   "cell_type": "code",
   "execution_count": 251,
   "id": "7b1c957d-e451-4d30-b47f-1045584682cd",
   "metadata": {},
   "outputs": [
    {
     "name": "stdin",
     "output_type": "stream",
     "text": [
      "enter a sentence YOU are my friend\n"
     ]
    },
    {
     "name": "stdout",
     "output_type": "stream",
     "text": [
      "['y', 'o', 'u', ' ', 'a', 'r', 'e', 'm', 'f', 'i', 'n', 'd']\n",
      "you aremfind\n"
     ]
    }
   ],
   "source": [
    "rem_dup_char()"
   ]
  },
  {
   "cell_type": "code",
   "execution_count": 242,
   "id": "cf8dfe97-8913-4643-90c6-3cc51c221a33",
   "metadata": {},
   "outputs": [
    {
     "name": "stdin",
     "output_type": "stream",
     "text": [
      "enter a sentence who are you?\n",
      "enter a word are\n"
     ]
    },
    {
     "name": "stdout",
     "output_type": "stream",
     "text": [
      "found\n"
     ]
    }
   ],
   "source": [
    "#10.! Implement a program that takes a sentence and a word as input and checks if the word is present in the sentence\n",
    "\n",
    "sentence=input(\"enter a sentence\")\n",
    "word=input(\"enter a word\")\n",
    "list=sentence.split()\n",
    "\n",
    "if word in list:\n",
    "    print('found')\n",
    "else:\n",
    "    print('not found')"
   ]
  },
  {
   "cell_type": "code",
   "execution_count": null,
   "id": "c51a049b-f46c-42e1-a6bb-af7e185f88a1",
   "metadata": {},
   "outputs": [],
   "source": []
  }
 ],
 "metadata": {
  "kernelspec": {
   "display_name": "Python 3 (ipykernel)",
   "language": "python",
   "name": "python3"
  },
  "language_info": {
   "codemirror_mode": {
    "name": "ipython",
    "version": 3
   },
   "file_extension": ".py",
   "mimetype": "text/x-python",
   "name": "python",
   "nbconvert_exporter": "python",
   "pygments_lexer": "ipython3",
   "version": "3.11.4"
  }
 },
 "nbformat": 4,
 "nbformat_minor": 5
}
