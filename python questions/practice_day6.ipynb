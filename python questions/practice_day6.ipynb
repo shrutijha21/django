{
 "cells": [
  {
   "cell_type": "code",
   "execution_count": 15,
   "id": "73d402ac-fb3a-4859-b8ae-6a4d7557c798",
   "metadata": {},
   "outputs": [
    {
     "name": "stdout",
     "output_type": "stream",
     "text": [
      "[1, 2, 3, 4, 5, 6, 7, 8, 9, 10, 11, 12, 13, 14, 15, 16, 17, 18, 19, 20]\n"
     ]
    }
   ],
   "source": [
    "#1.Given two lists of numbers, concatenate them into a single list\n",
    "num1=[1,2,3,4,5,6,7,8,9,10]\n",
    "num2=[11,12,13,14,15,16,17,18,19,20]\n",
    "for i in num2:\n",
    "    num1.append(i)\n",
    "print(num1)#i cannot store .append() into any variable it automatically changes the 1st list and you jut have to print them"
   ]
  },
  {
   "cell_type": "code",
   "execution_count": 42,
   "id": "0dd585fb-053f-4438-b8c2-cf6a1b5c2c32",
   "metadata": {},
   "outputs": [],
   "source": [
    "#2. Write a program that finds the largest and smallest elements in a list\n",
    "list=[81,43,64,75,56,27,38,19,20,92]\n",
    "def large_small(n):\n",
    "    largest=list[0]\n",
    "    smallest=list[0]\n",
    "    for i in range(1,len(list)):#i used index 1 because you dont want to compare index 0 with itself, but with index 0 also the same ans is comming\n",
    "        if list[i]>largest:\n",
    "            largest=list[i]\n",
    "    \n",
    "        elif list[i]< smallest:\n",
    "            smallest=list[i]\n",
    "    print(\"smallest=\",smallest)#write all print statements outside for loop\n",
    "    print(\"largest=\",largest)"
   ]
  },
  {
   "cell_type": "code",
   "execution_count": 43,
   "id": "309d453e-0b7b-4fea-bf28-5ae365f951af",
   "metadata": {},
   "outputs": [
    {
     "name": "stdout",
     "output_type": "stream",
     "text": [
      "smallest= 19\n",
      "largest= 92\n"
     ]
    }
   ],
   "source": [
    "large_small(list)"
   ]
  },
  {
   "cell_type": "code",
   "execution_count": 11,
   "id": "a6a2ef1b-3d2b-4881-97eb-7dedcacf9e47",
   "metadata": {},
   "outputs": [],
   "source": [
    "#3.Implement a function that takes a list of numbers and returns a new list with the squared values\n",
    "def squared_list(l):\n",
    "    s=[]\n",
    "    for i in range(len(l)):\n",
    "        x=l[i]**2\n",
    "        s.append(x)#unlike the previous question i have to store new values only not add it so i am using it\n",
    "    print(s)"
   ]
  },
  {
   "cell_type": "code",
   "execution_count": 12,
   "id": "fba1746b-e98b-4d42-a0c0-bc88988bc9ec",
   "metadata": {},
   "outputs": [
    {
     "name": "stdout",
     "output_type": "stream",
     "text": [
      "[1, 256, 9, 16, 25]\n"
     ]
    }
   ],
   "source": [
    "n3=[1,16,3,4,5]\n",
    "squared_list(n3)"
   ]
  },
  {
   "cell_type": "code",
   "execution_count": 24,
   "id": "867afe7b-42d1-4804-b42d-646d6657626d",
   "metadata": {},
   "outputs": [
    {
     "name": "stdout",
     "output_type": "stream",
     "text": [
      "[6, 7, 8, 9, 10]\n"
     ]
    }
   ],
   "source": [
    "#4.Create a program that finds the common elements between two lists and stores them in a new list\n",
    "num1=[1,2,3,4,5,6,7,8,9,10]\n",
    "num2=[6,7,8,9,10,11,12,13,14,15]\n",
    "num3=[]\n",
    "for i in num1:\n",
    "    for j in num2:\n",
    "        if i==j:\n",
    "            num3.append(i)\n",
    "print(num3)\n",
    "    "
   ]
  },
  {
   "cell_type": "code",
   "execution_count": 32,
   "id": "b1350f23-1616-49ad-9f09-705745b01386",
   "metadata": {},
   "outputs": [
    {
     "name": "stdout",
     "output_type": "stream",
     "text": [
      "Serendipity\n"
     ]
    }
   ],
   "source": [
    "#5.Given a list of words, find the word with the maximumlength and its length\n",
    "word_list = [\"Sunshine\", \"Bicycle\", \"Rainbow\", \"Chocolate\", \"Adventure\", \"Whisper\", \"Elephant\", \"Symphony\", \"Serendipity\", \"Enchantment\"]\n",
    "max_length=''\n",
    "# for i in range(len(word_list)):\n",
    "#     if len(word_list[i])>len(max_length):\n",
    "#         max_length=word_list[i]\n",
    "for i in word_list:\n",
    "    if len(i)>len(max_length):\n",
    "        max_length=i\n",
    "print(max_length)"
   ]
  },
  {
   "cell_type": "code",
   "execution_count": 53,
   "id": "6a27fa53-ff83-41e6-9f1d-7694faa950bb",
   "metadata": {},
   "outputs": [
    {
     "name": "stdout",
     "output_type": "stream",
     "text": [
      "{1: 3, 3: 2, 4: 4, 5: 4, 6: 3}\n"
     ]
    }
   ],
   "source": [
    "#6.Write a Python program to count the occurrences of each element in a given list\n",
    "l=[1,1,1,3,4,5,6,4,5,6,4,3,4,5,6,5]\n",
    "count={}\n",
    "for i in l:\n",
    "    if i in count:\n",
    "        count[i]+=1\n",
    "    else:\n",
    "        count[i]=1\n",
    "print(count)"
   ]
  },
  {
   "cell_type": "code",
   "execution_count": 54,
   "id": "15490467-7294-4251-9b94-314e37d36f64",
   "metadata": {},
   "outputs": [
    {
     "name": "stdout",
     "output_type": "stream",
     "text": [
      "Count of 1 = 3\n",
      "Count of 1 = 3\n",
      "Count of 1 = 3\n",
      "Count of 3 = 2\n",
      "Count of 4 = 4\n",
      "Count of 5 = 4\n",
      "Count of 6 = 3\n",
      "Count of 4 = 4\n",
      "Count of 5 = 4\n",
      "Count of 6 = 3\n",
      "Count of 4 = 4\n",
      "Count of 3 = 2\n",
      "Count of 4 = 4\n",
      "Count of 5 = 4\n",
      "Count of 6 = 3\n",
      "Count of 5 = 4\n"
     ]
    }
   ],
   "source": [
    "#2nd way\n",
    "l = [1, 1, 1, 3, 4, 5, 6, 4, 5, 6, 4, 3, 4, 5, 6, 5]\n",
    "\n",
    "for item in l:\n",
    "    count = l.count(item)\n",
    "    print(\"Count of\", item, \"=\", count)\n"
   ]
  },
  {
   "cell_type": "code",
   "execution_count": 65,
   "id": "fee01911-2afd-441f-931b-f14afbcdd4f5",
   "metadata": {},
   "outputs": [
    {
     "name": "stdout",
     "output_type": "stream",
     "text": [
      "['shruti', 'shanu', 'shrey']\n"
     ]
    }
   ],
   "source": [
    "#7.Given a list of names, remove all duplicate names and print the unique names%\n",
    "list=['shruti','shanu','shrey','shruti']\n",
    "new_l=[]\n",
    "for i in list:\n",
    "    if i not in new_l:\n",
    "        new_l.append(i)\n",
    "print(new_l)\n",
    "    "
   ]
  },
  {
   "cell_type": "code",
   "execution_count": 69,
   "id": "52666826-a15f-4d9a-ab4d-f403667d9c9b",
   "metadata": {},
   "outputs": [
    {
     "name": "stdout",
     "output_type": "stream",
     "text": [
      "['benu', 'shanu', 'shrey', 'shruti']\n"
     ]
    }
   ],
   "source": [
    "#8.Create a function that takes a list of strings and returns the list sorted by the length of the strings\n",
    "s=['shruti','shanu','shrey','benu']\n",
    "\n",
    "s.sort()\n",
    "print(s)"
   ]
  },
  {
   "cell_type": "code",
   "execution_count": 70,
   "id": "4b25cdb2-db0d-4159-acba-ce63970e4061",
   "metadata": {},
   "outputs": [
    {
     "name": "stdout",
     "output_type": "stream",
     "text": [
      "sorted_list sorted in ascending order : True\n"
     ]
    }
   ],
   "source": [
    "#9.Write a program that checks if a given list is sorted in ascending order\n",
    "def is_sorted_ascending(mylist):\n",
    "    n = len(mylist)\n",
    "    \n",
    "    if n <= 1:\n",
    "        return True\n",
    "\n",
    "    for i in range(1, n):\n",
    "        if mylist[i] < mylist[i - 1]:\n",
    "            return False  # If any element is less than the previous one, the list is not sorted\n",
    "\n",
    "    return True  \n",
    "sorted_list = [1, 2, 3, 4, 5]\n",
    "unsorted_list = [1, 3, 2, 4, 5]\n",
    "\n",
    "print(f\"sorted_list sorted in ascending order : {is_sorted_ascending(sorted_list)}\")"
   ]
  },
  {
   "cell_type": "code",
   "execution_count": 73,
   "id": "ea73f478-e3bc-4dfd-a48a-f66f165b741e",
   "metadata": {},
   "outputs": [
    {
     "name": "stdout",
     "output_type": "stream",
     "text": [
      "[23, 15, 2, 14, 14, 16, 20, 52, 2, 48, 15, 12, 26, 32, 47, 54]\n"
     ]
    }
   ],
   "source": [
    "# Function to compute the union of two lists\n",
    "\n",
    "def Union(lst1, lst2):\n",
    "    final_list = lst1 + lst2\n",
    "    return final_list\n",
    " \n",
    "# Driver Code\n",
    "lst1 = [23, 15, 2, 14, 14, 16, 20 ,52]\n",
    "lst2 = [2, 48, 15, 12, 26, 32, 47, 54]\n",
    "print(Union(lst1, lst2))"
   ]
  },
  {
   "cell_type": "code",
   "execution_count": null,
   "id": "87c8a6ca-badb-48c2-a61c-c587cb477166",
   "metadata": {},
   "outputs": [],
   "source": []
  }
 ],
 "metadata": {
  "kernelspec": {
   "display_name": "Python 3 (ipykernel)",
   "language": "python",
   "name": "python3"
  },
  "language_info": {
   "codemirror_mode": {
    "name": "ipython",
    "version": 3
   },
   "file_extension": ".py",
   "mimetype": "text/x-python",
   "name": "python",
   "nbconvert_exporter": "python",
   "pygments_lexer": "ipython3",
   "version": "3.11.4"
  }
 },
 "nbformat": 4,
 "nbformat_minor": 5
}
