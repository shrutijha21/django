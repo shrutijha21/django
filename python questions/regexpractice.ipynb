{
 "cells": [
  {
   "cell_type": "code",
   "execution_count": 13,
   "id": "bc4a6b1c-06e2-41b9-94d7-73abde267e71",
   "metadata": {},
   "outputs": [
    {
     "name": "stdout",
     "output_type": "stream",
     "text": [
      "<re.Match object; span=(73, 80), match='Cyclone'>\n",
      "['Cyclone', 'Dyclone', 'Hyclone']\n"
     ]
    }
   ],
   "source": [
    "#suppose i have been given a string and then i have to find a word that starts with a capital letter\n",
    "#example= Cyclone,Dyclone..... like it starts with capital letter and ends with yclone\n",
    "import re\n",
    "text=\"This is the example of reges i want to find word starting with caps like Cyclone and like Dyclone or maybe Hyclone\"\n",
    "pattern=r\"[A-Z]+yclone\"\n",
    "new_text=re.search(pattern,text)\n",
    "print(new_text)#but only Cyclone matches and not Dyclone and Hyclone.. because it stops in first occurrences\n",
    "result=re.findall(pattern,text)\n",
    "print(result)"
   ]
  },
  {
   "cell_type": "code",
   "execution_count": 10,
   "id": "9a7e4c02-a4e2-46d9-af85-14ea272c832a",
   "metadata": {},
   "outputs": [
    {
     "name": "stdout",
     "output_type": "stream",
     "text": [
      "<re.Match object; span=(73, 80), match='Cyclone'>\n",
      "<re.Match object; span=(73, 80), match='Cyclone'>\n",
      "<re.Match object; span=(90, 97), match='Dyclone'>\n",
      "<re.Match object; span=(107, 114), match='Hyclone'>\n"
     ]
    }
   ],
   "source": [
    "#2nd way:\n",
    "import re\n",
    "text=\"This is the example of reges i want to find word starting with caps like Cyclone and like Dyclone or maybe Hyclone\"\n",
    "pattern=r\"[A-Z]+yclone\"\n",
    "new_text=re.search(pattern,text)\n",
    "print(new_text)#but only Cyclone matches and not Dyclone and Hyclone.. because it stops in first occurrences\n",
    "results=re.finditer(pattern,text)\n",
    "for r in results:\n",
    "   print(r)"
   ]
  },
  {
   "cell_type": "code",
   "execution_count": 16,
   "id": "354e5c31-8d5f-4839-8da7-bc776b0ee0f2",
   "metadata": {},
   "outputs": [
    {
     "name": "stdout",
     "output_type": "stream",
     "text": [
      "['shrutijha9065@email.com', 'shrutijha1503@email.com']\n"
     ]
    }
   ],
   "source": [
    "#example2:\n",
    "import re\n",
    "text= 'My email is: shrutijha9065@email.com and alternate email id is: shrutijha1503@email.com'\n",
    "pattern=r'\\S+@\\S+'\n",
    "# when you use r'\\S+@\\S+' as a regular expression pattern,\n",
    "#it will match any sequence of characters that starts with one or more non-whitespace characters, \n",
    "#followed by the \"@\" symbol, and then followed by one or more non-whitespace characters.\n",
    "emails=re.findall(pattern,text)\n",
    "print(emails)"
   ]
  },
  {
   "cell_type": "code",
   "execution_count": 29,
   "id": "fc9b749c-088a-4426-a835-7e8a3e1a86f2",
   "metadata": {},
   "outputs": [
    {
     "name": "stdout",
     "output_type": "stream",
     "text": [
      "<re.Match object; span=(28, 39), match='405-55-1234'>\n"
     ]
    }
   ],
   "source": [
    "#search for phone numbers\n",
    "import re\n",
    "text=\"the agent's phone number is 405-55-1234.Call soon!\"\n",
    "pattern=\"\\d\\d\\d-\\d\\d-\\d\\d\\d\\d\"\n",
    "match=re.search(pattern,text)\n",
    "print(match)"
   ]
  },
  {
   "cell_type": "code",
   "execution_count": 30,
   "id": "1a33a962-a877-4447-9fa2-e84f39e8a198",
   "metadata": {},
   "outputs": [
    {
     "data": {
      "text/plain": [
       "(28, 39)"
      ]
     },
     "execution_count": 30,
     "metadata": {},
     "output_type": "execute_result"
    }
   ],
   "source": [
    "match.span()#gives the index number of pattern from where its starts to where it ends\n",
    "#no matter how many matches i have i will get the span of only first match"
   ]
  },
  {
   "cell_type": "code",
   "execution_count": 31,
   "id": "28fdfe61-3daa-432f-b786-569a0ca8e388",
   "metadata": {},
   "outputs": [
    {
     "data": {
      "text/plain": [
       "<re.Match object; span=(28, 39), match='405-55-1234'>"
      ]
     },
     "execution_count": 31,
     "metadata": {},
     "output_type": "execute_result"
    }
   ],
   "source": [
    "match"
   ]
  },
  {
   "cell_type": "code",
   "execution_count": 32,
   "id": "aa4dee28-c8c7-4506-9f43-5dfc4ed994da",
   "metadata": {},
   "outputs": [
    {
     "data": {
      "text/plain": [
       "28"
      ]
     },
     "execution_count": 32,
     "metadata": {},
     "output_type": "execute_result"
    }
   ],
   "source": [
    "match.start()#for the start index"
   ]
  },
  {
   "cell_type": "code",
   "execution_count": 33,
   "id": "f8d1f276-49e0-43cb-a75a-10e1cc55925c",
   "metadata": {},
   "outputs": [
    {
     "data": {
      "text/plain": [
       "39"
      ]
     },
     "execution_count": 33,
     "metadata": {},
     "output_type": "execute_result"
    }
   ],
   "source": [
    "match.end()"
   ]
  },
  {
   "cell_type": "code",
   "execution_count": 48,
   "id": "887fbc3c-8ca8-45bc-a7a3-8a6a0ae11572",
   "metadata": {},
   "outputs": [
    {
     "name": "stdout",
     "output_type": "stream",
     "text": [
      "['shrutijha9065@email.com', 'shrutijha1503@email.com']\n",
      "<re.Match object; span=(13, 36), match='shrutijha9065@email.com'>\n",
      "(13, 36)\n",
      "shrutijha9065@email.com\n",
      "<re.Match object; span=(64, 87), match='shrutijha1503@email.com'>\n",
      "(64, 87)\n",
      "shrutijha1503@email.com\n"
     ]
    }
   ],
   "source": [
    "#now for multiple matches:\n",
    "import re\n",
    "text= 'My email is: shrutijha9065@email.com and alternate email id is: shrutijha1503@email.com'\n",
    "pattern=r'\\S+@\\S+'\n",
    "# when you use r'\\S+@\\S+' as a regular expression pattern,\n",
    "#it will match any sequence of characters that starts with one or more non-whitespace characters, \n",
    "#followed by the \"@\" symbol, and then followed by one or more non-whitespace characters.\n",
    "emails=re.findall(pattern,text)\n",
    "email_match=re.finditer(pattern,text)\n",
    "print(emails)\n",
    "\n",
    "for e in email_match:\n",
    "    print(e)\n",
    "    print(e.span())\n",
    "    print(e.group())#gives group of emails i am searching,,just like findall"
   ]
  },
  {
   "cell_type": "code",
   "execution_count": 2,
   "id": "e62ecd92-0938-4a8d-92f1-5e5befcdb2ee",
   "metadata": {},
   "outputs": [
    {
     "name": "stdout",
     "output_type": "stream",
     "text": [
      "<re.Match object; span=(28, 39), match='405-55-1234'>\n"
     ]
    }
   ],
   "source": [
    "#quantifiers:\n",
    "\n",
    "#search for phone numbers\n",
    "import re\n",
    "text=\"the agent's phone number is 405-55-1234.Call soon!\"\n",
    "# pattern=\"\\d\\d\\d-\\d\\d-\\d\\d\\d\\d\"\n",
    "pattern=r'\\d{3}-\\d{2}-\\d{4}'\n",
    "match=re.search(pattern,text)\n",
    "print(match)"
   ]
  },
  {
   "cell_type": "code",
   "execution_count": 3,
   "id": "7dc3a2b3-94c2-4aba-84ed-77e74c808211",
   "metadata": {},
   "outputs": [],
   "source": [
    "phone_pattern=r'(\\d{3})-(\\d{2})-(\\d{4})'#it will treat each pattern as seperate groups"
   ]
  },
  {
   "cell_type": "code",
   "execution_count": 4,
   "id": "9e93ab72-7146-4a77-b7e4-a70973dd6bbd",
   "metadata": {},
   "outputs": [],
   "source": [
    "res=re.search(phone_pattern,text)"
   ]
  },
  {
   "cell_type": "code",
   "execution_count": 5,
   "id": "5e9c7501-4341-44f2-bec6-b0e1e08aaef5",
   "metadata": {},
   "outputs": [
    {
     "data": {
      "text/plain": [
       "'405-55-1234'"
      ]
     },
     "execution_count": 5,
     "metadata": {},
     "output_type": "execute_result"
    }
   ],
   "source": [
    "res.group()"
   ]
  },
  {
   "cell_type": "code",
   "execution_count": 6,
   "id": "d0d65fe4-b83c-4321-a7ff-37202be5d899",
   "metadata": {},
   "outputs": [
    {
     "data": {
      "text/plain": [
       "'405'"
      ]
     },
     "execution_count": 6,
     "metadata": {},
     "output_type": "execute_result"
    }
   ],
   "source": [
    "res.group(1)"
   ]
  },
  {
   "cell_type": "code",
   "execution_count": 7,
   "id": "f3df5f02-c5cc-43ca-9c25-edb2a85e0368",
   "metadata": {},
   "outputs": [
    {
     "data": {
      "text/plain": [
       "'1234'"
      ]
     },
     "execution_count": 7,
     "metadata": {},
     "output_type": "execute_result"
    }
   ],
   "source": [
    "res.group(3)"
   ]
  },
  {
   "cell_type": "code",
   "execution_count": 8,
   "id": "df3e0e56-7b31-48f6-84cf-cbf824ca8a5f",
   "metadata": {},
   "outputs": [
    {
     "data": {
      "text/plain": [
       "<re.Match object; span=(4, 7), match='cat'>"
      ]
     },
     "execution_count": 8,
     "metadata": {},
     "output_type": "execute_result"
    }
   ],
   "source": [
    "#ADDITIONAL REGEX:\n",
    "# |=OR OPERATOR\n",
    "\n",
    "re.search(r'cat','The cat is here')#search for cat in the second text\n"
   ]
  },
  {
   "cell_type": "code",
   "execution_count": 9,
   "id": "9c6e4ca6-19a6-4b49-88e2-72ec64b882f4",
   "metadata": {},
   "outputs": [],
   "source": [
    "re.search(r'dog','The cat is here')#we get no output as there is no dog in this"
   ]
  },
  {
   "cell_type": "code",
   "execution_count": 10,
   "id": "1cb17689-a78f-4c8e-a381-c39cce50ef76",
   "metadata": {},
   "outputs": [
    {
     "data": {
      "text/plain": [
       "<re.Match object; span=(4, 7), match='dog'>"
      ]
     },
     "execution_count": 10,
     "metadata": {},
     "output_type": "execute_result"
    }
   ],
   "source": [
    "re.search(r'cat|dog','The dog is here')#we are using | here"
   ]
  },
  {
   "cell_type": "code",
   "execution_count": 11,
   "id": "ddfd1c46-d805-4495-82d1-957f6e7bc57c",
   "metadata": {},
   "outputs": [
    {
     "data": {
      "text/plain": [
       "['at', 'at', 'at']"
      ]
     },
     "execution_count": 11,
     "metadata": {},
     "output_type": "execute_result"
    }
   ],
   "source": [
    "#2nd example:\n",
    "re.findall(r'at','The cat sat on a mat.')#we got all the characters that is having at... even from hat and sat"
   ]
  },
  {
   "cell_type": "code",
   "execution_count": 12,
   "id": "9c715caf-416f-40fd-b7c2-0b4fcc87dbf8",
   "metadata": {},
   "outputs": [
    {
     "data": {
      "text/plain": [
       "['cat', 'sat', 'mat']"
      ]
     },
     "execution_count": 12,
     "metadata": {},
     "output_type": "execute_result"
    }
   ],
   "source": [
    "re.findall(r'.at','The cat sat on a mat.')#. represents that anything could be in place of that dot"
   ]
  },
  {
   "cell_type": "code",
   "execution_count": 18,
   "id": "5f035aab-5439-46d6-89f3-10ae5fd4fb43",
   "metadata": {},
   "outputs": [
    {
     "data": {
      "text/plain": [
       "['e cat', 'a mat', 'splat']"
      ]
     },
     "execution_count": 18,
     "metadata": {},
     "output_type": "execute_result"
    }
   ],
   "source": [
    "re.findall(r'...at','The cat sat on a mat.It splat ')"
   ]
  },
  {
   "cell_type": "code",
   "execution_count": 33,
   "id": "c9571343-48fc-4b79-ac60-ecb29db849c7",
   "metadata": {
    "scrolled": true
   },
   "outputs": [
    {
     "data": {
      "text/plain": [
       "['t',\n",
       " 'h',\n",
       " 'e',\n",
       " 'r',\n",
       " 'e',\n",
       " ' ',\n",
       " 'a',\n",
       " 'r',\n",
       " 'e',\n",
       " ' ',\n",
       " ' ',\n",
       " 'm',\n",
       " 'a',\n",
       " 'n',\n",
       " 'y',\n",
       " ' ',\n",
       " 'p',\n",
       " 'e',\n",
       " 'o',\n",
       " 'p',\n",
       " 'l',\n",
       " 'e',\n",
       " ' ',\n",
       " ' ',\n",
       " 'i',\n",
       " 'n',\n",
       " ' ',\n",
       " 't',\n",
       " 'h',\n",
       " 'i',\n",
       " 's',\n",
       " ' ',\n",
       " ' ',\n",
       " 'h',\n",
       " 'o',\n",
       " 'u',\n",
       " 's',\n",
       " 'e']"
      ]
     },
     "execution_count": 33,
     "metadata": {},
     "output_type": "execute_result"
    }
   ],
   "source": [
    "#to exclude a digit\n",
    "\n",
    "t=\"there are 3 many people 45 in this 65 house\"\n",
    "pattern=r\"[^\\d]\"\n",
    "re.findall(pattern,t)#returns all the character one by one"
   ]
  },
  {
   "cell_type": "code",
   "execution_count": 34,
   "id": "9355640d-4537-4b12-b2a5-c725c332a9c1",
   "metadata": {},
   "outputs": [
    {
     "data": {
      "text/plain": [
       "['there are ', ' many people ', ' in this ', ' house']"
      ]
     },
     "execution_count": 34,
     "metadata": {},
     "output_type": "execute_result"
    }
   ],
   "source": [
    "t=\"there are 3 many people 45 in this 65 house\"\n",
    "pattern=r\"[^\\d]+\" #+ is used to get all words together\n",
    "re.findall(pattern,t)#returns all the character one by one"
   ]
  },
  {
   "cell_type": "code",
   "execution_count": 41,
   "id": "a3ab6c06-fb4f-4c0c-b0a2-3c57f6900f0d",
   "metadata": {},
   "outputs": [
    {
     "name": "stdout",
     "output_type": "stream",
     "text": [
      "['this', 'is', 'a', 'string', 'with', 'a', 'lot', 'of', 'punctuations', 'right', \"let's\", 'remove', 'them', 'all']\n"
     ]
    }
   ],
   "source": [
    "s=\"this is a string! with a lot of punctuations right? let's remove them all.\"\n",
    "p=r'[^!.? ]+'\n",
    "m=re.findall(p,s)\n",
    "print(m)"
   ]
  },
  {
   "cell_type": "code",
   "execution_count": 39,
   "id": "aae655d2-bd8f-4021-8e7b-767479ad2e10",
   "metadata": {},
   "outputs": [
    {
     "data": {
      "text/plain": [
       "\"this is a string with a lot of punctuations right let's remove them all\""
      ]
     },
     "execution_count": 39,
     "metadata": {},
     "output_type": "execute_result"
    }
   ],
   "source": [
    "' '.join(m)"
   ]
  },
  {
   "cell_type": "code",
   "execution_count": null,
   "id": "84983dc9-b254-43fb-a8b1-f37fbee17085",
   "metadata": {},
   "outputs": [],
   "source": []
  }
 ],
 "metadata": {
  "kernelspec": {
   "display_name": "Python 3 (ipykernel)",
   "language": "python",
   "name": "python3"
  },
  "language_info": {
   "codemirror_mode": {
    "name": "ipython",
    "version": 3
   },
   "file_extension": ".py",
   "mimetype": "text/x-python",
   "name": "python",
   "nbconvert_exporter": "python",
   "pygments_lexer": "ipython3",
   "version": "3.11.4"
  }
 },
 "nbformat": 4,
 "nbformat_minor": 5
}
