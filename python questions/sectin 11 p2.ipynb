{
 "cells": [
  {
   "cell_type": "code",
   "execution_count": 92,
   "id": "d3c5f8ba-e02e-4943-8f97-6c6295ab78d7",
   "metadata": {},
   "outputs": [],
   "source": [
    "import random\n",
    "suits= ('Hearts', 'Diamonds','Spades','Clubs')\n",
    "ranks = ('Two','Three','Four','Five','Six','Seven','Eight','Nine','Ten','Jack','Queen','King','Ace')\n",
    "values={'Two':2,'Three':3,'Four':4,'Five':5,'Six':6,'Seven':7,'Eight':8,'Nine':9,'Ten':10,'Jack':10,'Queen':10,'King':10,'Ace':11}\n",
    "playing:True\n",
    "#variables is a dictionary because we pass the ranks there and get there numerical values"
   ]
  },
  {
   "cell_type": "code",
   "execution_count": 75,
   "id": "cd06f35d-44ea-4f2c-855a-23a07ef7bf88",
   "metadata": {},
   "outputs": [],
   "source": [
    "class Card:\n",
    "    def __init__(self,suit,rank):\n",
    "        self.suit=suit\n",
    "        self.rank=rank\n",
    "\n",
    "    def __str__(self):\n",
    "        return self.rank+\"  of \"+ self.suit\n",
    "\n",
    "\n",
    "#this class is created to get the rank of a suit"
   ]
  },
  {
   "cell_type": "code",
   "execution_count": 76,
   "id": "6d78ba9f-f31d-40a8-8006-3941427ec91d",
   "metadata": {},
   "outputs": [],
   "source": [
    "class Deck:#this is where we store 52 cards\n",
    "    def __init__(self):\n",
    "        self.deck=[]#start with and empty list\n",
    "        for suit in suits:\n",
    "            for rank in ranks:\n",
    "                self.deck.append(Card(suit,rank))\n",
    "\n",
    "    def __str__(self):\n",
    "        deck_comp = ''\n",
    "        for card in self.deck:\n",
    "            deck_comp+='\\n'+card.__str__()\n",
    "        return \"The deck has:\"+deck_comp\n",
    "\n",
    "    def shuffle(self):\n",
    "        random.shuffle(self.deck)\n",
    "    def deal(self):\n",
    "        single_card= self.deck.pop()\n",
    "        return single_card\n",
    "        "
   ]
  },
  {
   "cell_type": "code",
   "execution_count": 77,
   "id": "f10efa65-b8f6-4814-bc93-a97a0d5c9c93",
   "metadata": {},
   "outputs": [
    {
     "name": "stdout",
     "output_type": "stream",
     "text": [
      "The deck has:\n",
      "Four  of Clubs\n",
      "Queen  of Clubs\n",
      "King  of Spades\n",
      "Three  of Diamonds\n",
      "Nine  of Diamonds\n",
      "Ten  of Diamonds\n",
      "Queen  of Diamonds\n",
      "Four  of Spades\n",
      "Five  of Spades\n",
      "Ace  of Spades\n",
      "King  of Clubs\n",
      "Queen  of Hearts\n",
      "King  of Diamonds\n",
      "Three  of Clubs\n",
      "Eight  of Hearts\n",
      "Six  of Spades\n",
      "Two  of Spades\n",
      "Five  of Diamonds\n",
      "Jack  of Clubs\n",
      "Ace  of Diamonds\n",
      "Jack  of Spades\n",
      "Five  of Clubs\n",
      "Eight  of Spades\n",
      "Four  of Diamonds\n",
      "Six  of Clubs\n",
      "Seven  of Spades\n",
      "Eight  of Clubs\n",
      "Two  of Clubs\n",
      "Jack  of Diamonds\n",
      "Six  of Hearts\n",
      "Ten  of Clubs\n",
      "Eight  of Diamonds\n",
      "Ten  of Hearts\n",
      "Three  of Spades\n",
      "Four  of Hearts\n",
      "Three  of Hearts\n",
      "Five  of Hearts\n",
      "Ace  of Clubs\n",
      "Seven  of Diamonds\n",
      "Two  of Diamonds\n",
      "Two  of Hearts\n",
      "Jack  of Hearts\n",
      "Nine  of Clubs\n",
      "King  of Hearts\n",
      "Six  of Diamonds\n",
      "Queen  of Spades\n",
      "Seven  of Clubs\n",
      "Nine  of Hearts\n",
      "Ace  of Hearts\n",
      "Seven  of Hearts\n",
      "Nine  of Spades\n",
      "Ten  of Spades\n"
     ]
    }
   ],
   "source": [
    "test_deck=Deck()#to get in order\n",
    "test_deck.shuffle()#shuffles the card without it it will be in order\n",
    "print(test_deck)"
   ]
  },
  {
   "cell_type": "code",
   "execution_count": 102,
   "id": "e306a377-ab7e-4cdc-aa78-252139c050b7",
   "metadata": {},
   "outputs": [],
   "source": [
    "class Hand:\n",
    "    def __init__(self):\n",
    "        self.cards=[]# start with an empty list as we did in deck class\n",
    "        self.value=0#start with 0 value\n",
    "        self.aces=0#add an attribute to keep track of aces as it can either be a 1 or 11\n",
    "\n",
    "    def add_card(self,card):\n",
    "        self.cards.append(card)\n",
    "        #the card passes in is going to be from the deck class and deal i mean Deck.deal()\n",
    "        self.value+= values[card.rank]\n",
    "           #track the aces\n",
    "        if card.rank =='Ace':\n",
    "            self.aces+=1\n",
    "    def adjust_for_ace(self):\n",
    "         while self.value> 21 and self.aces:\n",
    "             #if total value i greater than 21 and still i have an ace\n",
    "             #then change my ace to be a 1 instead of an 11\n",
    "             self.value -= 10\n",
    "             self -= 1\n",
    "        \n",
    "        \n",
    "        "
   ]
  },
  {
   "cell_type": "code",
   "execution_count": 103,
   "id": "a2cbd75f-5f8c-446e-9e4c-43092d369243",
   "metadata": {},
   "outputs": [
    {
     "name": "stdout",
     "output_type": "stream",
     "text": [
      "Nine  of Hearts\n",
      "0\n"
     ]
    }
   ],
   "source": [
    "test_deck=Deck()#to get in order\n",
    "test_deck.shuffle()\n",
    "#player\n",
    "test_player = Hand()\n",
    "pulled_card=test_deck.deal()\n",
    "print(pulled_card)\n",
    "test_player.add_card\n",
    "print(test_player.value)"
   ]
  },
  {
   "cell_type": "code",
   "execution_count": 104,
   "id": "b8c9e3c7-caeb-4b06-8df7-a69414b05f4b",
   "metadata": {},
   "outputs": [],
   "source": [
    "test_player.add_card(test_deck.deal())"
   ]
  },
  {
   "cell_type": "code",
   "execution_count": 105,
   "id": "c22c14f7-1f04-4e2b-840a-71cd61af9c36",
   "metadata": {},
   "outputs": [
    {
     "data": {
      "text/plain": [
       "6"
      ]
     },
     "execution_count": 105,
     "metadata": {},
     "output_type": "execute_result"
    }
   ],
   "source": [
    "test_player.value"
   ]
  },
  {
   "cell_type": "code",
   "execution_count": 106,
   "id": "69a1ef3d-42bf-45e6-b3df-21bf60b0b61e",
   "metadata": {},
   "outputs": [],
   "source": [
    "zero=0\n",
    "one=1\n",
    "two=2"
   ]
  },
  {
   "cell_type": "code",
   "execution_count": 107,
   "id": "360fa8fa-70a6-410c-8493-84d9386e675e",
   "metadata": {},
   "outputs": [],
   "source": [
    "if 0:\n",
    "    print('True')#not print anything as 0 is always treated as false and any other thing is \n",
    "#treated as true"
   ]
  },
  {
   "cell_type": "code",
   "execution_count": 108,
   "id": "eee92fe8-fb56-4b13-868a-1974facaf8f0",
   "metadata": {},
   "outputs": [
    {
     "name": "stdout",
     "output_type": "stream",
     "text": [
      "True\n"
     ]
    }
   ],
   "source": [
    "if 1:\n",
    "    print('True')"
   ]
  },
  {
   "cell_type": "code",
   "execution_count": 109,
   "id": "ed9a3f53-0148-4801-986d-9a36a2925d56",
   "metadata": {},
   "outputs": [],
   "source": [
    "class Chips:\n",
    "    def __init__(self,total=100):\n",
    "        self.total=total\n",
    "        self.bet=0\n",
    "\n",
    "    def win_bet(self):\n",
    "        self.total+= self.bet\n",
    "\n",
    "    def lose_bet(self):\n",
    "        self.total-= self.bet"
   ]
  },
  {
   "cell_type": "code",
   "execution_count": 110,
   "id": "ba6f8669-76ff-4520-b5a6-31c56be61e8d",
   "metadata": {},
   "outputs": [],
   "source": [
    "def take_bet(chips):\n",
    "    while True:\n",
    "        try:\n",
    "            chips.bet = int(input(\"How many chips would you like to bet?\"))\n",
    "        except:\n",
    "            print(\"Sorry please enetr an integer\")\n",
    "        else:\n",
    "            if chips.bet> chips.total:\n",
    "                print (\"sorry you do not have enough chips! You have:{}\".format(chips.total))\n",
    "            else:\n",
    "                break"
   ]
  },
  {
   "cell_type": "code",
   "execution_count": 111,
   "id": "d4c9af22-eb8b-4308-9980-d4b10b081c81",
   "metadata": {},
   "outputs": [],
   "source": [
    "def hit(deck,hand):\n",
    "    single_card= deck.deal()\n",
    "    hand.add_card(single_card)\n",
    "    hand.adjust_for_ace()"
   ]
  },
  {
   "cell_type": "code",
   "execution_count": 112,
   "id": "69492bf1-4b4c-4b59-8a5c-d6b9b9d4c17e",
   "metadata": {},
   "outputs": [],
   "source": [
    "def hit_or_stand(deck,hand):\n",
    "    global playing\n",
    "    while True:\n",
    "        x=input('Hit or Stand?Enter h or s')\n",
    "        if x[0].lower()=='h':\n",
    "            hit(deck,hand)\n",
    "        elif x[0].lower()=='s':\n",
    "            print(\"Player stands dealer's turn\")\n",
    "            playing=False\n",
    "        else:\n",
    "            print(\"invalid input please enter either h or s\")\n",
    "            continue\n",
    "        break"
   ]
  },
  {
   "cell_type": "code",
   "execution_count": 113,
   "id": "9bce2b17-41a5-4c2b-a220-be5095a17f31",
   "metadata": {},
   "outputs": [],
   "source": [
    "#to display cards\n",
    "\n",
    "def show_some(player,dealer):\n",
    "    dealer.cards[1]\n",
    "    #objective:show only one card of dealer's hand\n",
    "    print(\"\\n Dealer's Hand:\")\n",
    "    print(\"Fist card hidden!\")\n",
    "    print(dealer.cards[1])\n",
    "    #objective:show all(2cards) cards of players's hand/cards\n",
    "    print(\"\\n player's hand:\")\n",
    "    for card in player.cards:\n",
    "        print(card)\n",
    "    \n",
    "\n",
    "def show_all(player, dealer):\n",
    "    # Show all dealer's cards\n",
    "    print(\"\\n dealer's hand:\")\n",
    "    for card in dealer.cards:\n",
    "        print(card)\n",
    "    print(f\"value of dealer's hand is: {dealer.value}\")\n",
    "\n",
    "    # Show all player's cards\n",
    "    print(\"\\n player's hand:\")\n",
    "    for card in player.cards:\n",
    "        print(card)\n",
    "    print(f\"value of player's hand is: {player.value}\")\n",
    "    "
   ]
  },
  {
   "cell_type": "code",
   "execution_count": 114,
   "id": "77d1c05d-4b73-4c2e-8474-6196fcfee9da",
   "metadata": {},
   "outputs": [],
   "source": [
    "def player_busts(player,dealer,chips):\n",
    "    print(\"bust player\")\n",
    "    chips.lose_bet()\n",
    "def player_wins(player,dealer,chips):\n",
    "    print(\"player wins\")\n",
    "    chips.win_bet()\n",
    "def dealer_busts(player,dealer,chips):\n",
    "    print(\" player wins!dealer lost\")\n",
    "    chips.win_bet()\n",
    "\n",
    "def dealer_wins(player,dealer,chips):\n",
    "     print(\"dealer won\")\n",
    "     chips.lose_bet()\n",
    "\n",
    "def push(player,dealer):\n",
    "    print(\"tie b\\w dealer and player!push\")"
   ]
  },
  {
   "cell_type": "code",
   "execution_count": null,
   "id": "3de7d1e6-75dc-43a4-a180-07724b99b156",
   "metadata": {},
   "outputs": [
    {
     "name": "stdout",
     "output_type": "stream",
     "text": [
      "Welcome to Blackjack\n"
     ]
    },
    {
     "name": "stdin",
     "output_type": "stream",
     "text": [
      "How many chips would you like to bet? 50\n"
     ]
    },
    {
     "name": "stdout",
     "output_type": "stream",
     "text": [
      "\n",
      " Dealer's Hand:\n",
      "Fist card hidden!\n",
      "Eight  of Hearts\n",
      "\n",
      " player's hand:\n",
      "Two  of Diamonds\n",
      "Queen  of Clubs\n"
     ]
    },
    {
     "name": "stdin",
     "output_type": "stream",
     "text": [
      "Hit or Stand?Enter h or s s\n"
     ]
    },
    {
     "name": "stdout",
     "output_type": "stream",
     "text": [
      "Player stands dealer's turn\n",
      "\n",
      " Dealer's Hand:\n",
      "Fist card hidden!\n",
      "Eight  of Hearts\n",
      "\n",
      " player's hand:\n",
      "Two  of Diamonds\n",
      "Queen  of Clubs\n",
      "\n",
      " dealer's hand:\n",
      "Jack  of Clubs\n",
      "Eight  of Hearts\n",
      "value of dealer's hand is: 18\n",
      "\n",
      " player's hand:\n",
      "Two  of Diamonds\n",
      "Queen  of Clubs\n",
      "value of player's hand is: 12\n",
      "dealer won\n",
      "\n",
      "Player total chips are at 50\n"
     ]
    },
    {
     "name": "stdin",
     "output_type": "stream",
     "text": [
      "Would you like to play another hand? Enter 'y' or 'n':  y\n"
     ]
    },
    {
     "name": "stdout",
     "output_type": "stream",
     "text": [
      "Welcome to Blackjack\n"
     ]
    },
    {
     "name": "stdin",
     "output_type": "stream",
     "text": [
      "How many chips would you like to bet? 100\n"
     ]
    },
    {
     "name": "stdout",
     "output_type": "stream",
     "text": [
      "\n",
      " Dealer's Hand:\n",
      "Fist card hidden!\n",
      "Ten  of Hearts\n",
      "\n",
      " player's hand:\n",
      "Nine  of Spades\n",
      "Three  of Diamonds\n"
     ]
    },
    {
     "name": "stdin",
     "output_type": "stream",
     "text": [
      "Hit or Stand?Enter h or s s\n"
     ]
    },
    {
     "name": "stdout",
     "output_type": "stream",
     "text": [
      "Player stands dealer's turn\n",
      "\n",
      " Dealer's Hand:\n",
      "Fist card hidden!\n",
      "Ten  of Hearts\n",
      "\n",
      " player's hand:\n",
      "Nine  of Spades\n",
      "Three  of Diamonds\n",
      "\n",
      " dealer's hand:\n",
      "Ace  of Clubs\n",
      "Ten  of Hearts\n",
      "value of dealer's hand is: 21\n",
      "\n",
      " player's hand:\n",
      "Nine  of Spades\n",
      "Three  of Diamonds\n",
      "value of player's hand is: 12\n",
      "dealer won\n",
      "\n",
      "Player total chips are at 0\n"
     ]
    },
    {
     "name": "stdin",
     "output_type": "stream",
     "text": [
      "Would you like to play another hand? Enter 'y' or 'n':  y\n"
     ]
    },
    {
     "name": "stdout",
     "output_type": "stream",
     "text": [
      "Welcome to Blackjack\n"
     ]
    },
    {
     "name": "stdin",
     "output_type": "stream",
     "text": [
      "How many chips would you like to bet? 20\n"
     ]
    },
    {
     "name": "stdout",
     "output_type": "stream",
     "text": [
      "\n",
      " Dealer's Hand:\n",
      "Fist card hidden!\n",
      "Four  of Hearts\n",
      "\n",
      " player's hand:\n",
      "Ten  of Diamonds\n",
      "Four  of Diamonds\n"
     ]
    },
    {
     "name": "stdin",
     "output_type": "stream",
     "text": [
      "Hit or Stand?Enter h or s h\n"
     ]
    },
    {
     "name": "stdout",
     "output_type": "stream",
     "text": [
      "\n",
      " Dealer's Hand:\n",
      "Fist card hidden!\n",
      "Four  of Hearts\n",
      "\n",
      " player's hand:\n",
      "Ten  of Diamonds\n",
      "Four  of Diamonds\n",
      "Queen  of Clubs\n",
      "bust player\n",
      "Welcome to Blackjack\n"
     ]
    },
    {
     "name": "stdin",
     "output_type": "stream",
     "text": [
      "How many chips would you like to bet? h0\n"
     ]
    },
    {
     "name": "stdout",
     "output_type": "stream",
     "text": [
      "Sorry please enetr an integer\n"
     ]
    },
    {
     "name": "stdin",
     "output_type": "stream",
     "text": [
      "How many chips would you like to bet? r\n"
     ]
    },
    {
     "name": "stdout",
     "output_type": "stream",
     "text": [
      "Sorry please enetr an integer\n"
     ]
    },
    {
     "name": "stdin",
     "output_type": "stream",
     "text": [
      "How many chips would you like to bet? f\n"
     ]
    },
    {
     "name": "stdout",
     "output_type": "stream",
     "text": [
      "Sorry please enetr an integer\n"
     ]
    },
    {
     "name": "stdin",
     "output_type": "stream",
     "text": [
      "How many chips would you like to bet? 3\n"
     ]
    },
    {
     "name": "stdout",
     "output_type": "stream",
     "text": [
      "\n",
      " Dealer's Hand:\n",
      "Fist card hidden!\n",
      "Eight  of Hearts\n",
      "\n",
      " player's hand:\n",
      "Four  of Hearts\n",
      "King  of Spades\n"
     ]
    },
    {
     "name": "stdin",
     "output_type": "stream",
     "text": [
      "Hit or Stand?Enter h or s s\n"
     ]
    },
    {
     "name": "stdout",
     "output_type": "stream",
     "text": [
      "Player stands dealer's turn\n",
      "\n",
      " Dealer's Hand:\n",
      "Fist card hidden!\n",
      "Eight  of Hearts\n",
      "\n",
      " player's hand:\n",
      "Four  of Hearts\n",
      "King  of Spades\n",
      "\n",
      " dealer's hand:\n",
      "Nine  of Spades\n",
      "Eight  of Hearts\n",
      "value of dealer's hand is: 17\n",
      "\n",
      " player's hand:\n",
      "Four  of Hearts\n",
      "King  of Spades\n",
      "value of player's hand is: 14\n",
      "dealer won\n",
      "\n",
      "Player total chips are at 97\n"
     ]
    },
    {
     "name": "stdin",
     "output_type": "stream",
     "text": [
      "Would you like to play another hand? Enter 'y' or 'n':  n\n"
     ]
    },
    {
     "name": "stdout",
     "output_type": "stream",
     "text": [
      "Thank you for playing\n",
      "Welcome to Blackjack\n",
      "Sorry please enetr an integer\n",
      "Sorry please enetr an integer\n",
      "Sorry please enetr an integer\n"
     ]
    }
   ],
   "source": [
    "while True:\n",
    "    print(\"Welcome to Blackjack\")\n",
    "    deck = Deck()\n",
    "    deck.shuffle()\n",
    "    player_hand = Hand()\n",
    "    player_hand.add_card(deck.deal())\n",
    "    player_hand.add_card(deck.deal())\n",
    "\n",
    "    dealer_hand = Hand()\n",
    "    dealer_hand.add_card(deck.deal())\n",
    "    dealer_hand.add_card(deck.deal())\n",
    "\n",
    "    # Set up player chips using the Chips class\n",
    "    player_chips = Chips()\n",
    "\n",
    "    # Prompt the player for their bet\n",
    "    take_bet(player_chips)\n",
    "\n",
    "    # Show cards (but keep the dealer's card hidden)\n",
    "    show_some(player_hand, dealer_hand)\n",
    "\n",
    "    playing = True  # Define playing as True here\n",
    "\n",
    "    while playing:\n",
    "        hit_or_stand(deck, player_hand)\n",
    "        show_some(player_hand, dealer_hand)\n",
    "        if player_hand.value > 21:\n",
    "            player_busts(player_hand, dealer_hand, player_chips)\n",
    "            break\n",
    "        if player_hand.value <= 21:\n",
    "            while dealer_hand.value < player_hand.value:\n",
    "                hit(deck, dealer_hand)\n",
    "            show_all(player_hand, dealer_hand)\n",
    "            if dealer_hand.value > 21:\n",
    "                dealer_busts(player_hand, dealer_hand, player_chips)\n",
    "            elif dealer_hand.value > player_hand.value:\n",
    "                dealer_wins(player_hand, dealer_hand, player_chips)\n",
    "            elif dealer_hand.value < player_hand.value:\n",
    "                player_wins(player_hand, dealer_hand, player_chips)\n",
    "            else:\n",
    "                push(player_hand, dealer_hand)\n",
    "\n",
    "        print(\"\\nPlayer total chips are at {}\".format(player_chips.total))\n",
    "\n",
    "        new_game = input(\"Would you like to play another hand? Enter 'y' or 'n': \")\n",
    "        if new_game[0].lower() == 'y':\n",
    "            continue\n",
    "        else:\n",
    "            print(\"Thank you for playing\")\n",
    "            break\n"
   ]
  },
  {
   "cell_type": "code",
   "execution_count": 3,
   "id": "7c3d8138-b287-4658-9165-12a62e752db0",
   "metadata": {},
   "outputs": [],
   "source": [
    "def create_cubes(n):\n",
    "    result=[]\n",
    "    for x in range(n):\n",
    "        result.append(x**3)\n",
    "    return result"
   ]
  },
  {
   "cell_type": "raw",
   "id": "be739a2f-3f33-4b61-a70c-c480dec161f8",
   "metadata": {},
   "source": []
  },
  {
   "cell_type": "code",
   "execution_count": 4,
   "id": "498e3474-a0d3-4ca1-83ef-319afa97d2c4",
   "metadata": {},
   "outputs": [
    {
     "name": "stdout",
     "output_type": "stream",
     "text": [
      "0\n",
      "1\n",
      "8\n",
      "27\n",
      "64\n",
      "125\n",
      "216\n",
      "343\n",
      "512\n",
      "729\n"
     ]
    }
   ],
   "source": [
    "for x in create_cubes(10):\n",
    "    print(x)"
   ]
  },
  {
   "cell_type": "code",
   "execution_count": null,
   "id": "f9e66c2e-8b8d-4980-8033-d5bc8c4d5c2f",
   "metadata": {},
   "outputs": [],
   "source": []
  }
 ],
 "metadata": {
  "kernelspec": {
   "display_name": "Python 3 (ipykernel)",
   "language": "python",
   "name": "python3"
  },
  "language_info": {
   "codemirror_mode": {
    "name": "ipython",
    "version": 3
   },
   "file_extension": ".py",
   "mimetype": "text/x-python",
   "name": "python",
   "nbconvert_exporter": "python",
   "pygments_lexer": "ipython3",
   "version": "3.11.4"
  }
 },
 "nbformat": 4,
 "nbformat_minor": 5
}
