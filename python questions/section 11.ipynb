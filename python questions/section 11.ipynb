{
 "cells": [
  {
   "cell_type": "code",
   "execution_count": 11,
   "id": "205e3e26-986f-4391-82d3-a83a6e9349d1",
   "metadata": {},
   "outputs": [],
   "source": [
    "#now as we can see suit and rank both are strings so it is very hard to compare them\n",
    "#like its very hard to compare one rank to another\n",
    "# so we will convert all the string rank values in integer form\n",
    "# so with the help of dictionary we can do it\n",
    "import random #importing to perform further random shuffles of card\n",
    "suits = ('Hearts', 'Diamonds','Spades','Clubs')\n",
    "ranks = ('Two','Three','Four','Five','Six','Seven','Eight','Nine','Ten','Jack','Queen','King','Ace')\n",
    "values={'Two':2,'Three':3,'Four':4,'Five':5,'Six':6,'Seven':7,'Eight':8,'Nine':9,'Ten':10,'Jack':11,'Queen':12,'King':13,'Ace':14}\n",
    "\n",
    "\n",
    "\n",
    "#to build a card game\n",
    "\n",
    "\n",
    "# first we will create a Card deck class\n",
    "\n",
    "class Card:\n",
    "    def __init__(self,suit,rank):#someone creates the card then they should provide the suit (symbol)of that card and rank of that card\n",
    "        self.suit=suit\n",
    "        self.rank=rank\n",
    "        self.values=values[rank]\n",
    "    def __str__(self):\n",
    "        return f'{self.rank} of {self.suit}'\n",
    " \n",
    "        "
   ]
  },
  {
   "cell_type": "code",
   "execution_count": 12,
   "id": "532b293b-7b0a-4337-8213-1196de66387a",
   "metadata": {},
   "outputs": [
    {
     "name": "stdout",
     "output_type": "stream",
     "text": [
      "Two of diamond\n",
      "Three of heart\n"
     ]
    }
   ],
   "source": [
    "card_details2=Card('diamond','Two')\n",
    "print(card_details2)\n",
    "card_details3=Card('heart','Three')\n",
    "print(card_details3)\n"
   ]
  },
  {
   "cell_type": "code",
   "execution_count": 13,
   "id": "0929b14b-7ec7-4e16-a29e-7ba6f60f53f9",
   "metadata": {},
   "outputs": [
    {
     "name": "stdout",
     "output_type": "stream",
     "text": [
      "diamond\n"
     ]
    },
    {
     "data": {
      "text/plain": [
       "'heart'"
      ]
     },
     "execution_count": 13,
     "metadata": {},
     "output_type": "execute_result"
    }
   ],
   "source": [
    "print(card_details2.suit)\n",
    "card_details3.suit"
   ]
  },
  {
   "cell_type": "code",
   "execution_count": 14,
   "id": "0a8b262c-03c6-40da-8dac-1e65cf04bae8",
   "metadata": {},
   "outputs": [
    {
     "name": "stdout",
     "output_type": "stream",
     "text": [
      "Two\n"
     ]
    },
    {
     "data": {
      "text/plain": [
       "'Three'"
      ]
     },
     "execution_count": 14,
     "metadata": {},
     "output_type": "execute_result"
    }
   ],
   "source": [
    "print(card_details2.rank)#i added this print statement because without it only the card details 3 value was coming as output\n",
    "card_details3.rank"
   ]
  },
  {
   "cell_type": "code",
   "execution_count": 15,
   "id": "2013b325-14c9-45a9-9a31-3c2c0b433cbe",
   "metadata": {},
   "outputs": [
    {
     "name": "stdout",
     "output_type": "stream",
     "text": [
      "2\n"
     ]
    },
    {
     "data": {
      "text/plain": [
       "3"
      ]
     },
     "execution_count": 15,
     "metadata": {},
     "output_type": "execute_result"
    }
   ],
   "source": [
    "# values[card_details.suit]===error because values does not contain suit values.. only rank value is defined there\n",
    "\n",
    "print(card_details2.values)\n",
    "card_details3.values"
   ]
  },
  {
   "cell_type": "code",
   "execution_count": 16,
   "id": "a724cab3-1062-417a-b9ce-e42b330fbb11",
   "metadata": {},
   "outputs": [
    {
     "data": {
      "text/plain": [
       "{'Two': 2,\n",
       " 'Three': 3,\n",
       " 'Four': 4,\n",
       " 'Five': 5,\n",
       " 'Six': 6,\n",
       " 'Seven': 7,\n",
       " 'Eight': 8,\n",
       " 'Nine': 9,\n",
       " 'Ten': 10,\n",
       " 'Jack': 11,\n",
       " 'Queen': 12,\n",
       " 'King': 13,\n",
       " 'Ace': 14}"
      ]
     },
     "execution_count": 16,
     "metadata": {},
     "output_type": "execute_result"
    }
   ],
   "source": [
    "values"
   ]
  },
  {
   "cell_type": "code",
   "execution_count": 17,
   "id": "37119d84-5345-4f5e-9393-7d873a29d12a",
   "metadata": {},
   "outputs": [
    {
     "name": "stdout",
     "output_type": "stream",
     "text": [
      "2\n"
     ]
    },
    {
     "data": {
      "text/plain": [
       "3"
      ]
     },
     "execution_count": 17,
     "metadata": {},
     "output_type": "execute_result"
    }
   ],
   "source": [
    "print(values[card_details2.rank])\n",
    "values[card_details3.rank]"
   ]
  },
  {
   "cell_type": "code",
   "execution_count": 18,
   "id": "5e5e7ef1-51a3-4a87-8712-9af528ac28a8",
   "metadata": {},
   "outputs": [
    {
     "data": {
      "text/plain": [
       "True"
      ]
     },
     "execution_count": 18,
     "metadata": {},
     "output_type": "execute_result"
    }
   ],
   "source": [
    "#now we can perform the comparison between two rank and check whether we can compare or not\n",
    "#i cannot compare card variavles directly because card_details2< card_details3 will give an error\n",
    "card_details2.values < card_details3.values"
   ]
  },
  {
   "cell_type": "code",
   "execution_count": 92,
   "id": "bc8d27c6-d2e9-4c21-a6cb-f35cf2404c25",
   "metadata": {},
   "outputs": [],
   "source": [
    "# class Deck:\n",
    "#     def __init__(self):\n",
    "#         self.all_cards= []#list of card will be and empty list\n",
    "#         for suit in suits:# this means for every heart,diamond, spade, club we will assign a rank\n",
    "#             for rank in ranks:#ranks assigned \n",
    "#                     #create the card object\n",
    "#                 created_card=Card(suit,rank)\n",
    "#                 self.all_cards.append(created_card)\n",
    "\n",
    "# # now after taking out all the outputs \n",
    "# #now as i am getting all the outputs straight i want to shuffle them\n",
    "#      def shuffle(self):\n",
    "#      random.shuffle(self.all_cards)\n",
    "class Deck:\n",
    "    def __init__(self):\n",
    "        self.all_cards = []\n",
    "        for suit in suits:\n",
    "            for rank in ranks:\n",
    "                created_card = Card(suit, rank)\n",
    "                self.all_cards.append(created_card)\n",
    "\n",
    "    def shuffle(self):\n",
    "        random.shuffle(self.all_cards)\n",
    "        #till here i created 52 cards and shuffle them all together\n",
    "    def deal_one(self):\n",
    "        return self.all_cards.pop()"
   ]
  },
  {
   "cell_type": "code",
   "execution_count": 93,
   "id": "1fed6c84-aed7-44d0-bc21-30aded8ae47d",
   "metadata": {},
   "outputs": [
    {
     "data": {
      "text/plain": [
       "[[<__main__.Card at 0x2d159054890>,\n",
       "  <__main__.Card at 0x2d159667e90>,\n",
       "  <__main__.Card at 0x2d1595b41d0>,\n",
       "  <__main__.Card at 0x2d159636210>,\n",
       "  <__main__.Card at 0x2d1596ac990>,\n",
       "  <__main__.Card at 0x2d1596af9d0>,\n",
       "  <__main__.Card at 0x2d1596af790>,\n",
       "  <__main__.Card at 0x2d1596afad0>,\n",
       "  <__main__.Card at 0x2d1596af110>,\n",
       "  <__main__.Card at 0x2d1596af5d0>,\n",
       "  <__main__.Card at 0x2d1596af8d0>,\n",
       "  <__main__.Card at 0x2d1596aff10>,\n",
       "  <__main__.Card at 0x2d1596adc50>,\n",
       "  <__main__.Card at 0x2d1596aff50>,\n",
       "  <__main__.Card at 0x2d1596afc10>,\n",
       "  <__main__.Card at 0x2d1596afb90>,\n",
       "  <__main__.Card at 0x2d1596af850>,\n",
       "  <__main__.Card at 0x2d1596afd90>,\n",
       "  <__main__.Card at 0x2d1596afd10>,\n",
       "  <__main__.Card at 0x2d1596afc90>,\n",
       "  <__main__.Card at 0x2d1596af450>,\n",
       "  <__main__.Card at 0x2d1596ae690>,\n",
       "  <__main__.Card at 0x2d1596ad490>,\n",
       "  <__main__.Card at 0x2d1596ae950>,\n",
       "  <__main__.Card at 0x2d1596ae6d0>,\n",
       "  <__main__.Card at 0x2d1596aec50>,\n",
       "  <__main__.Card at 0x2d1596ae3d0>,\n",
       "  <__main__.Card at 0x2d1596ae890>,\n",
       "  <__main__.Card at 0x2d1596ae510>,\n",
       "  <__main__.Card at 0x2d1596ae610>,\n",
       "  <__main__.Card at 0x2d1596add50>,\n",
       "  <__main__.Card at 0x2d1596ae2d0>,\n",
       "  <__main__.Card at 0x2d1596ae850>,\n",
       "  <__main__.Card at 0x2d1596aed50>,\n",
       "  <__main__.Card at 0x2d1596af250>,\n",
       "  <__main__.Card at 0x2d1596ae210>,\n",
       "  <__main__.Card at 0x2d1596afe90>,\n",
       "  <__main__.Card at 0x2d1596aec90>,\n",
       "  <__main__.Card at 0x2d1596ac5d0>,\n",
       "  <__main__.Card at 0x2d1596ae810>,\n",
       "  <__main__.Card at 0x2d1596af7d0>,\n",
       "  <__main__.Card at 0x2d1596adbd0>,\n",
       "  <__main__.Card at 0x2d1596affd0>,\n",
       "  <__main__.Card at 0x2d1596af4d0>,\n",
       "  <__main__.Card at 0x2d1596af510>,\n",
       "  <__main__.Card at 0x2d1596ae290>,\n",
       "  <__main__.Card at 0x2d1596ae0d0>,\n",
       "  <__main__.Card at 0x2d1596ae050>,\n",
       "  <__main__.Card at 0x2d1596afa50>,\n",
       "  <__main__.Card at 0x2d1596ad610>,\n",
       "  <__main__.Card at 0x2d1596bc910>,\n",
       "  <__main__.Card at 0x2d1596bc210>]]"
      ]
     },
     "execution_count": 93,
     "metadata": {},
     "output_type": "execute_result"
    }
   ],
   "source": [
    "new_deck =Deck()\n",
    "[new_deck.all_cards]"
   ]
  },
  {
   "cell_type": "code",
   "execution_count": 94,
   "id": "6d183d40-ba10-44f8-9a3f-e530d4e7366d",
   "metadata": {},
   "outputs": [],
   "source": [
    "first_cards=new_deck.all_cards[0]#it will show that these are stored somewhere in the memory so i assigned it to a variale"
   ]
  },
  {
   "cell_type": "code",
   "execution_count": 95,
   "id": "4de4b234-09e1-45f4-95ee-40785fd98e4b",
   "metadata": {},
   "outputs": [
    {
     "name": "stdout",
     "output_type": "stream",
     "text": [
      "Two of Hearts\n"
     ]
    }
   ],
   "source": [
    "print(first_cards)"
   ]
  },
  {
   "cell_type": "code",
   "execution_count": 96,
   "id": "a97c610d-607d-45d5-80da-abaef9a52f65",
   "metadata": {},
   "outputs": [
    {
     "name": "stdout",
     "output_type": "stream",
     "text": [
      "Ace of Clubs\n"
     ]
    }
   ],
   "source": [
    "bottom_cards=new_deck.all_cards[-1]#to get the top most card\n",
    "print(bottom_cards)"
   ]
  },
  {
   "cell_type": "code",
   "execution_count": 97,
   "id": "b7e619e5-2240-439b-9d5a-67bf3a694853",
   "metadata": {},
   "outputs": [
    {
     "name": "stdout",
     "output_type": "stream",
     "text": [
      "Two of Hearts\n",
      "Three of Hearts\n",
      "Four of Hearts\n",
      "Five of Hearts\n",
      "Six of Hearts\n",
      "Seven of Hearts\n",
      "Eight of Hearts\n",
      "Nine of Hearts\n",
      "Ten of Hearts\n",
      "Jack of Hearts\n",
      "Queen of Hearts\n",
      "King of Hearts\n",
      "Ace of Hearts\n",
      "Two of Diamonds\n",
      "Three of Diamonds\n",
      "Four of Diamonds\n",
      "Five of Diamonds\n",
      "Six of Diamonds\n",
      "Seven of Diamonds\n",
      "Eight of Diamonds\n",
      "Nine of Diamonds\n",
      "Ten of Diamonds\n",
      "Jack of Diamonds\n",
      "Queen of Diamonds\n",
      "King of Diamonds\n",
      "Ace of Diamonds\n",
      "Two of Spades\n",
      "Three of Spades\n",
      "Four of Spades\n",
      "Five of Spades\n",
      "Six of Spades\n",
      "Seven of Spades\n",
      "Eight of Spades\n",
      "Nine of Spades\n",
      "Ten of Spades\n",
      "Jack of Spades\n",
      "Queen of Spades\n",
      "King of Spades\n",
      "Ace of Spades\n",
      "Two of Clubs\n",
      "Three of Clubs\n",
      "Four of Clubs\n",
      "Five of Clubs\n",
      "Six of Clubs\n",
      "Seven of Clubs\n",
      "Eight of Clubs\n",
      "Nine of Clubs\n",
      "Ten of Clubs\n",
      "Jack of Clubs\n",
      "Queen of Clubs\n",
      "King of Clubs\n",
      "Ace of Clubs\n"
     ]
    }
   ],
   "source": [
    "for card_object in new_deck.all_cards:\n",
    "    print(card_object)"
   ]
  },
  {
   "cell_type": "code",
   "execution_count": 98,
   "id": "002bbd6c-8ba5-4158-afc5-8d3470491ba2",
   "metadata": {},
   "outputs": [],
   "source": [
    "mylist=[1,2,3,4,5]"
   ]
  },
  {
   "cell_type": "code",
   "execution_count": 99,
   "id": "deacf3d9-68ec-465c-bd5d-b855376d8afc",
   "metadata": {},
   "outputs": [],
   "source": [
    "random.shuffle(mylist)"
   ]
  },
  {
   "cell_type": "code",
   "execution_count": 100,
   "id": "125a2405-8da0-4357-93c6-aa45405747f3",
   "metadata": {},
   "outputs": [
    {
     "data": {
      "text/plain": [
       "[3, 4, 5, 2, 1]"
      ]
     },
     "execution_count": 100,
     "metadata": {},
     "output_type": "execute_result"
    }
   ],
   "source": [
    "mylist"
   ]
  },
  {
   "cell_type": "code",
   "execution_count": 101,
   "id": "983bbefd-4e67-4cfe-ab45-c11f0c9f573a",
   "metadata": {},
   "outputs": [
    {
     "name": "stdout",
     "output_type": "stream",
     "text": [
      "Three of Clubs\n"
     ]
    }
   ],
   "source": [
    "#after printing bottom card\n",
    "new_deck.shuffle()\n",
    "print(new_deck.all_cards[-1])"
   ]
  },
  {
   "cell_type": "code",
   "execution_count": 102,
   "id": "75b1de98-427c-4151-b396-fcc2216397e2",
   "metadata": {},
   "outputs": [],
   "source": [
    "#till above i was able to create all the 52 cards and shuffle them all together\n",
    "new_deck.shuffle()\n"
   ]
  },
  {
   "cell_type": "code",
   "execution_count": 103,
   "id": "2ac71792-9533-486c-b398-e50c22271778",
   "metadata": {},
   "outputs": [],
   "source": [
    "mycard = new_deck.deal_one()"
   ]
  },
  {
   "cell_type": "code",
   "execution_count": 104,
   "id": "22acaaf5-a494-4a25-be67-3012ee434f96",
   "metadata": {},
   "outputs": [
    {
     "name": "stdout",
     "output_type": "stream",
     "text": [
      "Two of Clubs\n"
     ]
    }
   ],
   "source": [
    "print(mycard)"
   ]
  },
  {
   "cell_type": "code",
   "execution_count": 105,
   "id": "b6a6dfd1-2116-4a8a-b044-8ec38b798448",
   "metadata": {},
   "outputs": [
    {
     "data": {
      "text/plain": [
       "51"
      ]
     },
     "execution_count": 105,
     "metadata": {},
     "output_type": "execute_result"
    }
   ],
   "source": [
    "len(new_deck.all_cards)#gives total no. of cards including 0"
   ]
  },
  {
   "cell_type": "code",
   "execution_count": 123,
   "id": "30d49f8a-24eb-44ad-b54a-f7b2d155d7a7",
   "metadata": {},
   "outputs": [],
   "source": [
    "#now we will create a player class\n",
    "class Player:\n",
    "    def __init__(self,name):\n",
    "        self.name=name\n",
    "        self.all_cards=[]\n",
    "    def remove_one(self):\n",
    "        return self.all_cards.pop(0)\n",
    "    def add_cards(self,new_cards):\n",
    "        if type(new_cards)== type([]):\n",
    "            self.all_cards.extend(new_cards)\n",
    "        else:\n",
    "            self.all_cards.append(new_cards)\n",
    "    def __str__(self):\n",
    "        return f'Player {self.name} has {len(self.all_cards)} cards.'\n",
    "        "
   ]
  },
  {
   "cell_type": "code",
   "execution_count": 124,
   "id": "e0f53ae2-7938-4c69-8df9-597124bc093c",
   "metadata": {},
   "outputs": [],
   "source": [
    "new_player= Player(\"Jose\")"
   ]
  },
  {
   "cell_type": "code",
   "execution_count": 129,
   "id": "62c26b57-a956-48e5-9b50-2100188791b6",
   "metadata": {},
   "outputs": [
    {
     "name": "stdout",
     "output_type": "stream",
     "text": [
      "Player Jose has 1 cards.\n"
     ]
    }
   ],
   "source": [
    "print(new_player)"
   ]
  },
  {
   "cell_type": "code",
   "execution_count": 130,
   "id": "c90c2536-4140-4ae1-9369-4d9e63a97ff9",
   "metadata": {},
   "outputs": [],
   "source": [
    "new_player.add_cards(mycard)"
   ]
  },
  {
   "cell_type": "code",
   "execution_count": 133,
   "id": "63ec754d-19d3-426b-9289-cc2bb11bd019",
   "metadata": {},
   "outputs": [
    {
     "name": "stdout",
     "output_type": "stream",
     "text": [
      "Two of Clubs\n"
     ]
    }
   ],
   "source": [
    "print(new_player.all_cards[0])"
   ]
  },
  {
   "cell_type": "code",
   "execution_count": 134,
   "id": "320aa20a-0f42-4e06-befd-ac19222ff306",
   "metadata": {},
   "outputs": [
    {
     "name": "stdout",
     "output_type": "stream",
     "text": [
      "Two of Clubs\n"
     ]
    }
   ],
   "source": [
    "print(mycard)"
   ]
  },
  {
   "cell_type": "code",
   "execution_count": 136,
   "id": "d66f822c-ba8d-4ff8-be1b-1158cb77bf2b",
   "metadata": {},
   "outputs": [],
   "source": [
    "new_player.add_cards([mycard,mycard,mycard])"
   ]
  },
  {
   "cell_type": "code",
   "execution_count": 137,
   "id": "36bf107e-18db-4500-82eb-6258c7c797df",
   "metadata": {},
   "outputs": [
    {
     "name": "stdout",
     "output_type": "stream",
     "text": [
      "Player Jose has 8 cards.\n"
     ]
    }
   ],
   "source": [
    "print(new_player)"
   ]
  },
  {
   "cell_type": "code",
   "execution_count": 138,
   "id": "3afd4a00-26df-4606-94bd-1414c7a35d88",
   "metadata": {},
   "outputs": [
    {
     "data": {
      "text/plain": [
       "<__main__.Card at 0x2d1596ae810>"
      ]
     },
     "execution_count": 138,
     "metadata": {},
     "output_type": "execute_result"
    }
   ],
   "source": [
    "new_player.remove_one()"
   ]
  },
  {
   "cell_type": "code",
   "execution_count": 139,
   "id": "d5cbf5df-5f45-42ed-be18-177b45325bef",
   "metadata": {},
   "outputs": [
    {
     "name": "stdout",
     "output_type": "stream",
     "text": [
      "Player Jose has 7 cards.\n"
     ]
    }
   ],
   "source": [
    "print(new_player)"
   ]
  },
  {
   "cell_type": "code",
   "execution_count": 147,
   "id": "988521ae-04a2-428f-90e7-8e32cdda6837",
   "metadata": {},
   "outputs": [],
   "source": [
    "#game logic\n",
    "#two parts=1st geme setup\n",
    "player_one =Player(\"One\")\n",
    "player_two =Player(\"Two\")\n",
    "new_deck=Deck()\n",
    "new_deck.shuffle()\n",
    "for x in range(26):\n",
    "    player_one.add_cards(new_deck.deal_one())\n",
    "    player_two.add_cards(new_deck.deal_one())"
   ]
  },
  {
   "cell_type": "code",
   "execution_count": null,
   "id": "6af7d9fd-0fce-4adb-8a4b-3f1244a61173",
   "metadata": {},
   "outputs": [],
   "source": [
    "game_on =True"
   ]
  },
  {
   "cell_type": "code",
   "execution_count": 164,
   "id": "efbd12f3-8266-488d-9e54-ce8ed3c77c77",
   "metadata": {
    "scrolled": true
   },
   "outputs": [
    {
     "name": "stdout",
     "output_type": "stream",
     "text": [
      "Round 1\n",
      "Player One is out of cards! Player Two wins!\n"
     ]
    }
   ],
   "source": [
    "round_num = 0\n",
    "game_on = True\n",
    "while game_on:\n",
    "    round_num += 1\n",
    "    print(f'Round {round_num}')\n",
    "\n",
    "    if len(player_one.all_cards) == 0:\n",
    "        print('Player One is out of cards! Player Two wins!')\n",
    "        game_on = False\n",
    "        break\n",
    "    if len(player_two.all_cards) == 0:\n",
    "        print('Player Two is out of cards! Player One wins!')\n",
    "        game_on = False\n",
    "        break\n",
    "\n",
    "    player_one_cards = [player_one.remove_one()]\n",
    "    player_two_cards = [player_two.remove_one()]\n",
    "\n",
    "    at_war = True\n",
    "    while at_war:\n",
    "        if player_one_cards[-1].value > player_two_cards[-1].value:\n",
    "            player_one.add_cards(player_one_cards)\n",
    "            player_two.add_cards(player_two_cards)\n",
    "            at_war = False\n",
    "        elif player_one_cards[-1].value < player_two_cards[-1].value:\n",
    "            player_two.add_cards(player_one_cards)\n",
    "            player_two.add_cards(player_two_cards)\n",
    "            at_war = False\n",
    "        else:\n",
    "            print(\"War!\")\n",
    "\n",
    "            if len(player_one.all_cards) < 3:\n",
    "                print(\"Player 1 unable to declare war\")\n",
    "                print(\"Player 2 wins\")\n",
    "                game_on = False\n",
    "                break\n",
    "            else:\n",
    "                for num in range(3):\n",
    "                    player_one_cards.append(player_one.remove_one())\n",
    "                    player_two_cards.append(player_two.remove_one())\n"
   ]
  },
  {
   "cell_type": "code",
   "execution_count": null,
   "id": "80db81c6-d64b-4f51-8a1f-b9b6b2de1621",
   "metadata": {},
   "outputs": [],
   "source": []
  },
  {
   "cell_type": "code",
   "execution_count": null,
   "id": "fd5c2d7e-9a00-4dd4-a233-cfa31713442d",
   "metadata": {},
   "outputs": [],
   "source": []
  },
  {
   "cell_type": "code",
   "execution_count": null,
   "id": "a56451b2-d06d-4038-8bf5-13228485909e",
   "metadata": {},
   "outputs": [],
   "source": []
  }
 ],
 "metadata": {
  "kernelspec": {
   "display_name": "Python 3 (ipykernel)",
   "language": "python",
   "name": "python3"
  },
  "language_info": {
   "codemirror_mode": {
    "name": "ipython",
    "version": 3
   },
   "file_extension": ".py",
   "mimetype": "text/x-python",
   "name": "python",
   "nbconvert_exporter": "python",
   "pygments_lexer": "ipython3",
   "version": "3.11.4"
  }
 },
 "nbformat": 4,
 "nbformat_minor": 5
}
