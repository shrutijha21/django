{
 "cells": [
  {
   "cell_type": "code",
   "execution_count": 3,
   "id": "08297b41-c787-485c-98e3-9cb6d60807d3",
   "metadata": {},
   "outputs": [],
   "source": [
    "def user_input():\n",
    "    choice = 'Wrong'\n",
    "    while choice.isdigit() == False:\n",
    "        choice = input(\"enter a no. between 1 to 10\")\n",
    "        if choice.isdigit() == False:\n",
    "            print(\"Sorry that is not a digit!\")\n",
    "    return int(choice)\n",
    "    "
   ]
  },
  {
   "cell_type": "code",
   "execution_count": 5,
   "id": "d013f35e-6546-43ac-bcfb-f7998b33f61e",
   "metadata": {},
   "outputs": [
    {
     "name": "stdin",
     "output_type": "stream",
     "text": [
      "enter a no. between 1 to 10 3\n"
     ]
    },
    {
     "data": {
      "text/plain": [
       "3"
      ]
     },
     "execution_count": 5,
     "metadata": {},
     "output_type": "execute_result"
    }
   ],
   "source": [
    "user_input()"
   ]
  },
  {
   "cell_type": "code",
   "execution_count": 6,
   "id": "94ba008d-7778-463c-9e65-4c8fa3bd6c81",
   "metadata": {},
   "outputs": [],
   "source": [
    "result=\"WRONG VALUE\""
   ]
  },
  {
   "cell_type": "code",
   "execution_count": 7,
   "id": "b7bf93ad-1d21-4245-b1b6-39752ad51d03",
   "metadata": {},
   "outputs": [],
   "source": [
    "acceptable_values=[1,0,2]"
   ]
  },
  {
   "cell_type": "code",
   "execution_count": 8,
   "id": "e486bbb9-1cd2-4119-8a2d-14a1745e2fbe",
   "metadata": {},
   "outputs": [
    {
     "data": {
      "text/plain": [
       "False"
      ]
     },
     "execution_count": 8,
     "metadata": {},
     "output_type": "execute_result"
    }
   ],
   "source": [
    "result in acceptable_values\n"
   ]
  },
  {
   "cell_type": "code",
   "execution_count": 9,
   "id": "2940dded-5935-440b-ba4a-5c2c0fb69422",
   "metadata": {},
   "outputs": [
    {
     "data": {
      "text/plain": [
       "True"
      ]
     },
     "execution_count": 9,
     "metadata": {},
     "output_type": "execute_result"
    }
   ],
   "source": [
    "result not in acceptable_values"
   ]
  },
  {
   "cell_type": "code",
   "execution_count": 10,
   "id": "912d9f20-82b8-41b7-972f-052166482667",
   "metadata": {},
   "outputs": [],
   "source": [
    "def user_input():\n",
    "    #variable\n",
    "    #initials\n",
    "    choice = 'Wrong'\n",
    "    acceptable_range= range(0,10)\n",
    "    within_range = False\n",
    "    #conditions\n",
    "    #digit or withing range==false\n",
    "     \n",
    "    while choice.isdigit() == False or within_range == False:\n",
    "        choice = input(\"enter a no. between 1 to 10\")\n",
    "\n",
    "        #digit check\n",
    "        if choice.isdigit() == False:\n",
    "            print(\"Sorry that is not a digit!\")\n",
    "        #range check after checking the input is a digit or not\n",
    "        if choice.isdigit() ==  True:\n",
    "            if int(choice) in acceptable_range:\n",
    "                withing_range = True\n",
    "                break\n",
    "            else:\n",
    "                within_range = False\n",
    "                print(\"sorry you are out of range\")\n",
    "    return int(choice)\n",
    "    "
   ]
  },
  {
   "cell_type": "code",
   "execution_count": 12,
   "id": "ee5426a7-e487-4836-856b-3cd56d126c4c",
   "metadata": {},
   "outputs": [
    {
     "name": "stdin",
     "output_type": "stream",
     "text": [
      "enter a no. between 1 to 10 11\n"
     ]
    },
    {
     "name": "stdout",
     "output_type": "stream",
     "text": [
      "sorry you are out of range\n"
     ]
    },
    {
     "name": "stdin",
     "output_type": "stream",
     "text": [
      "enter a no. between 1 to 10 8\n"
     ]
    },
    {
     "data": {
      "text/plain": [
       "8"
      ]
     },
     "execution_count": 12,
     "metadata": {},
     "output_type": "execute_result"
    }
   ],
   "source": [
    "user_input()"
   ]
  },
  {
   "cell_type": "code",
   "execution_count": 16,
   "id": "9e25168c-aa5c-413a-8433-789af7980fc8",
   "metadata": {},
   "outputs": [],
   "source": [
    "game_list=[0,1,2]"
   ]
  },
  {
   "cell_type": "code",
   "execution_count": 17,
   "id": "14ba2eb0-f402-4729-8d9b-de24dbfecb03",
   "metadata": {},
   "outputs": [],
   "source": [
    "def display_game(game_list):#take in gamelist  variable\n",
    "    print(\"here is the current list:\")\n",
    "    print(game_list)"
   ]
  },
  {
   "cell_type": "code",
   "execution_count": 20,
   "id": "1deb529d-ab68-430c-9851-d651442e0641",
   "metadata": {},
   "outputs": [
    {
     "name": "stdout",
     "output_type": "stream",
     "text": [
      "here is the current list:\n",
      "[0, 1, 2]\n"
     ]
    }
   ],
   "source": [
    "display_game(game_list)"
   ]
  },
  {
   "cell_type": "code",
   "execution_count": 23,
   "id": "4fe601f8-d24b-4307-9898-f9f73b1b4aa8",
   "metadata": {},
   "outputs": [],
   "source": [
    "def  position_choice():\n",
    "    choice='wrong'#we are keeing the first choice as wrong\n",
    "    while choice not in ['0','1','2']:\n",
    "        choice=input(\"pick a position 0,1 or 2\")#asking for index number\n",
    "        if choice not in ['0','1','2']:\n",
    "            print(\"invalid choice\")\n",
    "    return int(choice)"
   ]
  },
  {
   "cell_type": "code",
   "execution_count": 24,
   "id": "bb0e189e-4542-45ea-89a0-ef8201bae1ca",
   "metadata": {},
   "outputs": [
    {
     "name": "stdin",
     "output_type": "stream",
     "text": [
      "pick a position 0,1 or 2 1\n"
     ]
    },
    {
     "data": {
      "text/plain": [
       "1"
      ]
     },
     "execution_count": 24,
     "metadata": {},
     "output_type": "execute_result"
    }
   ],
   "source": [
    "position_choice()"
   ]
  },
  {
   "cell_type": "code",
   "execution_count": 29,
   "id": "71dd2d14-c613-4190-b0d3-e1d6f49472a8",
   "metadata": {},
   "outputs": [],
   "source": [
    "def replacement_choice(game_list,position):#now here after the input is taken they have to choose the replacement value\n",
    "#the replacement value will be choosen here and inserted\n",
    "#gamelist and position are 2 variables taken and position value is entered by the user in upper function\n",
    "    user_placement= input(\"type a string to place at position:\")\n",
    "    game_list[position] = user_placement #replacement input is saved as\n",
    "    return game_list\n",
    "    "
   ]
  },
  {
   "cell_type": "code",
   "execution_count": 30,
   "id": "156e29a5-2214-47fa-b803-59d21a5dcf81",
   "metadata": {},
   "outputs": [
    {
     "name": "stdin",
     "output_type": "stream",
     "text": [
      "type a string to place at position: yoyoyo\n"
     ]
    },
    {
     "data": {
      "text/plain": [
       "[0, 'yoyoyo', 2]"
      ]
     },
     "execution_count": 30,
     "metadata": {},
     "output_type": "execute_result"
    }
   ],
   "source": [
    "replacement_choice(game_list,1)# we are manually giving the position and saving the input in that index"
   ]
  },
  {
   "cell_type": "code",
   "execution_count": 33,
   "id": "9b6fe11a-2afe-4f8b-a7c4-93939c6dc37b",
   "metadata": {},
   "outputs": [],
   "source": [
    "def gameon_choice():\n",
    "    choice=\"wrong\"\n",
    "    while choice not in ['Y','N']:\n",
    "        choice= input(\"keep playing?\")\n",
    "        if choice not in ['Y','N']:\n",
    "            print(\"SORRY I DONT UNDERSTAND PLEASE CHOOSE THE VALID OPTIONS\")\n",
    "\n",
    "        if choice == 'Y':\n",
    "            return True\n",
    "        else:\n",
    "            return False\n",
    "                "
   ]
  },
  {
   "cell_type": "markdown",
   "id": "ffd39fc4-5017-49b9-97dd-eb080a2d3db2",
   "metadata": {},
   "source": []
  },
  {
   "cell_type": "code",
   "execution_count": 34,
   "id": "90b96b31-d26e-4356-94d4-1d47f0aaf3bb",
   "metadata": {},
   "outputs": [
    {
     "name": "stdin",
     "output_type": "stream",
     "text": [
      "keep playing? Y\n"
     ]
    },
    {
     "data": {
      "text/plain": [
       "True"
      ]
     },
     "execution_count": 34,
     "metadata": {},
     "output_type": "execute_result"
    }
   ],
   "source": [
    "gameon_choice()"
   ]
  },
  {
   "cell_type": "code",
   "execution_count": 41,
   "id": "50809af0-89a1-484c-bb12-9b9d4a01803d",
   "metadata": {},
   "outputs": [
    {
     "name": "stdout",
     "output_type": "stream",
     "text": [
      "here is the current list:\n",
      "[0, 1, 2]\n"
     ]
    },
    {
     "name": "stdin",
     "output_type": "stream",
     "text": [
      "pick a position 0,1 or 2 2\n",
      "type a string to place at position: shruti\n"
     ]
    },
    {
     "name": "stdout",
     "output_type": "stream",
     "text": [
      "here is the current list:\n",
      "[0, 1, 'shruti']\n"
     ]
    },
    {
     "name": "stdin",
     "output_type": "stream",
     "text": [
      "keep playing? N\n"
     ]
    }
   ],
   "source": [
    "game_on=True\n",
    "game_list=[0,1,2]\n",
    "while game_on:\n",
    "    display_game(game_list)\n",
    "    position=position_choice()#to select and store the index number \n",
    "    game_list=replacement_choice(game_list,position)#as it returns the replacement value\n",
    "    display_game(game_list)\n",
    "    game_on=gameon_choice()# to stop the loop of games if the user wants"
   ]
  },
  {
   "cell_type": "code",
   "execution_count": 113,
   "id": "c21971c1-5a16-47c8-8842-e5901bffbe63",
   "metadata": {
    "scrolled": true
   },
   "outputs": [],
   "source": [
    "from IPython.display import clear_output\n",
    "def display_board(board):\n",
    "    clear_output() #used to clear the output from the previous board because we are calling display board for multiple times so it has a lot of history with it\n",
    "    print(board[7]+'|'+board[8]+'|'+board[9])#to display board according to the key number\n",
    "    print(board[4]+'|'+board[5]+'|'+board[6])\n",
    "    print(board[1]+'|'+board[2]+'|'+board[3])"
   ]
  },
  {
   "cell_type": "code",
   "execution_count": 114,
   "id": "41d42294-fd49-4e21-803c-b0371e0187d7",
   "metadata": {},
   "outputs": [
    {
     "name": "stdout",
     "output_type": "stream",
     "text": [
      "X|O|X\n",
      "O|X|O\n",
      "X|O|X\n"
     ]
    }
   ],
   "source": [
    "# test_board =[' ']*10 \n",
    "test_board =['#','X','O','X','O','X','O','X','O','X']\n",
    "display_board(test_board)"
   ]
  },
  {
   "cell_type": "code",
   "execution_count": 115,
   "id": "f344dc15-d0a5-4b58-a0a0-87a4dad40af9",
   "metadata": {},
   "outputs": [],
   "source": [
    "def user_input():\n",
    "    marker = 'wrong'\n",
    "    \n",
    "    # For player 1\n",
    "    while marker not in ['O', 'X']:\n",
    "        marker = input(\"Player 1, please enter 'X' or 'O': \").upper()#i added upper afterwards\n",
    "        # Convert input to uppercase\n",
    "    \n",
    "    player1 = marker\n",
    "    \n",
    "    # Assign player 2 the opposite marker\n",
    "    if player1 == 'X':\n",
    "        player2 = 'O'\n",
    "    else:\n",
    "        player2 = 'X'\n",
    "    \n",
    "    return (player1, player2)\n",
    "\n",
    "\n",
    "\n",
    "\n",
    "# in ['O','X']:\n",
    "#             return True\n",
    "#         else:\n",
    "#             print (\"sorry i dont understand\")\n",
    "#             return False"
   ]
  },
  {
   "cell_type": "code",
   "execution_count": 78,
   "id": "5cc754df-4237-4059-9cf8-947caad505d0",
   "metadata": {
    "scrolled": true
   },
   "outputs": [
    {
     "name": "stdin",
     "output_type": "stream",
     "text": [
      "Player 1, please enter 'X' or 'O':  x\n"
     ]
    }
   ],
   "source": [
    "\n",
    "player1_marker,player2_marker=user_input()#to store and see player input after wards\n"
   ]
  },
  {
   "cell_type": "code",
   "execution_count": 80,
   "id": "7a5e29ea-8354-49b7-8654-8ee3bf64aa48",
   "metadata": {},
   "outputs": [
    {
     "data": {
      "text/plain": [
       "'X'"
      ]
     },
     "execution_count": 80,
     "metadata": {},
     "output_type": "execute_result"
    }
   ],
   "source": [
    "player1_marker#the above is not showing the output as it is stored in a variable"
   ]
  },
  {
   "cell_type": "code",
   "execution_count": 102,
   "id": "bd1fb7fd-f523-492b-9e99-41b8b627c71b",
   "metadata": {},
   "outputs": [],
   "source": [
    "# def position_choice(test_board,position):\n",
    "#     choice='wrong'\n",
    "#     while choice not in ['1','2','3','4','5','6','7','8','9']:\n",
    "#         choice= input(\"enter the place location where you want to see 'X' or 'O'\")\n",
    "#                   #for player1\n",
    "#         if choice in ['1','2','3','4','5','6','7','8','9']:\n",
    "#                       return True\n",
    "#         else:\n",
    "#                       print(\"invalid input choose between 1 to 9\")\n",
    "#                       # return False ----->removed this false statement because it was simply returning \n",
    "#     # false and not askin for the input again\n",
    "#     return False"
   ]
  },
  {
   "cell_type": "code",
   "execution_count": 103,
   "id": "41d2bee3-6eaf-4112-87db-62eb41f0c281",
   "metadata": {},
   "outputs": [
    {
     "name": "stdin",
     "output_type": "stream",
     "text": [
      "enter the place location where you want to see 'X' or 'O' 0\n"
     ]
    },
    {
     "name": "stdout",
     "output_type": "stream",
     "text": [
      "invalid input choose between 1 to 9\n"
     ]
    },
    {
     "name": "stdin",
     "output_type": "stream",
     "text": [
      "enter the place location where you want to see 'X' or 'O' 9\n"
     ]
    },
    {
     "data": {
      "text/plain": [
       "True"
      ]
     },
     "execution_count": 103,
     "metadata": {},
     "output_type": "execute_result"
    }
   ],
   "source": [
    "position_choice(test_board,2)"
   ]
  },
  {
   "cell_type": "code",
   "execution_count": 123,
   "id": "db015b63-1359-4917-a056-e2bf6187ca13",
   "metadata": {},
   "outputs": [],
   "source": [
    "def place_marker(board,marker,position):\n",
    "    board[position] = marker"
   ]
  },
  {
   "cell_type": "code",
   "execution_count": 124,
   "id": "b7a33307-3e98-4aaf-9c12-f9dfddfca168",
   "metadata": {},
   "outputs": [
    {
     "data": {
      "text/plain": [
       "['#', 'X', 'O', 'X', 'O', 'X', 'O', 'X', 'O', 'X']"
      ]
     },
     "execution_count": 124,
     "metadata": {},
     "output_type": "execute_result"
    }
   ],
   "source": [
    "test_board"
   ]
  },
  {
   "cell_type": "code",
   "execution_count": 125,
   "id": "f1e66383-da86-4078-be22-0fd2d44a3695",
   "metadata": {
    "scrolled": true
   },
   "outputs": [
    {
     "name": "stdout",
     "output_type": "stream",
     "text": [
      "X|$|X\n",
      "O|X|O\n",
      "X|O|X\n"
     ]
    }
   ],
   "source": [
    "place_marker(test_board,'$',8)\n",
    "display_board(test_board)"
   ]
  },
  {
   "cell_type": "code",
   "execution_count": 131,
   "id": "56ce0b22-a9ab-41ed-914c-5aa3d60eda9a",
   "metadata": {},
   "outputs": [],
   "source": [
    "def win_check(board, mark):\n",
    "    #win tic tac toe?\n",
    "    #all rows, and check to see if they all share the same marker\n",
    "    #pehle general straight check kiya\n",
    "    return ((board[1]== mark and board[2]==mark and board[3]==mark) or\n",
    "    (board[4]== mark and board[5]==mark and board[6]==mark) or\n",
    "    (board[7]== mark and board[8]==mark and board[9]==mark) or\n",
    "    #AB sides mai straight check krna hai\n",
    "    (board[1]== mark and board[4]==mark and board[7]==mark) or\n",
    "    (board[3]== mark and board[6]==mark and board[9]==mark) or\n",
    "\n",
    "     #ab diagonals\n",
    "    (board[1]== mark and board[5]==mark and board[9]==mark) or\n",
    "    (board[3]== mark and board[5]==mark and board[7]==mark)) "
   ]
  },
  {
   "cell_type": "code",
   "execution_count": 134,
   "id": "7c3f1803-7fb8-4f50-977c-db8be43938eb",
   "metadata": {},
   "outputs": [
    {
     "name": "stdout",
     "output_type": "stream",
     "text": [
      "X|$|X\n",
      "O|X|O\n",
      "X|O|X\n"
     ]
    }
   ],
   "source": [
    "win_check(test_board,'X')\n",
    "display_board(test_board)"
   ]
  },
  {
   "cell_type": "code",
   "execution_count": 153,
   "id": "96f0f0ef-e27a-49ee-a699-2a8b9d7640ae",
   "metadata": {},
   "outputs": [],
   "source": [
    "#decide randome module to decide which player goes first\n",
    "import random\n",
    "\n",
    "def choose_first():\n",
    "    flip = random.randint(0, 1)\n",
    "    if flip == 0:\n",
    "        return 'Player 1'\n",
    "    else:\n",
    "        return 'Player 2'\n"
   ]
  },
  {
   "cell_type": "code",
   "execution_count": 158,
   "id": "4edfacf6-0ff3-434c-8143-91c763b60e0b",
   "metadata": {},
   "outputs": [],
   "source": [
    "#write a function that returns a boolean to indicate whether a space on a board is available or not\n",
    "def space_check(board, position):\n",
    "    return board[position] == ' '"
   ]
  },
  {
   "cell_type": "code",
   "execution_count": 181,
   "id": "33741fb3-8b58-4ec4-bf10-b5a203f31848",
   "metadata": {},
   "outputs": [],
   "source": [
    "#to check if board is full ,true for full and false if empty\n",
    "def full_board_check(board):\n",
    "    for i in range(1, 10):\n",
    "        if space_check(board, i):\n",
    "            return False\n",
    "    return True\n"
   ]
  },
  {
   "cell_type": "code",
   "execution_count": 182,
   "id": "18a3b2dc-55b0-4854-84a3-1b4eff0ae943",
   "metadata": {},
   "outputs": [],
   "source": [
    "def player_choice(board):\n",
    "    position = 0\n",
    "    while position not in [1, 2, 3, 4, 5, 6, 7, 8, 9] or not space_check(board, position):\n",
    "        position = int(input('Choose a position: (1-9) '))\n",
    "    return position # to save the input in the given index so we ask for the position"
   ]
  },
  {
   "cell_type": "code",
   "execution_count": 183,
   "id": "e6c16919-478e-4bf8-a12e-5e2aa16e0a39",
   "metadata": {},
   "outputs": [],
   "source": [
    "#to ask the user if he wants to play again\n",
    "\n",
    "def replay():\n",
    "   choice= input('play again press yes or no')\n",
    "   return choice == 'Yes'\n",
    "    "
   ]
  },
  {
   "cell_type": "code",
   "execution_count": null,
   "id": "e0161919-1f07-43fc-9f2c-fe908a435e66",
   "metadata": {},
   "outputs": [
    {
     "name": "stdout",
     "output_type": "stream",
     "text": [
      "O|X|O\n",
      "X|O|X\n",
      "X|O|X\n",
      "Tie game\n"
     ]
    }
   ],
   "source": [
    "# The game loop\n",
    "while True:\n",
    "    # Initialize the game board\n",
    "    the_board = [' '] * 10\n",
    "    \n",
    "    # Get player markers\n",
    "    player1_marker, player2_marker = user_input()\n",
    "    \n",
    "    # Randomly choose starting player\n",
    "    turn = choose_first()\n",
    "    print(turn + ' will go first')\n",
    "    \n",
    "    # Ask if players are ready\n",
    "    play_game = input('Ready to play? y or n?')\n",
    "    \n",
    "    # Start the game if players are ready\n",
    "    if play_game == 'y':\n",
    "        game_on = True\n",
    "    else:\n",
    "        game_on = False\n",
    "        \n",
    "    # Main game loop\n",
    "    while game_on:\n",
    "        if turn == 'Player 1':\n",
    "            # Display the board\n",
    "            display_board(the_board)\n",
    "            \n",
    "            # Player 1's turn\n",
    "            position = player_choice(the_board)\n",
    "            place_marker(the_board, player1_marker, position)\n",
    "\n",
    "            if win_check(the_board, player1_marker):\n",
    "                display_board(the_board)\n",
    "                print('Player 1 has won!')\n",
    "                game_on = False\n",
    "            else:\n",
    "                if full_board_check(the_board):\n",
    "                    display_board(the_board)\n",
    "                    print(\"Tie game\")\n",
    "                    game_on = False\n",
    "                else:\n",
    "                    turn = 'Player 2'\n",
    "        else:\n",
    "            # Display the board\n",
    "            display_board(the_board)\n",
    "            \n",
    "            # Player 2's turn\n",
    "            position = player_choice(the_board)\n",
    "            place_marker(the_board, player2_marker, position)\n",
    "\n",
    "            if win_check(the_board, player2_marker):\n",
    "                display_board(the_board)\n",
    "                print('Player 2 has won!')\n",
    "                game_on = False\n",
    "            else:\n",
    "                if full_board_check(the_board):\n",
    "                    display_board(the_board)\n",
    "                    print(\"Tie game\")\n",
    "                    game_on = False\n",
    "                else:\n",
    "                    turn = 'Player 1'\n",
    "                    \n",
    "    # Ask for replay\n",
    "    if not replay():\n",
    "        break\n"
   ]
  },
  {
   "cell_type": "code",
   "execution_count": null,
   "id": "bc5cd4c3-6760-43df-acde-f375ed11d733",
   "metadata": {},
   "outputs": [],
   "source": []
  }
 ],
 "metadata": {
  "kernelspec": {
   "display_name": "Python 3 (ipykernel)",
   "language": "python",
   "name": "python3"
  },
  "language_info": {
   "codemirror_mode": {
    "name": "ipython",
    "version": 3
   },
   "file_extension": ".py",
   "mimetype": "text/x-python",
   "name": "python",
   "nbconvert_exporter": "python",
   "pygments_lexer": "ipython3",
   "version": "3.11.4"
  }
 },
 "nbformat": 4,
 "nbformat_minor": 5
}
